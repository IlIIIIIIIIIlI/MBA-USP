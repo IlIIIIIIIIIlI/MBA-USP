{
 "cells": [
  {
   "cell_type": "markdown",
   "id": "8d4a113d-2337-4af8-8f96-274f2d6c9197",
   "metadata": {},
   "source": [
    "# Introdução ao Deep Learning"
   ]
  },
  {
   "cell_type": "markdown",
   "id": "d1a9df77-561d-41b1-b3b2-95537c400ff2",
   "metadata": {},
   "source": [
    "## Como funciona uma rede neural"
   ]
  },
  {
   "cell_type": "markdown",
   "id": "89483815-da84-4d4c-b8df-8c68c9a3d875",
   "metadata": {},
   "source": [
    "Cada neurônio recebe dados de entrada ou da camada anterior. Podemos pensar na rede neural como uma \"generalização\" do conceito de regressão.\n",
    "\n"
   ]
  },
  {
   "cell_type": "markdown",
   "id": "9499ac4f-c254-428a-97ba-a0c253dcb942",
   "metadata": {},
   "source": [
    "## Rede neural rasa\n",
    "\n",
    "É uma rede neural que só tem uma camada intermediária.\n",
    "\n",
    "![Exemplo de rede neural](Redes_neurais_1.png)"
   ]
  },
  {
   "cell_type": "markdown",
   "id": "8f510481-f401-472b-9839-5bee70bcdada",
   "metadata": {},
   "source": [
    "Na imagem, a cada passo é feita uma combinação linear das variáveis."
   ]
  },
  {
   "cell_type": "markdown",
   "id": "a2729cc5-9de1-4885-abb7-1151c8a78713",
   "metadata": {},
   "source": [
    "## Rede neural profunda"
   ]
  },
  {
   "cell_type": "markdown",
   "id": "7cd26e4c-c969-4421-9a2b-9a2ef2a3b762",
   "metadata": {},
   "source": [
    "![](deep_neural_network.png)"
   ]
  },
  {
   "cell_type": "markdown",
   "id": "b318dc6a-3fb2-4b85-a786-346881257f75",
   "metadata": {},
   "source": [
    "## Função de ativação"
   ]
  },
  {
   "cell_type": "markdown",
   "id": "9059e1a9-f58d-4aff-b9a5-768527da4bac",
   "metadata": {},
   "source": [
    "![Exemplo de função de ativação](funcao_de_ativacao.png)"
   ]
  },
  {
   "cell_type": "markdown",
   "id": "902d2594-863a-4ed4-b314-a040116e087b",
   "metadata": {},
   "source": [
    "Alguns exemplos de função de ativação:\n",
    "\n",
    "- Função ReLU\n",
    "- Função sigmoide (ótima para dar probabilidades como output)\n",
    "- Função linear (não processa os dados, é equivalente a multiplicar por 1)"
   ]
  },
  {
   "cell_type": "markdown",
   "id": "99b7601f-1f4f-4ee0-939d-2ef7668c1823",
   "metadata": {},
   "source": [
    "## Rede Neural Multicamada"
   ]
  },
  {
   "cell_type": "markdown",
   "id": "1e2f9104-bfa4-4039-85e4-ae56c497d4f1",
   "metadata": {},
   "source": [
    "As redes neurais tem a capacidade de criar funções muito não lineares, coisas que os modelos de regressão mais simples não conseguem fazer. Com mais camadas, podemos criar funções não lineares. No caso de várias camadas, obtém-se o que é chamado de aprendizado profundo (deep learning)."
   ]
  },
  {
   "cell_type": "markdown",
   "id": "99ad62bd-7017-41b2-85da-27d73e17426e",
   "metadata": {},
   "source": [
    "![Estrutura0](Estrutura.png)"
   ]
  },
  {
   "cell_type": "markdown",
   "id": "7460553a-812c-4305-b18d-81531713f9bc",
   "metadata": {},
   "source": [
    "# Anotações"
   ]
  },
  {
   "cell_type": "markdown",
   "id": "3a9f1963-1367-4a27-b36b-c04fead4f7b9",
   "metadata": {},
   "source": [
    "## Rede neural do tipo feedfoward\n",
    "\n",
    "- Neurônios numa mesma camada não se conectam. \n",
    "- Camadas de entrada não pode ser menor do que a quantidade de\n",
    "variáveis que estamos usando para explicar Y"
   ]
  },
  {
   "cell_type": "markdown",
   "id": "eabb9a56-619b-4225-ae15-1ec4222d7252",
   "metadata": {},
   "source": [
    "## Reinforcement Learning"
   ]
  },
  {
   "cell_type": "markdown",
   "id": "446a392b-39de-4b1e-880b-b0b98f061849",
   "metadata": {},
   "source": [
    "Função Perda\n",
    "- Função que permite verificar o quão asservito é determinada previsão;\n",
    "- Predicted x Actual\n",
    "- São diferentes para variáveis contínuas e categóricas"
   ]
  },
  {
   "cell_type": "markdown",
   "id": "b0e0e23d-31b9-4db8-bc17-dcaa0ab073cb",
   "metadata": {},
   "source": [
    "Algumas funções de erro para outputs numéricos:\n",
    "\n",
    "1. Erro quadrático médio (média do erro quadrático)\n",
    "2. Erro Absoluto Médio (média dos módulos dos erros)\n",
    "\n",
    "Para funções cujo output é categorica:\n",
    "\n",
    "1. Binary cross-entropy;\n",
    "2. Categorical cross-entropy."
   ]
  }
 ],
 "metadata": {
  "kernelspec": {
   "display_name": "Python 3 (ipykernel)",
   "language": "python",
   "name": "python3"
  },
  "language_info": {
   "codemirror_mode": {
    "name": "ipython",
    "version": 3
   },
   "file_extension": ".py",
   "mimetype": "text/x-python",
   "name": "python",
   "nbconvert_exporter": "python",
   "pygments_lexer": "ipython3",
   "version": "3.12.3"
  }
 },
 "nbformat": 4,
 "nbformat_minor": 5
}
