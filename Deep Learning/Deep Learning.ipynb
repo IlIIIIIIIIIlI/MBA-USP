{
 "cells": [
  {
   "cell_type": "markdown",
   "id": "8d4a113d-2337-4af8-8f96-274f2d6c9197",
   "metadata": {},
   "source": [
    "# Introdução ao Deep Learning"
   ]
  },
  {
   "cell_type": "markdown",
   "id": "d1a9df77-561d-41b1-b3b2-95537c400ff2",
   "metadata": {},
   "source": [
    "## Como funciona uma rede neural"
   ]
  },
  {
   "cell_type": "markdown",
   "id": "89483815-da84-4d4c-b8df-8c68c9a3d875",
   "metadata": {},
   "source": [
    "Cada neurônio recebe dados de entrada ou da camada anterior. Podemos pensar na rede neural como uma \"generalização\" do conceito de regressão.\n",
    "\n"
   ]
  },
  {
   "cell_type": "markdown",
   "id": "9499ac4f-c254-428a-97ba-a0c253dcb942",
   "metadata": {},
   "source": [
    "## Rede neural rasa\n",
    "\n",
    "É uma rede neural que só tem uma camada intermediária.\n",
    "\n",
    "![Exemplo de rede neural](Redes_neurais_1.png)"
   ]
  },
  {
   "cell_type": "markdown",
   "id": "8f510481-f401-472b-9839-5bee70bcdada",
   "metadata": {},
   "source": [
    "Na imagem, a cada passo é feita uma combinação linear das variáveis."
   ]
  },
  {
   "cell_type": "markdown",
   "id": "a2729cc5-9de1-4885-abb7-1151c8a78713",
   "metadata": {},
   "source": [
    "## Rede neural profunda"
   ]
  },
  {
   "cell_type": "markdown",
   "id": "7cd26e4c-c969-4421-9a2b-9a2ef2a3b762",
   "metadata": {},
   "source": [
    "![](deep_neural_network.png)"
   ]
  },
  {
   "cell_type": "markdown",
   "id": "b318dc6a-3fb2-4b85-a786-346881257f75",
   "metadata": {},
   "source": [
    "## Função de ativação"
   ]
  },
  {
   "cell_type": "markdown",
   "id": "9059e1a9-f58d-4aff-b9a5-768527da4bac",
   "metadata": {},
   "source": [
    "![Exemplo de função de ativação](funcao_de_ativacao.png)"
   ]
  },
  {
   "cell_type": "markdown",
   "id": "902d2594-863a-4ed4-b314-a040116e087b",
   "metadata": {},
   "source": [
    "Alguns exemplos de função de ativação:\n",
    "\n",
    "- Função ReLU\n",
    "- Função sigmoide (ótima para dar probabilidades como output)\n",
    "- Função linear (não processa os dados, é equivalente a multiplicar por 1)"
   ]
  },
  {
   "cell_type": "markdown",
   "id": "99b7601f-1f4f-4ee0-939d-2ef7668c1823",
   "metadata": {},
   "source": [
    "## Rede Neural Multicamada"
   ]
  },
  {
   "cell_type": "markdown",
   "id": "1e2f9104-bfa4-4039-85e4-ae56c497d4f1",
   "metadata": {},
   "source": [
    "As redes neurais tem a capacidade de criar funções muito não lineares, coisas que os modelos de regressão mais simples não conseguem fazer. Com mais camadas, podemos criar funções não lineares. No caso de várias camadas, obtém-se o que é chamado de aprendizado profundo (deep learning)."
   ]
  },
  {
   "cell_type": "markdown",
   "id": "99ad62bd-7017-41b2-85da-27d73e17426e",
   "metadata": {},
   "source": [
    "![Estrutura0](Estrutura.png)"
   ]
  },
  {
   "cell_type": "markdown",
   "id": "7460553a-812c-4305-b18d-81531713f9bc",
   "metadata": {},
   "source": [
    "# Anotações"
   ]
  },
  {
   "cell_type": "markdown",
   "id": "3a9f1963-1367-4a27-b36b-c04fead4f7b9",
   "metadata": {},
   "source": [
    "## Rede neural do tipo feedfoward\n",
    "\n",
    "- Neurônios numa mesma camada não se conectam. \n",
    "- Camadas de entrada não pode ser menor do que a quantidade de\n",
    "variáveis que estamos usando para explicar Y"
   ]
  },
  {
   "cell_type": "markdown",
   "id": "eabb9a56-619b-4225-ae15-1ec4222d7252",
   "metadata": {},
   "source": [
    "## Reinforcement Learning"
   ]
  },
  {
   "cell_type": "markdown",
   "id": "446a392b-39de-4b1e-880b-b0b98f061849",
   "metadata": {},
   "source": [
    "Função Perda\n",
    "- Função que permite verificar o quão asservito é determinada previsão;\n",
    "- Predicted x Actual\n",
    "- São diferentes para variáveis contínuas e categóricas"
   ]
  },
  {
   "cell_type": "markdown",
   "id": "b0e0e23d-31b9-4db8-bc17-dcaa0ab073cb",
   "metadata": {},
   "source": [
    "Algumas funções de erro para outputs numéricos:\n",
    "\n",
    "1. Erro quadrático médio (média do erro quadrático)\n",
    "2. Erro Absoluto Médio (média dos módulos dos erros)\n",
    "\n",
    "Para funções cujo output é categorica:\n",
    "\n",
    "1. Binary cross-entropy;\n",
    "2. Categorical cross-entropy."
   ]
  },
  {
   "cell_type": "markdown",
   "id": "5f8a5d07-bd48-4650-a9f5-31807f72a781",
   "metadata": {},
   "source": [
    "## Número de neurônios nas camadas"
   ]
  },
  {
   "cell_type": "markdown",
   "id": "bba68fe1-3706-4dec-ac12-efa9a1b4c237",
   "metadata": {},
   "source": [
    "Não há uma regra específica para determinar o número de neurônios nas hidden layers."
   ]
  },
  {
   "cell_type": "markdown",
   "id": "31603cd8-a7c2-46f6-b39e-4dd8d5ff79aa",
   "metadata": {},
   "source": [
    "## Como realizar o treinamento de uma rede"
   ]
  },
  {
   "cell_type": "markdown",
   "id": "20659775-9a8a-4116-bd6a-d755ba00b7f2",
   "metadata": {},
   "source": [
    "### Batch"
   ]
  },
  {
   "cell_type": "markdown",
   "id": "35ff2b30-7c4c-4ac9-884b-a8570465feef",
   "metadata": {},
   "source": [
    "Batch é o treinamen to em lotes, normalmente feito por restrições de memória no sistema. A rede atualiza seus pesos depois de processar todas as amostras na rede."
   ]
  },
  {
   "cell_type": "markdown",
   "id": "d7ab3c2b-be90-45e2-8c22-16a1585d7741",
   "metadata": {},
   "source": [
    "## Otimizadores"
   ]
  },
  {
   "cell_type": "markdown",
   "id": "74f6acc1-4d93-45f8-ba67-d5219af27603",
   "metadata": {},
   "source": [
    "- ADAGRAD\n",
    "- ADAM: Para propósitos gerais geralmente é a melhor escolha\n",
    "- RMSPROP: Ótimo para séries temporais"
   ]
  },
  {
   "cell_type": "markdown",
   "id": "95c4fc54-eba7-43f2-a1e1-ef37aa05618b",
   "metadata": {},
   "source": [
    "## Momentun"
   ]
  },
  {
   "cell_type": "code",
   "execution_count": null,
   "id": "9ad1706a-b63d-4ae5-8bdb-71e052454ec9",
   "metadata": {},
   "outputs": [],
   "source": []
  },
  {
   "cell_type": "code",
   "execution_count": null,
   "id": "d88484ed-afbc-4641-a287-6e03fb3f7646",
   "metadata": {},
   "outputs": [],
   "source": []
  },
  {
   "cell_type": "markdown",
   "id": "35e0bb67-982b-4c70-918e-b047df0d1804",
   "metadata": {},
   "source": [
    "## Hiperparâmetros"
   ]
  },
  {
   "cell_type": "markdown",
   "id": "a6ffc344-66a6-4191-9edb-2749c65db0f3",
   "metadata": {},
   "source": [
    "É qualquer número utilizado pela rede que não é aprendido. Exemplos:\n",
    "\n",
    "- Learning rate\n",
    "- Batch size\n",
    "- Epochs\n",
    "- Função de ativação"
   ]
  },
  {
   "cell_type": "markdown",
   "id": "445b6768-ae49-41cf-8775-aaaed855f464",
   "metadata": {},
   "source": [
    "## Como reduzir o overfitting"
   ]
  },
  {
   "cell_type": "markdown",
   "id": "3051886a-8dee-4fa8-9d91-4df34daecf9a",
   "metadata": {},
   "source": [
    "- Diminuir o número de camadas\n",
    "- Técnicas de regularização:\n",
    "    - **Dropout**: O modelo descarta ou desativa arbitrariamente alguns neurônios ao longo de cada iteração. Isso torna mais difícil do modelo \"memorizar\" os resultados.\n",
    "    - **L1**: Ajuste dos pesos feito por meio da regularização, o foco não é mais o neurônio, mas no valor do peso. Ele é ajustado até o valor de zero dependendo da sua importância.\n",
    "    - Early Stopping: Final de cada época - verificar melhoria. Caso a melhoria não esteja mais ocorrendo o modelo para."
   ]
  }
 ],
 "metadata": {
  "kernelspec": {
   "display_name": "Python 3 (ipykernel)",
   "language": "python",
   "name": "python3"
  },
  "language_info": {
   "codemirror_mode": {
    "name": "ipython",
    "version": 3
   },
   "file_extension": ".py",
   "mimetype": "text/x-python",
   "name": "python",
   "nbconvert_exporter": "python",
   "pygments_lexer": "ipython3",
   "version": "3.12.3"
  }
 },
 "nbformat": 4,
 "nbformat_minor": 5
}
