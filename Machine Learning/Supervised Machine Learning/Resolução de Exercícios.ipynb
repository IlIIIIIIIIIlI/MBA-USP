{
 "cells": [
  {
   "cell_type": "markdown",
   "id": "f7514bbb-157a-47b6-a075-4e5c119733c5",
   "metadata": {},
   "source": [
    "# Supervised Machine Learning - Encontro para Resolução de exercícios"
   ]
  },
  {
   "cell_type": "markdown",
   "id": "38a7da28-a163-4ef7-9260-af4aca0fdb63",
   "metadata": {},
   "source": [
    "## Instalação e importação dos pacotes"
   ]
  },
  {
   "cell_type": "raw",
   "id": "0e16f410-bf14-4dde-96bc-e5372333cf0f",
   "metadata": {},
   "source": [
    "!pip install pandas\n",
    "!pip install numpy\n",
    "!pip install statsmodels\n",
    "!pip install matplotlib\n",
    "!pip install -U seaborn\n",
    "!pip install pingouin\n",
    "!pip install statstests\n",
    "!pip install scipy"
   ]
  },
  {
   "cell_type": "code",
   "execution_count": 1,
   "id": "218a80ab-0cd0-4c92-920d-17e95da44e8a",
   "metadata": {},
   "outputs": [],
   "source": [
    "#%% Importando os pacotes\n",
    "\n",
    "import pandas as pd\n",
    "import numpy as np\n",
    "import matplotlib.pyplot as plt\n",
    "import seaborn as sns\n",
    "import pingouin as pg\n",
    "import statsmodels.api as sm\n",
    "from statstests.process import stepwise\n",
    "from statstests.tests import shapiro_francia\n",
    "from scipy.stats import boxcox\n",
    "from scipy.stats import norm\n",
    "from scipy import stats"
   ]
  },
  {
   "cell_type": "markdown",
   "id": "e08400ba-655e-4fa3-8e4b-25f50310a9f1",
   "metadata": {},
   "source": [
    "# Exercício 1 - `preço_casas.xlsx`"
   ]
  },
  {
   "cell_type": "markdown",
   "id": "c5149b4b-13d8-4369-8d52-4e1aa7eb09da",
   "metadata": {},
   "source": [
    "O objetivo é gerar um modelo onde conseguimos estimar o preço de um imóvel baseado num conjunto de características presentes no banco de dados."
   ]
  },
  {
   "cell_type": "markdown",
   "id": "d99677ba-c57d-4b28-8b4b-4eb33dc860f4",
   "metadata": {},
   "source": [
    "As características do banco de dados são3:\n",
    "\n",
    "-`preco`: valor do imóvel\\\n",
    "-`area_sqm`: área em metros quadrados\\\n",
    "-`quartos`: quantidade de quartos\\\n",
    "-`banheiros`: quantidade de banheiros\\\n",
    "-`rua_principal`: se o imóvel está localizado em uma rua principal do bairro\\\n",
    "-`quarto_hospedes`: se há quarto de hóspedes\\\n",
    "-`porao`: se tem ou não porão\\\n",
    "-`aquecimento_agua`: se tem aquecimento de água\\\n",
    "-`ar_condicionado`: se tem ou não ar condicionado\\\n",
    "-`vagas_garagem`: número de vagas de garagem\\\n",
    "-`local_pref`: se o imóvel está localizado em uma região preferencial, mais valorizada\\\n",
    "-`mobilia`: se a casa está mobilidada"
   ]
  },
  {
   "cell_type": "markdown",
   "id": "3034f5dd-1a35-480b-a038-a31731f85741",
   "metadata": {},
   "source": [
    "## Importação dos dados"
   ]
  },
  {
   "cell_type": "code",
   "execution_count": 35,
   "id": "4d5dbb33-eb3d-44a3-9c98-9cffd811f95f",
   "metadata": {},
   "outputs": [
    {
     "name": "stdout",
     "output_type": "stream",
     "text": [
      "<class 'pandas.core.frame.DataFrame'>\n",
      "RangeIndex: 545 entries, 0 to 544\n",
      "Data columns (total 12 columns):\n",
      " #   Column            Non-Null Count  Dtype \n",
      "---  ------            --------------  ----- \n",
      " 0   preco             545 non-null    int64 \n",
      " 1   area_sqm          545 non-null    int64 \n",
      " 2   quartos           545 non-null    int64 \n",
      " 3   banheiros         545 non-null    int64 \n",
      " 4   rua_principal     545 non-null    object\n",
      " 5   quarto_hospedes   545 non-null    object\n",
      " 6   porao             545 non-null    object\n",
      " 7   aquecimento_agua  545 non-null    object\n",
      " 8   ar_condicionado   545 non-null    object\n",
      " 9   vagas_garagem     545 non-null    int64 \n",
      " 10  local_pref        545 non-null    object\n",
      " 11  mobilia           545 non-null    object\n",
      "dtypes: int64(5), object(7)\n",
      "memory usage: 51.2+ KB\n"
     ]
    }
   ],
   "source": [
    "#%% Importando o banco de dados\n",
    "\n",
    "dados = pd.read_excel('preço_casas.xlsx')\n",
    "## Fonte: adaptado de https://www.kaggle.com/datasets/harishkumardatalab/housing-price-prediction\n",
    "\n",
    "dados.info()\n",
    "\n",
    "#%% Estatísticas descritivas dos dados"
   ]
  },
  {
   "cell_type": "code",
   "execution_count": 17,
   "id": "f92ca742-7097-48b1-8e65-1ee46bf50294",
   "metadata": {},
   "outputs": [
    {
     "name": "stdout",
     "output_type": "stream",
     "text": [
      "-`preco`\n",
      "-`area_sqm`\n",
      "-`quartos`\n",
      "-`banheiros`\n",
      "-`rua_principal`\n",
      "-`quarto_hospedes`\n",
      "-`porao`\n",
      "-`aquecimento_agua`\n",
      "-`ar_condicionado`\n",
      "-`vagas_garagem`\n",
      "-`local_pref`\n",
      "-`mobilia`\n"
     ]
    }
   ],
   "source": [
    "for column in dados.columns:\n",
    "    print(f'-`{column}`')"
   ]
  },
  {
   "cell_type": "code",
   "execution_count": 3,
   "id": "e7903697-634a-4288-9191-97e9b359c912",
   "metadata": {},
   "outputs": [
    {
     "data": {
      "text/html": [
       "<div>\n",
       "<style scoped>\n",
       "    .dataframe tbody tr th:only-of-type {\n",
       "        vertical-align: middle;\n",
       "    }\n",
       "\n",
       "    .dataframe tbody tr th {\n",
       "        vertical-align: top;\n",
       "    }\n",
       "\n",
       "    .dataframe thead th {\n",
       "        text-align: right;\n",
       "    }\n",
       "</style>\n",
       "<table border=\"1\" class=\"dataframe\">\n",
       "  <thead>\n",
       "    <tr style=\"text-align: right;\">\n",
       "      <th></th>\n",
       "      <th>preco</th>\n",
       "      <th>area_sqm</th>\n",
       "      <th>quartos</th>\n",
       "      <th>banheiros</th>\n",
       "      <th>rua_principal</th>\n",
       "      <th>quarto_hospedes</th>\n",
       "      <th>porao</th>\n",
       "      <th>aquecimento_agua</th>\n",
       "      <th>ar_condicionado</th>\n",
       "      <th>vagas_garagem</th>\n",
       "      <th>local_pref</th>\n",
       "      <th>mobilia</th>\n",
       "    </tr>\n",
       "  </thead>\n",
       "  <tbody>\n",
       "    <tr>\n",
       "      <th>0</th>\n",
       "      <td>1330000</td>\n",
       "      <td>689</td>\n",
       "      <td>4</td>\n",
       "      <td>2</td>\n",
       "      <td>sim</td>\n",
       "      <td>não</td>\n",
       "      <td>não</td>\n",
       "      <td>não</td>\n",
       "      <td>sim</td>\n",
       "      <td>2</td>\n",
       "      <td>sim</td>\n",
       "      <td>mobiliado</td>\n",
       "    </tr>\n",
       "    <tr>\n",
       "      <th>1</th>\n",
       "      <td>1225000</td>\n",
       "      <td>832</td>\n",
       "      <td>4</td>\n",
       "      <td>4</td>\n",
       "      <td>sim</td>\n",
       "      <td>não</td>\n",
       "      <td>não</td>\n",
       "      <td>não</td>\n",
       "      <td>sim</td>\n",
       "      <td>3</td>\n",
       "      <td>não</td>\n",
       "      <td>mobiliado</td>\n",
       "    </tr>\n",
       "    <tr>\n",
       "      <th>2</th>\n",
       "      <td>1225000</td>\n",
       "      <td>925</td>\n",
       "      <td>3</td>\n",
       "      <td>2</td>\n",
       "      <td>sim</td>\n",
       "      <td>não</td>\n",
       "      <td>sim</td>\n",
       "      <td>não</td>\n",
       "      <td>não</td>\n",
       "      <td>2</td>\n",
       "      <td>sim</td>\n",
       "      <td>mobilia_parcial</td>\n",
       "    </tr>\n",
       "    <tr>\n",
       "      <th>3</th>\n",
       "      <td>1221500</td>\n",
       "      <td>697</td>\n",
       "      <td>4</td>\n",
       "      <td>2</td>\n",
       "      <td>sim</td>\n",
       "      <td>não</td>\n",
       "      <td>sim</td>\n",
       "      <td>não</td>\n",
       "      <td>sim</td>\n",
       "      <td>3</td>\n",
       "      <td>sim</td>\n",
       "      <td>mobiliado</td>\n",
       "    </tr>\n",
       "    <tr>\n",
       "      <th>4</th>\n",
       "      <td>1141000</td>\n",
       "      <td>689</td>\n",
       "      <td>4</td>\n",
       "      <td>1</td>\n",
       "      <td>sim</td>\n",
       "      <td>sim</td>\n",
       "      <td>sim</td>\n",
       "      <td>não</td>\n",
       "      <td>sim</td>\n",
       "      <td>2</td>\n",
       "      <td>não</td>\n",
       "      <td>mobiliado</td>\n",
       "    </tr>\n",
       "  </tbody>\n",
       "</table>\n",
       "</div>"
      ],
      "text/plain": [
       "     preco  area_sqm  quartos  banheiros rua_principal quarto_hospedes porao  \\\n",
       "0  1330000       689        4          2           sim             não   não   \n",
       "1  1225000       832        4          4           sim             não   não   \n",
       "2  1225000       925        3          2           sim             não   sim   \n",
       "3  1221500       697        4          2           sim             não   sim   \n",
       "4  1141000       689        4          1           sim             sim   sim   \n",
       "\n",
       "  aquecimento_agua ar_condicionado  vagas_garagem local_pref          mobilia  \n",
       "0              não             sim              2        sim        mobiliado  \n",
       "1              não             sim              3        não        mobiliado  \n",
       "2              não             não              2        sim  mobilia_parcial  \n",
       "3              não             sim              3        sim        mobiliado  \n",
       "4              não             sim              2        não        mobiliado  "
      ]
     },
     "execution_count": 3,
     "metadata": {},
     "output_type": "execute_result"
    }
   ],
   "source": [
    "dados[0:5]"
   ]
  },
  {
   "cell_type": "code",
   "execution_count": 4,
   "id": "2e08b7a0-ee16-4e64-a6dd-62de50e726ce",
   "metadata": {},
   "outputs": [
    {
     "data": {
      "text/html": [
       "<div>\n",
       "<style scoped>\n",
       "    .dataframe tbody tr th:only-of-type {\n",
       "        vertical-align: middle;\n",
       "    }\n",
       "\n",
       "    .dataframe tbody tr th {\n",
       "        vertical-align: top;\n",
       "    }\n",
       "\n",
       "    .dataframe thead th {\n",
       "        text-align: right;\n",
       "    }\n",
       "</style>\n",
       "<table border=\"1\" class=\"dataframe\">\n",
       "  <thead>\n",
       "    <tr style=\"text-align: right;\">\n",
       "      <th></th>\n",
       "      <th>preco</th>\n",
       "      <th>area_sqm</th>\n",
       "      <th>quartos</th>\n",
       "      <th>banheiros</th>\n",
       "      <th>vagas_garagem</th>\n",
       "    </tr>\n",
       "  </thead>\n",
       "  <tbody>\n",
       "    <tr>\n",
       "      <th>count</th>\n",
       "      <td>5.450000e+02</td>\n",
       "      <td>545.00000</td>\n",
       "      <td>545.000000</td>\n",
       "      <td>545.000000</td>\n",
       "      <td>545.000000</td>\n",
       "    </tr>\n",
       "    <tr>\n",
       "      <th>mean</th>\n",
       "      <td>4.766729e+05</td>\n",
       "      <td>478.46055</td>\n",
       "      <td>2.965138</td>\n",
       "      <td>1.286239</td>\n",
       "      <td>0.693578</td>\n",
       "    </tr>\n",
       "    <tr>\n",
       "      <th>std</th>\n",
       "      <td>1.870440e+05</td>\n",
       "      <td>201.59249</td>\n",
       "      <td>0.738064</td>\n",
       "      <td>0.502470</td>\n",
       "      <td>0.861586</td>\n",
       "    </tr>\n",
       "    <tr>\n",
       "      <th>min</th>\n",
       "      <td>1.750000e+05</td>\n",
       "      <td>153.00000</td>\n",
       "      <td>1.000000</td>\n",
       "      <td>1.000000</td>\n",
       "      <td>0.000000</td>\n",
       "    </tr>\n",
       "    <tr>\n",
       "      <th>25%</th>\n",
       "      <td>3.430000e+05</td>\n",
       "      <td>334.00000</td>\n",
       "      <td>2.000000</td>\n",
       "      <td>1.000000</td>\n",
       "      <td>0.000000</td>\n",
       "    </tr>\n",
       "    <tr>\n",
       "      <th>50%</th>\n",
       "      <td>4.340000e+05</td>\n",
       "      <td>427.00000</td>\n",
       "      <td>3.000000</td>\n",
       "      <td>1.000000</td>\n",
       "      <td>0.000000</td>\n",
       "    </tr>\n",
       "    <tr>\n",
       "      <th>75%</th>\n",
       "      <td>5.740000e+05</td>\n",
       "      <td>591.00000</td>\n",
       "      <td>3.000000</td>\n",
       "      <td>2.000000</td>\n",
       "      <td>1.000000</td>\n",
       "    </tr>\n",
       "    <tr>\n",
       "      <th>max</th>\n",
       "      <td>1.330000e+06</td>\n",
       "      <td>1505.00000</td>\n",
       "      <td>6.000000</td>\n",
       "      <td>4.000000</td>\n",
       "      <td>3.000000</td>\n",
       "    </tr>\n",
       "  </tbody>\n",
       "</table>\n",
       "</div>"
      ],
      "text/plain": [
       "              preco    area_sqm     quartos   banheiros  vagas_garagem\n",
       "count  5.450000e+02   545.00000  545.000000  545.000000     545.000000\n",
       "mean   4.766729e+05   478.46055    2.965138    1.286239       0.693578\n",
       "std    1.870440e+05   201.59249    0.738064    0.502470       0.861586\n",
       "min    1.750000e+05   153.00000    1.000000    1.000000       0.000000\n",
       "25%    3.430000e+05   334.00000    2.000000    1.000000       0.000000\n",
       "50%    4.340000e+05   427.00000    3.000000    1.000000       0.000000\n",
       "75%    5.740000e+05   591.00000    3.000000    2.000000       1.000000\n",
       "max    1.330000e+06  1505.00000    6.000000    4.000000       3.000000"
      ]
     },
     "execution_count": 4,
     "metadata": {},
     "output_type": "execute_result"
    }
   ],
   "source": [
    "dados[['preco', 'area_sqm', 'quartos', 'banheiros', 'vagas_garagem']].describe()"
   ]
  },
  {
   "cell_type": "code",
   "execution_count": 18,
   "id": "e823e290-a778-4dc7-a72a-f5a80d864e9d",
   "metadata": {},
   "outputs": [
    {
     "data": {
      "text/plain": [
       "rua_principal\n",
       "não     77\n",
       "sim    468\n",
       "Name: count, dtype: int64"
      ]
     },
     "execution_count": 18,
     "metadata": {},
     "output_type": "execute_result"
    }
   ],
   "source": [
    "dados['rua_principal'].value_counts().sort_index()"
   ]
  },
  {
   "cell_type": "code",
   "execution_count": 19,
   "id": "72f199d2-204d-4559-844d-fbee815ed434",
   "metadata": {},
   "outputs": [
    {
     "data": {
      "text/plain": [
       "quarto_hospedes\n",
       "não    448\n",
       "sim     97\n",
       "Name: count, dtype: int64"
      ]
     },
     "execution_count": 19,
     "metadata": {},
     "output_type": "execute_result"
    }
   ],
   "source": [
    "dados['quarto_hospedes'].value_counts().sort_index()"
   ]
  },
  {
   "cell_type": "code",
   "execution_count": 20,
   "id": "637a4c6d-f667-4586-8591-8bdd0bb5d8c0",
   "metadata": {},
   "outputs": [
    {
     "data": {
      "text/plain": [
       "porao\n",
       "não    354\n",
       "sim    191\n",
       "Name: count, dtype: int64"
      ]
     },
     "execution_count": 20,
     "metadata": {},
     "output_type": "execute_result"
    }
   ],
   "source": [
    "dados['porao'].value_counts().sort_index()"
   ]
  },
  {
   "cell_type": "code",
   "execution_count": 21,
   "id": "8f78febf-0796-4319-9444-d0029a46ffc7",
   "metadata": {},
   "outputs": [
    {
     "data": {
      "text/plain": [
       "aquecimento_agua\n",
       "não    520\n",
       "sim     25\n",
       "Name: count, dtype: int64"
      ]
     },
     "execution_count": 21,
     "metadata": {},
     "output_type": "execute_result"
    }
   ],
   "source": [
    "dados['aquecimento_agua'].value_counts().sort_index()"
   ]
  },
  {
   "cell_type": "code",
   "execution_count": 22,
   "id": "869e10d7-2fb7-4a9b-ab39-b3d2663707c7",
   "metadata": {},
   "outputs": [
    {
     "data": {
      "text/plain": [
       "ar_condicionado\n",
       "não    373\n",
       "sim    172\n",
       "Name: count, dtype: int64"
      ]
     },
     "execution_count": 22,
     "metadata": {},
     "output_type": "execute_result"
    }
   ],
   "source": [
    "dados['ar_condicionado'].value_counts().sort_index()"
   ]
  },
  {
   "cell_type": "code",
   "execution_count": 23,
   "id": "377365d3-6d0c-4a64-999c-ad67416bc541",
   "metadata": {},
   "outputs": [
    {
     "data": {
      "text/plain": [
       "local_pref\n",
       "não    417\n",
       "sim    128\n",
       "Name: count, dtype: int64"
      ]
     },
     "execution_count": 23,
     "metadata": {},
     "output_type": "execute_result"
    }
   ],
   "source": [
    "dados['local_pref'].value_counts().sort_index()"
   ]
  },
  {
   "cell_type": "code",
   "execution_count": 24,
   "id": "cfb61af1-e5c3-4992-b675-8d68a4d02879",
   "metadata": {},
   "outputs": [
    {
     "data": {
      "text/plain": [
       "mobilia\n",
       "mobilia_parcial    227\n",
       "mobiliado          140\n",
       "sem_mobilia        178\n",
       "Name: count, dtype: int64"
      ]
     },
     "execution_count": 24,
     "metadata": {},
     "output_type": "execute_result"
    }
   ],
   "source": [
    "dados['mobilia'].value_counts().sort_index()"
   ]
  },
  {
   "cell_type": "code",
   "execution_count": 26,
   "id": "6f10e2e6-e16f-4571-be64-a025934080e0",
   "metadata": {},
   "outputs": [
    {
     "data": {
      "text/html": [
       "<div>\n",
       "<style scoped>\n",
       "    .dataframe tbody tr th:only-of-type {\n",
       "        vertical-align: middle;\n",
       "    }\n",
       "\n",
       "    .dataframe tbody tr th {\n",
       "        vertical-align: top;\n",
       "    }\n",
       "\n",
       "    .dataframe thead th {\n",
       "        text-align: right;\n",
       "    }\n",
       "</style>\n",
       "<table border=\"1\" class=\"dataframe\">\n",
       "  <thead>\n",
       "    <tr style=\"text-align: right;\">\n",
       "      <th></th>\n",
       "      <th>preco</th>\n",
       "      <th>area_sqm</th>\n",
       "      <th>quartos</th>\n",
       "      <th>banheiros</th>\n",
       "      <th>rua_principal</th>\n",
       "      <th>quarto_hospedes</th>\n",
       "      <th>porao</th>\n",
       "      <th>aquecimento_agua</th>\n",
       "      <th>ar_condicionado</th>\n",
       "      <th>vagas_garagem</th>\n",
       "      <th>local_pref</th>\n",
       "      <th>mobilia</th>\n",
       "    </tr>\n",
       "  </thead>\n",
       "  <tbody>\n",
       "    <tr>\n",
       "      <th>7</th>\n",
       "      <td>1015000</td>\n",
       "      <td>1505</td>\n",
       "      <td>5</td>\n",
       "      <td>3</td>\n",
       "      <td>sim</td>\n",
       "      <td>não</td>\n",
       "      <td>não</td>\n",
       "      <td>não</td>\n",
       "      <td>não</td>\n",
       "      <td>0</td>\n",
       "      <td>não</td>\n",
       "      <td>sem_mobilia</td>\n",
       "    </tr>\n",
       "  </tbody>\n",
       "</table>\n",
       "</div>"
      ],
      "text/plain": [
       "     preco  area_sqm  quartos  banheiros rua_principal quarto_hospedes porao  \\\n",
       "7  1015000      1505        5          3           sim             não   não   \n",
       "\n",
       "  aquecimento_agua ar_condicionado  vagas_garagem local_pref      mobilia  \n",
       "7              não             não              0        não  sem_mobilia  "
      ]
     },
     "execution_count": 26,
     "metadata": {},
     "output_type": "execute_result"
    }
   ],
   "source": [
    "dados[dados['area_sqm']==max(dados['area_sqm'])]"
   ]
  },
  {
   "cell_type": "markdown",
   "id": "dc7b3eff-f087-4f15-ad95-9f47767db402",
   "metadata": {},
   "source": [
    "## Verificando a existência de multicolinearidade"
   ]
  },
  {
   "cell_type": "code",
   "execution_count": 28,
   "id": "df551aeb-99f0-4f84-a5aa-d2c90d31c191",
   "metadata": {},
   "outputs": [
    {
     "name": "stderr",
     "output_type": "stream",
     "text": [
      "C:\\Users\\Lucas Rezende\\AppData\\Local\\Programs\\Python\\Python312\\Lib\\site-packages\\pingouin\\correlation.py:1116: FutureWarning: DataFrame.applymap has been deprecated. Use DataFrame.map instead.\n",
      "  mat_upper = mat_upper.applymap(replace_pval)\n"
     ]
    },
    {
     "data": {
      "text/html": [
       "<div>\n",
       "<style scoped>\n",
       "    .dataframe tbody tr th:only-of-type {\n",
       "        vertical-align: middle;\n",
       "    }\n",
       "\n",
       "    .dataframe tbody tr th {\n",
       "        vertical-align: top;\n",
       "    }\n",
       "\n",
       "    .dataframe thead th {\n",
       "        text-align: right;\n",
       "    }\n",
       "</style>\n",
       "<table border=\"1\" class=\"dataframe\">\n",
       "  <thead>\n",
       "    <tr style=\"text-align: right;\">\n",
       "      <th></th>\n",
       "      <th>preco</th>\n",
       "      <th>area_sqm</th>\n",
       "      <th>quartos</th>\n",
       "      <th>banheiros</th>\n",
       "      <th>vagas_garagem</th>\n",
       "    </tr>\n",
       "  </thead>\n",
       "  <tbody>\n",
       "    <tr>\n",
       "      <th>preco</th>\n",
       "      <td>-</td>\n",
       "      <td>***</td>\n",
       "      <td>***</td>\n",
       "      <td>***</td>\n",
       "      <td>***</td>\n",
       "    </tr>\n",
       "    <tr>\n",
       "      <th>area_sqm</th>\n",
       "      <td>0.5359</td>\n",
       "      <td>-</td>\n",
       "      <td>***</td>\n",
       "      <td>***</td>\n",
       "      <td>***</td>\n",
       "    </tr>\n",
       "    <tr>\n",
       "      <th>quartos</th>\n",
       "      <td>0.3665</td>\n",
       "      <td>0.1518</td>\n",
       "      <td>-</td>\n",
       "      <td>***</td>\n",
       "      <td>***</td>\n",
       "    </tr>\n",
       "    <tr>\n",
       "      <th>banheiros</th>\n",
       "      <td>0.5175</td>\n",
       "      <td>0.1937</td>\n",
       "      <td>0.3739</td>\n",
       "      <td>-</td>\n",
       "      <td>***</td>\n",
       "    </tr>\n",
       "    <tr>\n",
       "      <th>vagas_garagem</th>\n",
       "      <td>0.3844</td>\n",
       "      <td>0.353</td>\n",
       "      <td>0.1393</td>\n",
       "      <td>0.1775</td>\n",
       "      <td>-</td>\n",
       "    </tr>\n",
       "  </tbody>\n",
       "</table>\n",
       "</div>"
      ],
      "text/plain": [
       "                preco area_sqm quartos banheiros vagas_garagem\n",
       "preco               -      ***     ***       ***           ***\n",
       "area_sqm       0.5359        -     ***       ***           ***\n",
       "quartos        0.3665   0.1518       -       ***           ***\n",
       "banheiros      0.5175   0.1937  0.3739         -           ***\n",
       "vagas_garagem  0.3844    0.353  0.1393    0.1775             -"
      ]
     },
     "execution_count": 28,
     "metadata": {},
     "output_type": "execute_result"
    }
   ],
   "source": [
    "#%% Análise do coeficiente de correlação de Pearson entre as variáveis\n",
    "\n",
    "pg.rcorr(dados[['preco', 'area_sqm', 'quartos', 'banheiros', 'vagas_garagem']],\n",
    "         method = 'pearson', upper = 'pval', \n",
    "         decimals = 4, \n",
    "         pval_stars = {0.01: '***', 0.05: '**', 0.10: '*'})\n"
   ]
  },
  {
   "cell_type": "markdown",
   "id": "2417be2b-c170-4ca2-8e11-5ec425992bc7",
   "metadata": {},
   "source": [
    "## Estimando a OLS"
   ]
  },
  {
   "cell_type": "code",
   "execution_count": 36,
   "id": "39e92775-9bc8-4e49-a132-acd23dea5dfe",
   "metadata": {},
   "outputs": [],
   "source": [
    "dados = pd.get_dummies(dados,\n",
    "                       columns = ['rua_principal',\n",
    "                                  'quarto_hospedes',\n",
    "                                  'porao',\n",
    "                                  'aquecimento_agua',\n",
    "                                  'ar_condicionado',\n",
    "                                  'local_pref',\n",
    "                                  'mobilia'],\n",
    "                       dtype = int,\n",
    "                       drop_first = True)"
   ]
  },
  {
   "cell_type": "code",
   "execution_count": 37,
   "id": "5a1d8073-91fc-49f2-8433-d453a0407f8d",
   "metadata": {},
   "outputs": [
    {
     "data": {
      "text/html": [
       "<div>\n",
       "<style scoped>\n",
       "    .dataframe tbody tr th:only-of-type {\n",
       "        vertical-align: middle;\n",
       "    }\n",
       "\n",
       "    .dataframe tbody tr th {\n",
       "        vertical-align: top;\n",
       "    }\n",
       "\n",
       "    .dataframe thead th {\n",
       "        text-align: right;\n",
       "    }\n",
       "</style>\n",
       "<table border=\"1\" class=\"dataframe\">\n",
       "  <thead>\n",
       "    <tr style=\"text-align: right;\">\n",
       "      <th></th>\n",
       "      <th>preco</th>\n",
       "      <th>area_sqm</th>\n",
       "      <th>quartos</th>\n",
       "      <th>banheiros</th>\n",
       "      <th>vagas_garagem</th>\n",
       "      <th>rua_principal_sim</th>\n",
       "      <th>quarto_hospedes_sim</th>\n",
       "      <th>porao_sim</th>\n",
       "      <th>aquecimento_agua_sim</th>\n",
       "      <th>ar_condicionado_sim</th>\n",
       "      <th>local_pref_sim</th>\n",
       "      <th>mobilia_mobiliado</th>\n",
       "      <th>mobilia_sem_mobilia</th>\n",
       "    </tr>\n",
       "  </thead>\n",
       "  <tbody>\n",
       "    <tr>\n",
       "      <th>0</th>\n",
       "      <td>1330000</td>\n",
       "      <td>689</td>\n",
       "      <td>4</td>\n",
       "      <td>2</td>\n",
       "      <td>2</td>\n",
       "      <td>1</td>\n",
       "      <td>0</td>\n",
       "      <td>0</td>\n",
       "      <td>0</td>\n",
       "      <td>1</td>\n",
       "      <td>1</td>\n",
       "      <td>1</td>\n",
       "      <td>0</td>\n",
       "    </tr>\n",
       "    <tr>\n",
       "      <th>1</th>\n",
       "      <td>1225000</td>\n",
       "      <td>832</td>\n",
       "      <td>4</td>\n",
       "      <td>4</td>\n",
       "      <td>3</td>\n",
       "      <td>1</td>\n",
       "      <td>0</td>\n",
       "      <td>0</td>\n",
       "      <td>0</td>\n",
       "      <td>1</td>\n",
       "      <td>0</td>\n",
       "      <td>1</td>\n",
       "      <td>0</td>\n",
       "    </tr>\n",
       "    <tr>\n",
       "      <th>2</th>\n",
       "      <td>1225000</td>\n",
       "      <td>925</td>\n",
       "      <td>3</td>\n",
       "      <td>2</td>\n",
       "      <td>2</td>\n",
       "      <td>1</td>\n",
       "      <td>0</td>\n",
       "      <td>1</td>\n",
       "      <td>0</td>\n",
       "      <td>0</td>\n",
       "      <td>1</td>\n",
       "      <td>0</td>\n",
       "      <td>0</td>\n",
       "    </tr>\n",
       "    <tr>\n",
       "      <th>3</th>\n",
       "      <td>1221500</td>\n",
       "      <td>697</td>\n",
       "      <td>4</td>\n",
       "      <td>2</td>\n",
       "      <td>3</td>\n",
       "      <td>1</td>\n",
       "      <td>0</td>\n",
       "      <td>1</td>\n",
       "      <td>0</td>\n",
       "      <td>1</td>\n",
       "      <td>1</td>\n",
       "      <td>1</td>\n",
       "      <td>0</td>\n",
       "    </tr>\n",
       "    <tr>\n",
       "      <th>4</th>\n",
       "      <td>1141000</td>\n",
       "      <td>689</td>\n",
       "      <td>4</td>\n",
       "      <td>1</td>\n",
       "      <td>2</td>\n",
       "      <td>1</td>\n",
       "      <td>1</td>\n",
       "      <td>1</td>\n",
       "      <td>0</td>\n",
       "      <td>1</td>\n",
       "      <td>0</td>\n",
       "      <td>1</td>\n",
       "      <td>0</td>\n",
       "    </tr>\n",
       "    <tr>\n",
       "      <th>...</th>\n",
       "      <td>...</td>\n",
       "      <td>...</td>\n",
       "      <td>...</td>\n",
       "      <td>...</td>\n",
       "      <td>...</td>\n",
       "      <td>...</td>\n",
       "      <td>...</td>\n",
       "      <td>...</td>\n",
       "      <td>...</td>\n",
       "      <td>...</td>\n",
       "      <td>...</td>\n",
       "      <td>...</td>\n",
       "      <td>...</td>\n",
       "    </tr>\n",
       "    <tr>\n",
       "      <th>540</th>\n",
       "      <td>182000</td>\n",
       "      <td>279</td>\n",
       "      <td>2</td>\n",
       "      <td>1</td>\n",
       "      <td>2</td>\n",
       "      <td>1</td>\n",
       "      <td>0</td>\n",
       "      <td>1</td>\n",
       "      <td>0</td>\n",
       "      <td>0</td>\n",
       "      <td>0</td>\n",
       "      <td>0</td>\n",
       "      <td>1</td>\n",
       "    </tr>\n",
       "    <tr>\n",
       "      <th>541</th>\n",
       "      <td>176715</td>\n",
       "      <td>223</td>\n",
       "      <td>3</td>\n",
       "      <td>1</td>\n",
       "      <td>0</td>\n",
       "      <td>0</td>\n",
       "      <td>0</td>\n",
       "      <td>0</td>\n",
       "      <td>0</td>\n",
       "      <td>0</td>\n",
       "      <td>0</td>\n",
       "      <td>0</td>\n",
       "      <td>0</td>\n",
       "    </tr>\n",
       "    <tr>\n",
       "      <th>542</th>\n",
       "      <td>175000</td>\n",
       "      <td>336</td>\n",
       "      <td>2</td>\n",
       "      <td>1</td>\n",
       "      <td>0</td>\n",
       "      <td>1</td>\n",
       "      <td>0</td>\n",
       "      <td>0</td>\n",
       "      <td>0</td>\n",
       "      <td>0</td>\n",
       "      <td>0</td>\n",
       "      <td>0</td>\n",
       "      <td>1</td>\n",
       "    </tr>\n",
       "    <tr>\n",
       "      <th>543</th>\n",
       "      <td>175000</td>\n",
       "      <td>270</td>\n",
       "      <td>3</td>\n",
       "      <td>1</td>\n",
       "      <td>0</td>\n",
       "      <td>0</td>\n",
       "      <td>0</td>\n",
       "      <td>0</td>\n",
       "      <td>0</td>\n",
       "      <td>0</td>\n",
       "      <td>0</td>\n",
       "      <td>1</td>\n",
       "      <td>0</td>\n",
       "    </tr>\n",
       "    <tr>\n",
       "      <th>544</th>\n",
       "      <td>175000</td>\n",
       "      <td>358</td>\n",
       "      <td>3</td>\n",
       "      <td>1</td>\n",
       "      <td>0</td>\n",
       "      <td>1</td>\n",
       "      <td>0</td>\n",
       "      <td>0</td>\n",
       "      <td>0</td>\n",
       "      <td>0</td>\n",
       "      <td>0</td>\n",
       "      <td>0</td>\n",
       "      <td>1</td>\n",
       "    </tr>\n",
       "  </tbody>\n",
       "</table>\n",
       "<p>545 rows × 13 columns</p>\n",
       "</div>"
      ],
      "text/plain": [
       "       preco  area_sqm  quartos  banheiros  vagas_garagem  rua_principal_sim  \\\n",
       "0    1330000       689        4          2              2                  1   \n",
       "1    1225000       832        4          4              3                  1   \n",
       "2    1225000       925        3          2              2                  1   \n",
       "3    1221500       697        4          2              3                  1   \n",
       "4    1141000       689        4          1              2                  1   \n",
       "..       ...       ...      ...        ...            ...                ...   \n",
       "540   182000       279        2          1              2                  1   \n",
       "541   176715       223        3          1              0                  0   \n",
       "542   175000       336        2          1              0                  1   \n",
       "543   175000       270        3          1              0                  0   \n",
       "544   175000       358        3          1              0                  1   \n",
       "\n",
       "     quarto_hospedes_sim  porao_sim  aquecimento_agua_sim  \\\n",
       "0                      0          0                     0   \n",
       "1                      0          0                     0   \n",
       "2                      0          1                     0   \n",
       "3                      0          1                     0   \n",
       "4                      1          1                     0   \n",
       "..                   ...        ...                   ...   \n",
       "540                    0          1                     0   \n",
       "541                    0          0                     0   \n",
       "542                    0          0                     0   \n",
       "543                    0          0                     0   \n",
       "544                    0          0                     0   \n",
       "\n",
       "     ar_condicionado_sim  local_pref_sim  mobilia_mobiliado  \\\n",
       "0                      1               1                  1   \n",
       "1                      1               0                  1   \n",
       "2                      0               1                  0   \n",
       "3                      1               1                  1   \n",
       "4                      1               0                  1   \n",
       "..                   ...             ...                ...   \n",
       "540                    0               0                  0   \n",
       "541                    0               0                  0   \n",
       "542                    0               0                  0   \n",
       "543                    0               0                  1   \n",
       "544                    0               0                  0   \n",
       "\n",
       "     mobilia_sem_mobilia  \n",
       "0                      0  \n",
       "1                      0  \n",
       "2                      0  \n",
       "3                      0  \n",
       "4                      0  \n",
       "..                   ...  \n",
       "540                    1  \n",
       "541                    0  \n",
       "542                    1  \n",
       "543                    0  \n",
       "544                    1  \n",
       "\n",
       "[545 rows x 13 columns]"
      ]
     },
     "execution_count": 37,
     "metadata": {},
     "output_type": "execute_result"
    }
   ],
   "source": [
    "dados"
   ]
  },
  {
   "cell_type": "code",
   "execution_count": 39,
   "id": "5f0c118f-1bb2-4294-a274-ff615df413d9",
   "metadata": {},
   "outputs": [],
   "source": [
    "#%% Modelo de Regressão Linear Múltipla (MQO)\n",
    "\n",
    "# Estimação do modelo\n",
    "reg = sm.OLS.from_formula(formula = 'preco ~ area_sqm + quartos + banheiros + \\\n",
    "                                     rua_principal_sim + quarto_hospedes_sim + \\\n",
    "                                     porao_sim + aquecimento_agua_sim + \\\n",
    "                                     ar_condicionado_sim + vagas_garagem + \\\n",
    "                                     local_pref_sim + mobilia_mobiliado + \\\n",
    "                                     mobilia_sem_mobilia',\n",
    "                          data=dados).fit()\n"
   ]
  },
  {
   "cell_type": "code",
   "execution_count": 40,
   "id": "35300e85-ab01-4463-b2bd-061afc49fb76",
   "metadata": {},
   "outputs": [
    {
     "data": {
      "text/html": [
       "<table class=\"simpletable\">\n",
       "<caption>OLS Regression Results</caption>\n",
       "<tr>\n",
       "  <th>Dep. Variable:</th>          <td>preco</td>      <th>  R-squared:         </th> <td>   0.652</td> \n",
       "</tr>\n",
       "<tr>\n",
       "  <th>Model:</th>                   <td>OLS</td>       <th>  Adj. R-squared:    </th> <td>   0.644</td> \n",
       "</tr>\n",
       "<tr>\n",
       "  <th>Method:</th>             <td>Least Squares</td>  <th>  F-statistic:       </th> <td>   83.14</td> \n",
       "</tr>\n",
       "<tr>\n",
       "  <th>Date:</th>             <td>Thu, 10 Oct 2024</td> <th>  Prob (F-statistic):</th> <td>1.37e-113</td>\n",
       "</tr>\n",
       "<tr>\n",
       "  <th>Time:</th>                 <td>19:49:21</td>     <th>  Log-Likelihood:    </th> <td> -7100.8</td> \n",
       "</tr>\n",
       "<tr>\n",
       "  <th>No. Observations:</th>      <td>   545</td>      <th>  AIC:               </th> <td>1.423e+04</td>\n",
       "</tr>\n",
       "<tr>\n",
       "  <th>Df Residuals:</th>          <td>   532</td>      <th>  BIC:               </th> <td>1.428e+04</td>\n",
       "</tr>\n",
       "<tr>\n",
       "  <th>Df Model:</th>              <td>    12</td>      <th>                     </th>     <td> </td>    \n",
       "</tr>\n",
       "<tr>\n",
       "  <th>Covariance Type:</th>      <td>nonrobust</td>    <th>                     </th>     <td> </td>    \n",
       "</tr>\n",
       "</table>\n",
       "<table class=\"simpletable\">\n",
       "<tr>\n",
       "            <td></td>              <th>coef</th>     <th>std err</th>      <th>t</th>      <th>P>|t|</th>  <th>[0.025</th>    <th>0.975]</th>  \n",
       "</tr>\n",
       "<tr>\n",
       "  <th>Intercept</th>            <td> 5114.4326</td> <td> 2.61e+04</td> <td>    0.196</td> <td> 0.845</td> <td>-4.61e+04</td> <td> 5.63e+04</td>\n",
       "</tr>\n",
       "<tr>\n",
       "  <th>area_sqm</th>             <td>  248.9324</td> <td>   27.231</td> <td>    9.141</td> <td> 0.000</td> <td>  195.438</td> <td>  302.427</td>\n",
       "</tr>\n",
       "<tr>\n",
       "  <th>quartos</th>              <td>  2.94e+04</td> <td> 7099.189</td> <td>    4.142</td> <td> 0.000</td> <td> 1.55e+04</td> <td> 4.33e+04</td>\n",
       "</tr>\n",
       "<tr>\n",
       "  <th>banheiros</th>            <td> 1.138e+05</td> <td> 1.06e+04</td> <td>   10.768</td> <td> 0.000</td> <td>  9.3e+04</td> <td> 1.35e+05</td>\n",
       "</tr>\n",
       "<tr>\n",
       "  <th>rua_principal_sim</th>    <td> 5.633e+04</td> <td> 1.47e+04</td> <td>    3.831</td> <td> 0.000</td> <td> 2.74e+04</td> <td> 8.52e+04</td>\n",
       "</tr>\n",
       "<tr>\n",
       "  <th>quarto_hospedes_sim</th>  <td>  3.55e+04</td> <td> 1.37e+04</td> <td>    2.585</td> <td> 0.010</td> <td> 8519.520</td> <td> 6.25e+04</td>\n",
       "</tr>\n",
       "<tr>\n",
       "  <th>porao_sim</th>            <td> 1.345e+04</td> <td> 1.11e+04</td> <td>    1.216</td> <td> 0.225</td> <td>-8283.756</td> <td> 3.52e+04</td>\n",
       "</tr>\n",
       "<tr>\n",
       "  <th>aquecimento_agua_sim</th> <td> 9.057e+04</td> <td> 2.33e+04</td> <td>    3.888</td> <td> 0.000</td> <td> 4.48e+04</td> <td> 1.36e+05</td>\n",
       "</tr>\n",
       "<tr>\n",
       "  <th>ar_condicionado_sim</th>  <td> 1.048e+05</td> <td>  1.1e+04</td> <td>    9.541</td> <td> 0.000</td> <td> 8.32e+04</td> <td> 1.26e+05</td>\n",
       "</tr>\n",
       "<tr>\n",
       "  <th>vagas_garagem</th>        <td>  2.46e+04</td> <td> 6095.444</td> <td>    4.036</td> <td> 0.000</td> <td> 1.26e+04</td> <td> 3.66e+04</td>\n",
       "</tr>\n",
       "<tr>\n",
       "  <th>local_pref_sim</th>       <td> 6.772e+04</td> <td> 1.21e+04</td> <td>    5.607</td> <td> 0.000</td> <td>  4.4e+04</td> <td> 9.14e+04</td>\n",
       "</tr>\n",
       "<tr>\n",
       "  <th>mobilia_mobiliado</th>    <td> 6296.9936</td> <td> 1.22e+04</td> <td>    0.517</td> <td> 0.605</td> <td>-1.76e+04</td> <td> 3.02e+04</td>\n",
       "</tr>\n",
       "<tr>\n",
       "  <th>mobilia_sem_mobilia</th>  <td>-3.759e+04</td> <td> 1.14e+04</td> <td>   -3.296</td> <td> 0.001</td> <td>   -6e+04</td> <td>-1.52e+04</td>\n",
       "</tr>\n",
       "</table>\n",
       "<table class=\"simpletable\">\n",
       "<tr>\n",
       "  <th>Omnibus:</th>       <td>84.098</td> <th>  Durbin-Watson:     </th> <td>   1.170</td>\n",
       "</tr>\n",
       "<tr>\n",
       "  <th>Prob(Omnibus):</th> <td> 0.000</td> <th>  Jarque-Bera (JB):  </th> <td> 182.610</td>\n",
       "</tr>\n",
       "<tr>\n",
       "  <th>Skew:</th>          <td> 0.840</td> <th>  Prob(JB):          </th> <td>2.22e-40</td>\n",
       "</tr>\n",
       "<tr>\n",
       "  <th>Kurtosis:</th>      <td> 5.284</td> <th>  Cond. No.          </th> <td>3.02e+03</td>\n",
       "</tr>\n",
       "</table><br/><br/>Notes:<br/>[1] Standard Errors assume that the covariance matrix of the errors is correctly specified.<br/>[2] The condition number is large, 3.02e+03. This might indicate that there are<br/>strong multicollinearity or other numerical problems."
      ],
      "text/latex": [
       "\\begin{center}\n",
       "\\begin{tabular}{lclc}\n",
       "\\toprule\n",
       "\\textbf{Dep. Variable:}         &      preco       & \\textbf{  R-squared:         } &     0.652   \\\\\n",
       "\\textbf{Model:}                 &       OLS        & \\textbf{  Adj. R-squared:    } &     0.644   \\\\\n",
       "\\textbf{Method:}                &  Least Squares   & \\textbf{  F-statistic:       } &     83.14   \\\\\n",
       "\\textbf{Date:}                  & Thu, 10 Oct 2024 & \\textbf{  Prob (F-statistic):} & 1.37e-113   \\\\\n",
       "\\textbf{Time:}                  &     19:49:21     & \\textbf{  Log-Likelihood:    } &   -7100.8   \\\\\n",
       "\\textbf{No. Observations:}      &         545      & \\textbf{  AIC:               } & 1.423e+04   \\\\\n",
       "\\textbf{Df Residuals:}          &         532      & \\textbf{  BIC:               } & 1.428e+04   \\\\\n",
       "\\textbf{Df Model:}              &          12      & \\textbf{                     } &             \\\\\n",
       "\\textbf{Covariance Type:}       &    nonrobust     & \\textbf{                     } &             \\\\\n",
       "\\bottomrule\n",
       "\\end{tabular}\n",
       "\\begin{tabular}{lcccccc}\n",
       "                                & \\textbf{coef} & \\textbf{std err} & \\textbf{t} & \\textbf{P$> |$t$|$} & \\textbf{[0.025} & \\textbf{0.975]}  \\\\\n",
       "\\midrule\n",
       "\\textbf{Intercept}              &    5114.4326  &     2.61e+04     &     0.196  &         0.845        &    -4.61e+04    &     5.63e+04     \\\\\n",
       "\\textbf{area\\_sqm}              &     248.9324  &       27.231     &     9.141  &         0.000        &      195.438    &      302.427     \\\\\n",
       "\\textbf{quartos}                &     2.94e+04  &     7099.189     &     4.142  &         0.000        &     1.55e+04    &     4.33e+04     \\\\\n",
       "\\textbf{banheiros}              &    1.138e+05  &     1.06e+04     &    10.768  &         0.000        &      9.3e+04    &     1.35e+05     \\\\\n",
       "\\textbf{rua\\_principal\\_sim}    &    5.633e+04  &     1.47e+04     &     3.831  &         0.000        &     2.74e+04    &     8.52e+04     \\\\\n",
       "\\textbf{quarto\\_hospedes\\_sim}  &     3.55e+04  &     1.37e+04     &     2.585  &         0.010        &     8519.520    &     6.25e+04     \\\\\n",
       "\\textbf{porao\\_sim}             &    1.345e+04  &     1.11e+04     &     1.216  &         0.225        &    -8283.756    &     3.52e+04     \\\\\n",
       "\\textbf{aquecimento\\_agua\\_sim} &    9.057e+04  &     2.33e+04     &     3.888  &         0.000        &     4.48e+04    &     1.36e+05     \\\\\n",
       "\\textbf{ar\\_condicionado\\_sim}  &    1.048e+05  &      1.1e+04     &     9.541  &         0.000        &     8.32e+04    &     1.26e+05     \\\\\n",
       "\\textbf{vagas\\_garagem}         &     2.46e+04  &     6095.444     &     4.036  &         0.000        &     1.26e+04    &     3.66e+04     \\\\\n",
       "\\textbf{local\\_pref\\_sim}       &    6.772e+04  &     1.21e+04     &     5.607  &         0.000        &      4.4e+04    &     9.14e+04     \\\\\n",
       "\\textbf{mobilia\\_mobiliado}     &    6296.9936  &     1.22e+04     &     0.517  &         0.605        &    -1.76e+04    &     3.02e+04     \\\\\n",
       "\\textbf{mobilia\\_sem\\_mobilia}  &   -3.759e+04  &     1.14e+04     &    -3.296  &         0.001        &       -6e+04    &    -1.52e+04     \\\\\n",
       "\\bottomrule\n",
       "\\end{tabular}\n",
       "\\begin{tabular}{lclc}\n",
       "\\textbf{Omnibus:}       & 84.098 & \\textbf{  Durbin-Watson:     } &    1.170  \\\\\n",
       "\\textbf{Prob(Omnibus):} &  0.000 & \\textbf{  Jarque-Bera (JB):  } &  182.610  \\\\\n",
       "\\textbf{Skew:}          &  0.840 & \\textbf{  Prob(JB):          } & 2.22e-40  \\\\\n",
       "\\textbf{Kurtosis:}      &  5.284 & \\textbf{  Cond. No.          } & 3.02e+03  \\\\\n",
       "\\bottomrule\n",
       "\\end{tabular}\n",
       "%\\caption{OLS Regression Results}\n",
       "\\end{center}\n",
       "\n",
       "Notes: \\newline\n",
       " [1] Standard Errors assume that the covariance matrix of the errors is correctly specified. \\newline\n",
       " [2] The condition number is large, 3.02e+03. This might indicate that there are \\newline\n",
       " strong multicollinearity or other numerical problems."
      ],
      "text/plain": [
       "<class 'statsmodels.iolib.summary.Summary'>\n",
       "\"\"\"\n",
       "                            OLS Regression Results                            \n",
       "==============================================================================\n",
       "Dep. Variable:                  preco   R-squared:                       0.652\n",
       "Model:                            OLS   Adj. R-squared:                  0.644\n",
       "Method:                 Least Squares   F-statistic:                     83.14\n",
       "Date:                Thu, 10 Oct 2024   Prob (F-statistic):          1.37e-113\n",
       "Time:                        19:49:21   Log-Likelihood:                -7100.8\n",
       "No. Observations:                 545   AIC:                         1.423e+04\n",
       "Df Residuals:                     532   BIC:                         1.428e+04\n",
       "Df Model:                          12                                         \n",
       "Covariance Type:            nonrobust                                         \n",
       "========================================================================================\n",
       "                           coef    std err          t      P>|t|      [0.025      0.975]\n",
       "----------------------------------------------------------------------------------------\n",
       "Intercept             5114.4326   2.61e+04      0.196      0.845   -4.61e+04    5.63e+04\n",
       "area_sqm               248.9324     27.231      9.141      0.000     195.438     302.427\n",
       "quartos                2.94e+04   7099.189      4.142      0.000    1.55e+04    4.33e+04\n",
       "banheiros             1.138e+05   1.06e+04     10.768      0.000     9.3e+04    1.35e+05\n",
       "rua_principal_sim     5.633e+04   1.47e+04      3.831      0.000    2.74e+04    8.52e+04\n",
       "quarto_hospedes_sim    3.55e+04   1.37e+04      2.585      0.010    8519.520    6.25e+04\n",
       "porao_sim             1.345e+04   1.11e+04      1.216      0.225   -8283.756    3.52e+04\n",
       "aquecimento_agua_sim  9.057e+04   2.33e+04      3.888      0.000    4.48e+04    1.36e+05\n",
       "ar_condicionado_sim   1.048e+05    1.1e+04      9.541      0.000    8.32e+04    1.26e+05\n",
       "vagas_garagem          2.46e+04   6095.444      4.036      0.000    1.26e+04    3.66e+04\n",
       "local_pref_sim        6.772e+04   1.21e+04      5.607      0.000     4.4e+04    9.14e+04\n",
       "mobilia_mobiliado     6296.9936   1.22e+04      0.517      0.605   -1.76e+04    3.02e+04\n",
       "mobilia_sem_mobilia  -3.759e+04   1.14e+04     -3.296      0.001      -6e+04   -1.52e+04\n",
       "==============================================================================\n",
       "Omnibus:                       84.098   Durbin-Watson:                   1.170\n",
       "Prob(Omnibus):                  0.000   Jarque-Bera (JB):              182.610\n",
       "Skew:                           0.840   Prob(JB):                     2.22e-40\n",
       "Kurtosis:                       5.284   Cond. No.                     3.02e+03\n",
       "==============================================================================\n",
       "\n",
       "Notes:\n",
       "[1] Standard Errors assume that the covariance matrix of the errors is correctly specified.\n",
       "[2] The condition number is large, 3.02e+03. This might indicate that there are\n",
       "strong multicollinearity or other numerical problems.\n",
       "\"\"\""
      ]
     },
     "execution_count": 40,
     "metadata": {},
     "output_type": "execute_result"
    }
   ],
   "source": [
    "# Obtenção dos outputs\n",
    "reg.summary()"
   ]
  },
  {
   "cell_type": "markdown",
   "id": "e82aee0a-5317-4875-97ea-5839685f4b71",
   "metadata": {},
   "source": [
    "## Teste de aderência dos resíduos à normalidade"
   ]
  },
  {
   "cell_type": "code",
   "execution_count": 42,
   "id": "56209437-b2a1-46b1-b714-acea0c2abbc9",
   "metadata": {},
   "outputs": [
    {
     "name": "stdout",
     "output_type": "stream",
     "text": [
      "method  :  Shapiro-Francia normality test\n",
      "statistics W  :  0.961728966158495\n",
      "statistics z  :  5.960073338775533\n",
      "p-value  :  1.2606237779414531e-09\n",
      "Rejeita-se H0 - Distribuição não aderente à normalidade\n"
     ]
    }
   ],
   "source": [
    "#%% Teste de verificação da aderência dos resíduos à normalidade\n",
    "\n",
    "# Elaboração do teste de Shapiro-Francia\n",
    "teste_sf = shapiro_francia(reg.resid)\n",
    "round(teste_sf['p-value'], 5)\n",
    "\n",
    "# Tomando a decisão por meio do teste de hipóteses\n",
    "\n",
    "alpha = 0.05 # nível de significância do teste\n",
    "\n",
    "if teste_sf['p-value'] > alpha:\n",
    "\tprint('Não se rejeita H0 - Distribuição aderente à normalidade')\n",
    "else:\n",
    "\tprint('Rejeita-se H0 - Distribuição não aderente à normalidade')"
   ]
  },
  {
   "cell_type": "markdown",
   "id": "05819b58-b60d-4d9b-9ec1-3ab748b03565",
   "metadata": {},
   "source": [
    "### Visualização dos resíduos"
   ]
  },
  {
   "cell_type": "code",
   "execution_count": 43,
   "id": "ddeec189-d418-4ffb-b2d2-47ddd1ca3c62",
   "metadata": {},
   "outputs": [
    {
     "data": {
      "image/png": "[encoded data removed]",
      "text/plain": [
       "<Figure size 1500x1000 with 1 Axes>"
      ]
     },
     "metadata": {},
     "output_type": "display_data"
    }
   ],
   "source": [
    "#%% Histograma dos resíduos do modelo OLS\n",
    "\n",
    "# Parâmetros de referência para a distribuição normal teórica\n",
    "(mu, std) = norm.fit(reg.resid)\n",
    "\n",
    "# Criação do gráfico\n",
    "plt.figure(figsize=(15,10))\n",
    "plt.hist(reg.resid, bins=35, density=True, alpha=0.7, color='purple')\n",
    "xmin, xmax = plt.xlim()\n",
    "x = np.linspace(xmin, xmax, 1000)\n",
    "p = norm.pdf(x, mu, std)\n",
    "plt.plot(x, p, linewidth=3, color='red')\n",
    "plt.title('Resíduos do Modelo', fontsize=20)\n",
    "plt.xlabel('Resíduos', fontsize=22)\n",
    "plt.ylabel('Frequência', fontsize=22)\n",
    "plt.show()"
   ]
  },
  {
   "cell_type": "markdown",
   "id": "c17a207b-86ee-4acd-b07f-9eb5ad44a79e",
   "metadata": {},
   "source": [
    "## Procedimento de transformação de box-cox"
   ]
  },
  {
   "cell_type": "markdown",
   "id": "1428d065-1500-487a-ba35-81910f166ba9",
   "metadata": {},
   "source": [
    "O procedimento de transformação de box cox ajusta os resíduos para que sejam aderentes à normalidade. É criado um $Y_{BC}$ onde\n",
    "\n",
    "\\begin{equation}\n",
    "Y_{BC} = \\dfrac{Y^\\lambda - 1}{\\lambda}\n",
    "\\end{equation}"
   ]
  },
  {
   "cell_type": "code",
   "execution_count": 44,
   "id": "2268b3d8-9691-43f1-87b9-173a98f47f64",
   "metadata": {},
   "outputs": [
    {
     "name": "stdout",
     "output_type": "stream",
     "text": [
      "-0.1346467215803929\n"
     ]
    }
   ],
   "source": [
    "#%% Realizando a transformação de Box-Cox na variável dependente\n",
    "\n",
    "y_box, lmbda = boxcox(dados['preco'])\n",
    "\n",
    "# Valor obtido para o lambda\n",
    "print(lmbda)\n",
    "\n",
    "# Adicionando ao banco de dados\n",
    "dados['preco_bc'] = y_box"
   ]
  },
  {
   "cell_type": "code",
   "execution_count": 47,
   "id": "91747e4c-3f66-4b6f-842d-848aec7ba6f6",
   "metadata": {},
   "outputs": [
    {
     "data": {
      "text/html": [
       "<div>\n",
       "<style scoped>\n",
       "    .dataframe tbody tr th:only-of-type {\n",
       "        vertical-align: middle;\n",
       "    }\n",
       "\n",
       "    .dataframe tbody tr th {\n",
       "        vertical-align: top;\n",
       "    }\n",
       "\n",
       "    .dataframe thead th {\n",
       "        text-align: right;\n",
       "    }\n",
       "</style>\n",
       "<table border=\"1\" class=\"dataframe\">\n",
       "  <thead>\n",
       "    <tr style=\"text-align: right;\">\n",
       "      <th></th>\n",
       "      <th>preco</th>\n",
       "      <th>area_sqm</th>\n",
       "      <th>quartos</th>\n",
       "      <th>banheiros</th>\n",
       "      <th>vagas_garagem</th>\n",
       "      <th>rua_principal_sim</th>\n",
       "      <th>quarto_hospedes_sim</th>\n",
       "      <th>porao_sim</th>\n",
       "      <th>aquecimento_agua_sim</th>\n",
       "      <th>ar_condicionado_sim</th>\n",
       "      <th>local_pref_sim</th>\n",
       "      <th>mobilia_mobiliado</th>\n",
       "      <th>mobilia_sem_mobilia</th>\n",
       "      <th>preco_bc</th>\n",
       "    </tr>\n",
       "  </thead>\n",
       "  <tbody>\n",
       "    <tr>\n",
       "      <th>0</th>\n",
       "      <td>1330000</td>\n",
       "      <td>689</td>\n",
       "      <td>4</td>\n",
       "      <td>2</td>\n",
       "      <td>2</td>\n",
       "      <td>1</td>\n",
       "      <td>0</td>\n",
       "      <td>0</td>\n",
       "      <td>0</td>\n",
       "      <td>1</td>\n",
       "      <td>1</td>\n",
       "      <td>1</td>\n",
       "      <td>0</td>\n",
       "      <td>6.314477</td>\n",
       "    </tr>\n",
       "    <tr>\n",
       "      <th>1</th>\n",
       "      <td>1225000</td>\n",
       "      <td>832</td>\n",
       "      <td>4</td>\n",
       "      <td>4</td>\n",
       "      <td>3</td>\n",
       "      <td>1</td>\n",
       "      <td>0</td>\n",
       "      <td>0</td>\n",
       "      <td>0</td>\n",
       "      <td>1</td>\n",
       "      <td>0</td>\n",
       "      <td>1</td>\n",
       "      <td>0</td>\n",
       "      <td>6.302091</td>\n",
       "    </tr>\n",
       "    <tr>\n",
       "      <th>2</th>\n",
       "      <td>1225000</td>\n",
       "      <td>925</td>\n",
       "      <td>3</td>\n",
       "      <td>2</td>\n",
       "      <td>2</td>\n",
       "      <td>1</td>\n",
       "      <td>0</td>\n",
       "      <td>1</td>\n",
       "      <td>0</td>\n",
       "      <td>0</td>\n",
       "      <td>1</td>\n",
       "      <td>0</td>\n",
       "      <td>0</td>\n",
       "      <td>6.302091</td>\n",
       "    </tr>\n",
       "  </tbody>\n",
       "</table>\n",
       "</div>"
      ],
      "text/plain": [
       "     preco  area_sqm  quartos  banheiros  vagas_garagem  rua_principal_sim  \\\n",
       "0  1330000       689        4          2              2                  1   \n",
       "1  1225000       832        4          4              3                  1   \n",
       "2  1225000       925        3          2              2                  1   \n",
       "\n",
       "   quarto_hospedes_sim  porao_sim  aquecimento_agua_sim  ar_condicionado_sim  \\\n",
       "0                    0          0                     0                    1   \n",
       "1                    0          0                     0                    1   \n",
       "2                    0          1                     0                    0   \n",
       "\n",
       "   local_pref_sim  mobilia_mobiliado  mobilia_sem_mobilia  preco_bc  \n",
       "0               1                  1                    0  6.314477  \n",
       "1               0                  1                    0  6.302091  \n",
       "2               1                  0                    0  6.302091  "
      ]
     },
     "execution_count": 47,
     "metadata": {},
     "output_type": "execute_result"
    }
   ],
   "source": [
    "dados[0:3]"
   ]
  },
  {
   "cell_type": "code",
   "execution_count": 48,
   "id": "fe922c80-fdd7-4ade-8add-724eb85db823",
   "metadata": {},
   "outputs": [
    {
     "data": {
      "text/html": [
       "<table class=\"simpletable\">\n",
       "<caption>OLS Regression Results</caption>\n",
       "<tr>\n",
       "  <th>Dep. Variable:</th>        <td>preco_bc</td>     <th>  R-squared:         </th> <td>   0.665</td> \n",
       "</tr>\n",
       "<tr>\n",
       "  <th>Model:</th>                   <td>OLS</td>       <th>  Adj. R-squared:    </th> <td>   0.658</td> \n",
       "</tr>\n",
       "<tr>\n",
       "  <th>Method:</th>             <td>Least Squares</td>  <th>  F-statistic:       </th> <td>   88.06</td> \n",
       "</tr>\n",
       "<tr>\n",
       "  <th>Date:</th>             <td>Thu, 10 Oct 2024</td> <th>  Prob (F-statistic):</th> <td>6.35e-118</td>\n",
       "</tr>\n",
       "<tr>\n",
       "  <th>Time:</th>                 <td>19:58:56</td>     <th>  Log-Likelihood:    </th> <td>  1019.2</td> \n",
       "</tr>\n",
       "<tr>\n",
       "  <th>No. Observations:</th>      <td>   545</td>      <th>  AIC:               </th> <td>  -2012.</td> \n",
       "</tr>\n",
       "<tr>\n",
       "  <th>Df Residuals:</th>          <td>   532</td>      <th>  BIC:               </th> <td>  -1957.</td> \n",
       "</tr>\n",
       "<tr>\n",
       "  <th>Df Model:</th>              <td>    12</td>      <th>                     </th>     <td> </td>    \n",
       "</tr>\n",
       "<tr>\n",
       "  <th>Covariance Type:</th>      <td>nonrobust</td>    <th>                     </th>     <td> </td>    \n",
       "</tr>\n",
       "</table>\n",
       "<table class=\"simpletable\">\n",
       "<tr>\n",
       "            <td></td>              <th>coef</th>     <th>std err</th>      <th>t</th>      <th>P>|t|</th>  <th>[0.025</th>    <th>0.975]</th>  \n",
       "</tr>\n",
       "<tr>\n",
       "  <th>Intercept</th>            <td>    5.9768</td> <td>    0.009</td> <td>  677.790</td> <td> 0.000</td> <td>    5.959</td> <td>    5.994</td>\n",
       "</tr>\n",
       "<tr>\n",
       "  <th>area_sqm</th>             <td> 8.719e-05</td> <td> 9.21e-06</td> <td>    9.464</td> <td> 0.000</td> <td> 6.91e-05</td> <td>    0.000</td>\n",
       "</tr>\n",
       "<tr>\n",
       "  <th>quartos</th>              <td>    0.0114</td> <td>    0.002</td> <td>    4.746</td> <td> 0.000</td> <td>    0.007</td> <td>    0.016</td>\n",
       "</tr>\n",
       "<tr>\n",
       "  <th>banheiros</th>            <td>    0.0325</td> <td>    0.004</td> <td>    9.105</td> <td> 0.000</td> <td>    0.026</td> <td>    0.040</td>\n",
       "</tr>\n",
       "<tr>\n",
       "  <th>rua_principal_sim</th>    <td>    0.0259</td> <td>    0.005</td> <td>    5.210</td> <td> 0.000</td> <td>    0.016</td> <td>    0.036</td>\n",
       "</tr>\n",
       "<tr>\n",
       "  <th>quarto_hospedes_sim</th>  <td>    0.0140</td> <td>    0.005</td> <td>    3.013</td> <td> 0.003</td> <td>    0.005</td> <td>    0.023</td>\n",
       "</tr>\n",
       "<tr>\n",
       "  <th>porao_sim</th>            <td>    0.0085</td> <td>    0.004</td> <td>    2.262</td> <td> 0.024</td> <td>    0.001</td> <td>    0.016</td>\n",
       "</tr>\n",
       "<tr>\n",
       "  <th>aquecimento_agua_sim</th> <td>    0.0297</td> <td>    0.008</td> <td>    3.762</td> <td> 0.000</td> <td>    0.014</td> <td>    0.045</td>\n",
       "</tr>\n",
       "<tr>\n",
       "  <th>ar_condicionado_sim</th>  <td>    0.0364</td> <td>    0.004</td> <td>    9.806</td> <td> 0.000</td> <td>    0.029</td> <td>    0.044</td>\n",
       "</tr>\n",
       "<tr>\n",
       "  <th>vagas_garagem</th>        <td>    0.0064</td> <td>    0.002</td> <td>    3.127</td> <td> 0.002</td> <td>    0.002</td> <td>    0.010</td>\n",
       "</tr>\n",
       "<tr>\n",
       "  <th>local_pref_sim</th>       <td>    0.0227</td> <td>    0.004</td> <td>    5.545</td> <td> 0.000</td> <td>    0.015</td> <td>    0.031</td>\n",
       "</tr>\n",
       "<tr>\n",
       "  <th>mobilia_mobiliado</th>    <td>   -0.0032</td> <td>    0.004</td> <td>   -0.768</td> <td> 0.443</td> <td>   -0.011</td> <td>    0.005</td>\n",
       "</tr>\n",
       "<tr>\n",
       "  <th>mobilia_sem_mobilia</th>  <td>   -0.0238</td> <td>    0.004</td> <td>   -6.167</td> <td> 0.000</td> <td>   -0.031</td> <td>   -0.016</td>\n",
       "</tr>\n",
       "</table>\n",
       "<table class=\"simpletable\">\n",
       "<tr>\n",
       "  <th>Omnibus:</th>       <td> 2.471</td> <th>  Durbin-Watson:     </th> <td>   1.239</td>\n",
       "</tr>\n",
       "<tr>\n",
       "  <th>Prob(Omnibus):</th> <td> 0.291</td> <th>  Jarque-Bera (JB):  </th> <td>   2.303</td>\n",
       "</tr>\n",
       "<tr>\n",
       "  <th>Skew:</th>          <td>-0.111</td> <th>  Prob(JB):          </th> <td>   0.316</td>\n",
       "</tr>\n",
       "<tr>\n",
       "  <th>Kurtosis:</th>      <td> 3.228</td> <th>  Cond. No.          </th> <td>3.02e+03</td>\n",
       "</tr>\n",
       "</table><br/><br/>Notes:<br/>[1] Standard Errors assume that the covariance matrix of the errors is correctly specified.<br/>[2] The condition number is large, 3.02e+03. This might indicate that there are<br/>strong multicollinearity or other numerical problems."
      ],
      "text/latex": [
       "\\begin{center}\n",
       "\\begin{tabular}{lclc}\n",
       "\\toprule\n",
       "\\textbf{Dep. Variable:}         &    preco\\_bc     & \\textbf{  R-squared:         } &     0.665   \\\\\n",
       "\\textbf{Model:}                 &       OLS        & \\textbf{  Adj. R-squared:    } &     0.658   \\\\\n",
       "\\textbf{Method:}                &  Least Squares   & \\textbf{  F-statistic:       } &     88.06   \\\\\n",
       "\\textbf{Date:}                  & Thu, 10 Oct 2024 & \\textbf{  Prob (F-statistic):} & 6.35e-118   \\\\\n",
       "\\textbf{Time:}                  &     19:58:56     & \\textbf{  Log-Likelihood:    } &    1019.2   \\\\\n",
       "\\textbf{No. Observations:}      &         545      & \\textbf{  AIC:               } &    -2012.   \\\\\n",
       "\\textbf{Df Residuals:}          &         532      & \\textbf{  BIC:               } &    -1957.   \\\\\n",
       "\\textbf{Df Model:}              &          12      & \\textbf{                     } &             \\\\\n",
       "\\textbf{Covariance Type:}       &    nonrobust     & \\textbf{                     } &             \\\\\n",
       "\\bottomrule\n",
       "\\end{tabular}\n",
       "\\begin{tabular}{lcccccc}\n",
       "                                & \\textbf{coef} & \\textbf{std err} & \\textbf{t} & \\textbf{P$> |$t$|$} & \\textbf{[0.025} & \\textbf{0.975]}  \\\\\n",
       "\\midrule\n",
       "\\textbf{Intercept}              &       5.9768  &        0.009     &   677.790  &         0.000        &        5.959    &        5.994     \\\\\n",
       "\\textbf{area\\_sqm}              &    8.719e-05  &     9.21e-06     &     9.464  &         0.000        &     6.91e-05    &        0.000     \\\\\n",
       "\\textbf{quartos}                &       0.0114  &        0.002     &     4.746  &         0.000        &        0.007    &        0.016     \\\\\n",
       "\\textbf{banheiros}              &       0.0325  &        0.004     &     9.105  &         0.000        &        0.026    &        0.040     \\\\\n",
       "\\textbf{rua\\_principal\\_sim}    &       0.0259  &        0.005     &     5.210  &         0.000        &        0.016    &        0.036     \\\\\n",
       "\\textbf{quarto\\_hospedes\\_sim}  &       0.0140  &        0.005     &     3.013  &         0.003        &        0.005    &        0.023     \\\\\n",
       "\\textbf{porao\\_sim}             &       0.0085  &        0.004     &     2.262  &         0.024        &        0.001    &        0.016     \\\\\n",
       "\\textbf{aquecimento\\_agua\\_sim} &       0.0297  &        0.008     &     3.762  &         0.000        &        0.014    &        0.045     \\\\\n",
       "\\textbf{ar\\_condicionado\\_sim}  &       0.0364  &        0.004     &     9.806  &         0.000        &        0.029    &        0.044     \\\\\n",
       "\\textbf{vagas\\_garagem}         &       0.0064  &        0.002     &     3.127  &         0.002        &        0.002    &        0.010     \\\\\n",
       "\\textbf{local\\_pref\\_sim}       &       0.0227  &        0.004     &     5.545  &         0.000        &        0.015    &        0.031     \\\\\n",
       "\\textbf{mobilia\\_mobiliado}     &      -0.0032  &        0.004     &    -0.768  &         0.443        &       -0.011    &        0.005     \\\\\n",
       "\\textbf{mobilia\\_sem\\_mobilia}  &      -0.0238  &        0.004     &    -6.167  &         0.000        &       -0.031    &       -0.016     \\\\\n",
       "\\bottomrule\n",
       "\\end{tabular}\n",
       "\\begin{tabular}{lclc}\n",
       "\\textbf{Omnibus:}       &  2.471 & \\textbf{  Durbin-Watson:     } &    1.239  \\\\\n",
       "\\textbf{Prob(Omnibus):} &  0.291 & \\textbf{  Jarque-Bera (JB):  } &    2.303  \\\\\n",
       "\\textbf{Skew:}          & -0.111 & \\textbf{  Prob(JB):          } &    0.316  \\\\\n",
       "\\textbf{Kurtosis:}      &  3.228 & \\textbf{  Cond. No.          } & 3.02e+03  \\\\\n",
       "\\bottomrule\n",
       "\\end{tabular}\n",
       "%\\caption{OLS Regression Results}\n",
       "\\end{center}\n",
       "\n",
       "Notes: \\newline\n",
       " [1] Standard Errors assume that the covariance matrix of the errors is correctly specified. \\newline\n",
       " [2] The condition number is large, 3.02e+03. This might indicate that there are \\newline\n",
       " strong multicollinearity or other numerical problems."
      ],
      "text/plain": [
       "<class 'statsmodels.iolib.summary.Summary'>\n",
       "\"\"\"\n",
       "                            OLS Regression Results                            \n",
       "==============================================================================\n",
       "Dep. Variable:               preco_bc   R-squared:                       0.665\n",
       "Model:                            OLS   Adj. R-squared:                  0.658\n",
       "Method:                 Least Squares   F-statistic:                     88.06\n",
       "Date:                Thu, 10 Oct 2024   Prob (F-statistic):          6.35e-118\n",
       "Time:                        19:58:56   Log-Likelihood:                 1019.2\n",
       "No. Observations:                 545   AIC:                            -2012.\n",
       "Df Residuals:                     532   BIC:                            -1957.\n",
       "Df Model:                          12                                         \n",
       "Covariance Type:            nonrobust                                         \n",
       "========================================================================================\n",
       "                           coef    std err          t      P>|t|      [0.025      0.975]\n",
       "----------------------------------------------------------------------------------------\n",
       "Intercept                5.9768      0.009    677.790      0.000       5.959       5.994\n",
       "area_sqm              8.719e-05   9.21e-06      9.464      0.000    6.91e-05       0.000\n",
       "quartos                  0.0114      0.002      4.746      0.000       0.007       0.016\n",
       "banheiros                0.0325      0.004      9.105      0.000       0.026       0.040\n",
       "rua_principal_sim        0.0259      0.005      5.210      0.000       0.016       0.036\n",
       "quarto_hospedes_sim      0.0140      0.005      3.013      0.003       0.005       0.023\n",
       "porao_sim                0.0085      0.004      2.262      0.024       0.001       0.016\n",
       "aquecimento_agua_sim     0.0297      0.008      3.762      0.000       0.014       0.045\n",
       "ar_condicionado_sim      0.0364      0.004      9.806      0.000       0.029       0.044\n",
       "vagas_garagem            0.0064      0.002      3.127      0.002       0.002       0.010\n",
       "local_pref_sim           0.0227      0.004      5.545      0.000       0.015       0.031\n",
       "mobilia_mobiliado       -0.0032      0.004     -0.768      0.443      -0.011       0.005\n",
       "mobilia_sem_mobilia     -0.0238      0.004     -6.167      0.000      -0.031      -0.016\n",
       "==============================================================================\n",
       "Omnibus:                        2.471   Durbin-Watson:                   1.239\n",
       "Prob(Omnibus):                  0.291   Jarque-Bera (JB):                2.303\n",
       "Skew:                          -0.111   Prob(JB):                        0.316\n",
       "Kurtosis:                       3.228   Cond. No.                     3.02e+03\n",
       "==============================================================================\n",
       "\n",
       "Notes:\n",
       "[1] Standard Errors assume that the covariance matrix of the errors is correctly specified.\n",
       "[2] The condition number is large, 3.02e+03. This might indicate that there are\n",
       "strong multicollinearity or other numerical problems.\n",
       "\"\"\""
      ]
     },
     "execution_count": 48,
     "metadata": {},
     "output_type": "execute_result"
    }
   ],
   "source": [
    "# Estimação do modelo\n",
    "reg_bc = sm.OLS.from_formula(formula = 'preco_bc ~ area_sqm + quartos + banheiros + \\\n",
    "                                        rua_principal_sim + quarto_hospedes_sim + \\\n",
    "                                        porao_sim + aquecimento_agua_sim + \\\n",
    "                                        ar_condicionado_sim + vagas_garagem + \\\n",
    "                                        local_pref_sim + mobilia_mobiliado + \\\n",
    "                                        mobilia_sem_mobilia',\n",
    "                             data=dados).fit()\n",
    "\n",
    "# Obtenção dos outputs\n",
    "reg_bc.summary()"
   ]
  },
  {
   "cell_type": "code",
   "execution_count": null,
   "id": "ebc57be5-285d-4a7c-9e1f-b8586fd1dce3",
   "metadata": {},
   "outputs": [],
   "source": []
  },
  {
   "cell_type": "code",
   "execution_count": 49,
   "id": "d32ec0d5-19c9-415a-a411-4ddad8f21d84",
   "metadata": {},
   "outputs": [
    {
     "name": "stdout",
     "output_type": "stream",
     "text": [
      "method  :  Shapiro-Francia normality test\n",
      "statistics W  :  0.9955639435080579\n",
      "statistics z  :  1.2065943649622548\n",
      "p-value  :  0.11379419897644988\n",
      "Não se rejeita H0 - Distribuição aderente à normalidade\n"
     ]
    }
   ],
   "source": [
    "#%% Reavaliando aderência à normalidade dos resíduos do modelo\n",
    "\n",
    "# Teste de Shapiro-Francia\n",
    "teste_sf_bc = shapiro_francia(reg_bc.resid)\n",
    "\n",
    "# Tomando a decisão por meio do teste de hipóteses\n",
    "\n",
    "alpha = 0.05 # nível de significância do teste\n",
    "\n",
    "if teste_sf_bc['p-value'] > alpha:\n",
    "\tprint('Não se rejeita H0 - Distribuição aderente à normalidade')\n",
    "else:\n",
    "\tprint('Rejeita-se H0 - Distribuição não aderente à normalidade')"
   ]
  },
  {
   "cell_type": "markdown",
   "id": "842e3a2a-8343-4df0-b153-f0bd20506ff0",
   "metadata": {},
   "source": [
    "## Procedimento stepwise"
   ]
  },
  {
   "cell_type": "code",
   "execution_count": 50,
   "id": "f7d8463d-3183-419a-b3f5-9c352159bb2b",
   "metadata": {},
   "outputs": [
    {
     "name": "stdout",
     "output_type": "stream",
     "text": [
      "Regression type: OLS \n",
      "\n",
      "Estimating model...: \n",
      " preco_bc ~ Q('area_sqm') + Q('quartos') + Q('banheiros') + Q('rua_principal_sim') + Q('quarto_hospedes_sim') + Q('porao_sim') + Q('aquecimento_agua_sim') + Q('ar_condicionado_sim') + Q('vagas_garagem') + Q('local_pref_sim') + Q('mobilia_mobiliado') + Q('mobilia_sem_mobilia')\n",
      "\n",
      " Discarding atribute \"Q('mobilia_mobiliado')\" with p-value equal to 0.4430979286708927 \n",
      "\n",
      "Estimating model...: \n",
      " preco_bc ~ Q('area_sqm') + Q('quartos') + Q('banheiros') + Q('rua_principal_sim') + Q('quarto_hospedes_sim') + Q('porao_sim') + Q('aquecimento_agua_sim') + Q('ar_condicionado_sim') + Q('vagas_garagem') + Q('local_pref_sim') + Q('mobilia_sem_mobilia')\n",
      "\n",
      " No more atributes with p-value higher than 0.05\n",
      "\n",
      " Atributes discarded on the process...: \n",
      "\n",
      "{'atribute': \"Q('mobilia_mobiliado')\", 'p-value': 0.4430979286708927}\n",
      "\n",
      " Model after stepwise process...: \n",
      " preco_bc ~ Q('area_sqm') + Q('quartos') + Q('banheiros') + Q('rua_principal_sim') + Q('quarto_hospedes_sim') + Q('porao_sim') + Q('aquecimento_agua_sim') + Q('ar_condicionado_sim') + Q('vagas_garagem') + Q('local_pref_sim') + Q('mobilia_sem_mobilia') \n",
      "\n",
      "                            OLS Regression Results                            \n",
      "==============================================================================\n",
      "Dep. Variable:               preco_bc   R-squared:                       0.665\n",
      "Model:                            OLS   Adj. R-squared:                  0.658\n",
      "Method:                 Least Squares   F-statistic:                     96.09\n",
      "Date:                Thu, 10 Oct 2024   Prob (F-statistic):          8.46e-119\n",
      "Time:                        20:20:40   Log-Likelihood:                 1018.9\n",
      "No. Observations:                 545   AIC:                            -2014.\n",
      "Df Residuals:                     533   BIC:                            -1962.\n",
      "Df Model:                          11                                         \n",
      "Covariance Type:            nonrobust                                         \n",
      "=============================================================================================\n",
      "                                coef    std err          t      P>|t|      [0.025      0.975]\n",
      "---------------------------------------------------------------------------------------------\n",
      "Intercept                     5.9761      0.009    681.713      0.000       5.959       5.993\n",
      "Q('area_sqm')              8.697e-05   9.21e-06      9.448      0.000    6.89e-05       0.000\n",
      "Q('quartos')                  0.0114      0.002      4.752      0.000       0.007       0.016\n",
      "Q('banheiros')                0.0325      0.004      9.092      0.000       0.025       0.039\n",
      "Q('rua_principal_sim')        0.0257      0.005      5.183      0.000       0.016       0.036\n",
      "Q('quarto_hospedes_sim')      0.0139      0.005      2.989      0.003       0.005       0.023\n",
      "Q('porao_sim')                0.0085      0.004      2.267      0.024       0.001       0.016\n",
      "Q('aquecimento_agua_sim')     0.0298      0.008      3.780      0.000       0.014       0.045\n",
      "Q('ar_condicionado_sim')      0.0362      0.004      9.782      0.000       0.029       0.043\n",
      "Q('vagas_garagem')            0.0064      0.002      3.109      0.002       0.002       0.010\n",
      "Q('local_pref_sim')           0.0225      0.004      5.523      0.000       0.015       0.031\n",
      "Q('mobilia_sem_mobilia')     -0.0227      0.004     -6.348      0.000      -0.030      -0.016\n",
      "==============================================================================\n",
      "Omnibus:                        2.852   Durbin-Watson:                   1.235\n",
      "Prob(Omnibus):                  0.240   Jarque-Bera (JB):                2.737\n",
      "Skew:                          -0.114   Prob(JB):                        0.254\n",
      "Kurtosis:                       3.262   Cond. No.                     3.00e+03\n",
      "==============================================================================\n",
      "\n",
      "Notes:\n",
      "[1] Standard Errors assume that the covariance matrix of the errors is correctly specified.\n",
      "[2] The condition number is large,  3e+03. This might indicate that there are\n",
      "strong multicollinearity or other numerical problems.\n"
     ]
    }
   ],
   "source": [
    "#%% Removendo as variáveis que não apresentam significância estatística\n",
    "\n",
    "# Carregamento da função 'stepwise' do pacote 'statstests.process'\n",
    "# Autores do pacote: Luiz Paulo Fávero e Helder Prado Santos\n",
    "# https://stats-tests.github.io/statstests/\n",
    "\n",
    "# Stepwise do modelo\n",
    "modelo_stepwise_bc = stepwise(reg_bc, pvalue_limit=0.05)\n"
   ]
  },
  {
   "cell_type": "code",
   "execution_count": 51,
   "id": "ef27f976-2d75-4866-a975-d9061939cd7d",
   "metadata": {},
   "outputs": [
    {
     "name": "stdout",
     "output_type": "stream",
     "text": [
      "method  :  Shapiro-Francia normality test\n",
      "statistics W  :  0.9952963638023059\n",
      "statistics z  :  1.3357920147130462\n",
      "p-value  :  0.09080863186585386\n"
     ]
    }
   ],
   "source": [
    "# Teste de Shapiro-Francia\n",
    "teste_sf_step = shapiro_francia(modelo_stepwise_bc.resid)"
   ]
  },
  {
   "cell_type": "code",
   "execution_count": 52,
   "id": "8ed173ea-0fd8-4930-9011-806d9464da06",
   "metadata": {},
   "outputs": [
    {
     "data": {
      "image/png": "[encoded data removed]",
      "text/plain": [
       "<Figure size 1500x1000 with 1 Axes>"
      ]
     },
     "metadata": {},
     "output_type": "display_data"
    }
   ],
   "source": [
    "#%% Novo histograma dos resíduos do modelo\n",
    "\n",
    "# Parâmetros de referência para a distribuição normal teórica\n",
    "(mu_bc, std_bc) = norm.fit(modelo_stepwise_bc.resid)\n",
    "\n",
    "# Criação do gráfico\n",
    "plt.figure(figsize=(15,10))\n",
    "plt.hist(modelo_stepwise_bc.resid, bins=30, density=True, alpha=0.8, color='darkblue')\n",
    "xmin_bc, xmax_bc = plt.xlim()\n",
    "x_bc = np.linspace(xmin_bc, xmax_bc, 1000)\n",
    "p_bc = norm.pdf(x_bc, mu_bc, std_bc)\n",
    "plt.plot(x_bc, p_bc, linewidth=3, color='red')\n",
    "plt.title('Resíduos do Modelo Box-Cox', fontsize=20)\n",
    "plt.xlabel('Resíduos', fontsize=22)\n",
    "plt.ylabel('Frequência', fontsize=22)\n",
    "plt.show()"
   ]
  },
  {
   "cell_type": "markdown",
   "id": "917605cd-e71b-4c15-9719-632c89b03cfb",
   "metadata": {},
   "source": [
    "## Fazendo predições"
   ]
  },
  {
   "cell_type": "code",
   "execution_count": 53,
   "id": "d686f0c4-e88e-4a28-9860-9acbe52e8b68",
   "metadata": {},
   "outputs": [
    {
     "name": "stdout",
     "output_type": "stream",
     "text": [
      "Valor Predito (Box-Cox): 6.21\n"
     ]
    }
   ],
   "source": [
    "# Modelo Não Linear (Box-Cox):\n",
    "valor_pred_bc = modelo_stepwise_bc.predict(pd.DataFrame({'area_sqm':[350],\n",
    "                                                         'quartos': [3],\n",
    "                                                         'banheiros': [3],\n",
    "                                                         'rua_principal_sim': [1],\n",
    "                                                         'quarto_hospedes_sim': [0],\n",
    "                                                         'porao_sim': [0],\n",
    "                                                         'aquecimento_agua_sim': [0],\n",
    "                                                         'ar_condicionado_sim': [1],\n",
    "                                                         'vagas_garagem': [2],\n",
    "                                                         'local_pref_sim': [0],\n",
    "                                                         'mobilia_sem_mobilia': [0]}))\n",
    "\n",
    "# Valor predito pelo modelo BC\n",
    "print(f\"Valor Predito (Box-Cox): {round(valor_pred_bc[0], 2)}\")"
   ]
  },
  {
   "cell_type": "code",
   "execution_count": 54,
   "id": "b15a5e54-1ac9-4ed0-aa1f-64fda3b950de",
   "metadata": {},
   "outputs": [
    {
     "name": "stdout",
     "output_type": "stream",
     "text": [
      "Valor Predito (Preço): 694874.84\n"
     ]
    }
   ],
   "source": [
    "# Cálculo inverso para a obtenção do valor predito Y (preço)\n",
    "valor_pred_preco = (valor_pred_bc * lmbda + 1) ** (1 / lmbda)\n",
    "print(f\"Valor Predito (Preço): {round(valor_pred_preco[0], 2)}\")"
   ]
  },
  {
   "cell_type": "code",
   "execution_count": 55,
   "id": "28ff9752-60f3-4593-a84f-5acc59c30e6c",
   "metadata": {},
   "outputs": [
    {
     "data": {
      "image/png": "[encoded data removed]",
      "text/plain": [
       "<Figure size 640x480 with 1 Axes>"
      ]
     },
     "metadata": {},
     "output_type": "display_data"
    }
   ],
   "source": [
    "#%% Gráfico fitted values\n",
    "\n",
    "# Valores preditos pelo modelo para as observações da amostra\n",
    "dados['fitted_bc'] = modelo_stepwise_bc.predict()\n",
    "\n",
    "sns.regplot(dados, x='preco_bc', y='fitted_bc', color='blue', ci=False, line_kws={'color': 'red'})\n",
    "plt.title('Analisando o Ajuste das Previsões', fontsize=10)\n",
    "plt.xlabel('Preço Observado (Box-Cox)', fontsize=10)\n",
    "plt.ylabel('Preço Previsto pelo Modelo (Box-Cox)', fontsize=10)\n",
    "plt.axline((5.95, 5.95), (max(dados['preco_bc']), max(dados['preco_bc'])), linewidth=1, color='grey')\n",
    "plt.show()"
   ]
  },
  {
   "cell_type": "markdown",
   "id": "e6be4dbd-1933-4bdd-b4c7-746c8e47917b",
   "metadata": {},
   "source": [
    "### Teste de Breusch-Pagan"
   ]
  },
  {
   "cell_type": "markdown",
   "id": "676996c1-652d-47da-86dd-8dfb5c8466f3",
   "metadata": {},
   "source": [
    "#### Aplicação do teste no modelo Box-Cox"
   ]
  },
  {
   "cell_type": "code",
   "execution_count": 56,
   "id": "fc3b2ff8-7bcb-4f31-88d0-c686582b6960",
   "metadata": {},
   "outputs": [
    {
     "name": "stdout",
     "output_type": "stream",
     "text": [
      "chisq: 1.8937716465009156\n",
      "p-value: 0.22493082100631603\n",
      "Não se rejeita H0 - Ausência de Heterocedasticidade\n"
     ]
    }
   ],
   "source": [
    "#%% Criação da função para o teste de Breusch-Pagan (heterocedasticidade)\n",
    "\n",
    "def breusch_pagan_test(modelo):\n",
    "\n",
    "    df = pd.DataFrame({'yhat':modelo.fittedvalues,\n",
    "                       'resid':modelo.resid})\n",
    "   \n",
    "    df['up'] = (np.square(df.resid))/np.sum(((np.square(df.resid))/df.shape[0]))\n",
    "   \n",
    "    modelo_aux = sm.OLS.from_formula('up ~ yhat', df).fit()\n",
    "   \n",
    "    anova_table = sm.stats.anova_lm(modelo_aux, typ=2)\n",
    "   \n",
    "    anova_table['sum_sq'] = anova_table['sum_sq']/2\n",
    "    \n",
    "    chisq = anova_table['sum_sq'].iloc[0]\n",
    "   \n",
    "    p_value = stats.chi2.pdf(chisq, 1)*2\n",
    "    \n",
    "    print(f\"chisq: {chisq}\")\n",
    "    \n",
    "    print(f\"p-value: {p_value}\")\n",
    "    \n",
    "    return chisq, p_value\n",
    "\n",
    "#%% Aplicando a função criada para realizar o teste\n",
    "\n",
    "teste_bp = breusch_pagan_test(modelo_stepwise_bc)\n",
    "\n",
    "# Tomando a decisão por meio do teste de hipóteses\n",
    "\n",
    "alpha = 0.05 # nível de significância do teste\n",
    "\n",
    "if teste_bp[1] > alpha:\n",
    "    print('Não se rejeita H0 - Ausência de Heterocedasticidade')\n",
    "else:\n",
    "\tprint('Rejeita-se H0 - Existência de Heterocedasticidade')"
   ]
  },
  {
   "cell_type": "code",
   "execution_count": 57,
   "id": "903ead18-83d6-437e-b8b4-04175f711f66",
   "metadata": {},
   "outputs": [
    {
     "name": "stdout",
     "output_type": "stream",
     "text": [
      "chisq: 103.86774339858435\n",
      "p-value: 2.1832617715266312e-24\n",
      "Rejeita-se H0 - Existência de Heterocedasticidade\n"
     ]
    }
   ],
   "source": [
    "#%% Analisando a presença de heterocedasticidade no modelo original\n",
    "\n",
    "teste_bp_original = breusch_pagan_test(reg)\n",
    "\n",
    "# Tomando a decisão por meio do teste de hipóteses\n",
    "\n",
    "alpha = 0.05 # nível de significância do teste\n",
    "\n",
    "if teste_bp_original[1] > alpha:\n",
    "    print('Não se rejeita H0 - Ausência de Heterocedasticidade')\n",
    "else:\n",
    "\tprint('Rejeita-se H0 - Existência de Heterocedasticidade')\n",
    "\n",
    "## O modelo com a transformação de Box-Cox ajustou os termos\n",
    "## de erros heterocedásticos, indicando potencial erro \n",
    "## da forma funcional do modelo originalmente estimado\n",
    "\n",
    "#%% Fim!"
   ]
  },
  {
   "cell_type": "markdown",
   "id": "7498dd32-57b8-4f72-a3f4-386703b636be",
   "metadata": {},
   "source": [
    "# Exercício 2 - `recursos_humanos.xlsx`"
   ]
  },
  {
   "cell_type": "markdown",
   "id": "00f32b4a-87a5-4655-b392-8b16cf1543f7",
   "metadata": {},
   "source": [
    "Uma compania deseja avaliar os fatores associados aos pedidos de demissão de seus funcionários. Contém as seguintes categorias:\n",
    "\n",
    "- `demissao`:  target do modelo\n",
    "- `idade`:  idade do funcionário\n",
    "- `dist_residencia`:  distância da empresa até a residência\n",
    "- `satisfacao_amb`:  satisfação no ambiente de trabalho\n",
    "- `sexo`\n",
    "- `satisfacao_cargo`: nível de satisfação no cargo  \n",
    "- `estado_civil`  \n",
    "- `salario`\n",
    "- `hora_extra`:  se realiza hora extra ou não\n",
    "- `qtd_treinamentos`:  quantidade de treinamentos que recebe\n",
    "- `anos_empresa`:  quantos anos está na empresa\n",
    "- `anos_promo`: há quantos anos recebeu sua última promoção\n",
    "\n",
    "Iremos utilizar um modelo de regressão logística para estimar a probabilidade do funcionário pedir demissão ou não."
   ]
  },
  {
   "cell_type": "code",
   "execution_count": 85,
   "id": "182b1c6f-6959-4b81-9261-7876382e3dd5",
   "metadata": {},
   "outputs": [],
   "source": [
    "#%% Importando os pacotes\n",
    "\n",
    "import pandas as pd\n",
    "import numpy as np\n",
    "import matplotlib.pyplot as plt\n",
    "import seaborn as sns\n",
    "import pingouin as pg\n",
    "import statsmodels.api as sm\n",
    "from statstests.process import stepwise\n",
    "from sklearn.metrics import roc_curve, auc\n",
    "from sklearn.metrics import confusion_matrix, accuracy_score, ConfusionMatrixDisplay, recall_score"
   ]
  },
  {
   "cell_type": "markdown",
   "id": "c5420cf2-8b7d-4823-91ea-9e5896f65e70",
   "metadata": {},
   "source": [
    "## Preparando a base de dados"
   ]
  },
  {
   "cell_type": "code",
   "execution_count": 86,
   "id": "b11092b8-3508-4117-a020-071858c207fa",
   "metadata": {},
   "outputs": [
    {
     "data": {
      "text/html": [
       "<div>\n",
       "<style scoped>\n",
       "    .dataframe tbody tr th:only-of-type {\n",
       "        vertical-align: middle;\n",
       "    }\n",
       "\n",
       "    .dataframe tbody tr th {\n",
       "        vertical-align: top;\n",
       "    }\n",
       "\n",
       "    .dataframe thead th {\n",
       "        text-align: right;\n",
       "    }\n",
       "</style>\n",
       "<table border=\"1\" class=\"dataframe\">\n",
       "  <thead>\n",
       "    <tr style=\"text-align: right;\">\n",
       "      <th></th>\n",
       "      <th>demissao</th>\n",
       "      <th>idade</th>\n",
       "      <th>dist_residencia</th>\n",
       "      <th>satisfacao_amb</th>\n",
       "      <th>sexo</th>\n",
       "      <th>satisfacao_cargo</th>\n",
       "      <th>estado_civil</th>\n",
       "      <th>salario</th>\n",
       "      <th>hora_extra</th>\n",
       "      <th>qtd_treinamentos</th>\n",
       "      <th>anos_empresa</th>\n",
       "      <th>anos_promo</th>\n",
       "    </tr>\n",
       "  </thead>\n",
       "  <tbody>\n",
       "    <tr>\n",
       "      <th>0</th>\n",
       "      <td>sim</td>\n",
       "      <td>41</td>\n",
       "      <td>1</td>\n",
       "      <td>média</td>\n",
       "      <td>feminino</td>\n",
       "      <td>muito_alta</td>\n",
       "      <td>solteiro</td>\n",
       "      <td>5993</td>\n",
       "      <td>sim</td>\n",
       "      <td>0</td>\n",
       "      <td>6</td>\n",
       "      <td>0</td>\n",
       "    </tr>\n",
       "    <tr>\n",
       "      <th>1</th>\n",
       "      <td>nao</td>\n",
       "      <td>49</td>\n",
       "      <td>8</td>\n",
       "      <td>alta</td>\n",
       "      <td>masculino</td>\n",
       "      <td>medio</td>\n",
       "      <td>casado</td>\n",
       "      <td>5130</td>\n",
       "      <td>não</td>\n",
       "      <td>3</td>\n",
       "      <td>10</td>\n",
       "      <td>1</td>\n",
       "    </tr>\n",
       "    <tr>\n",
       "      <th>2</th>\n",
       "      <td>sim</td>\n",
       "      <td>37</td>\n",
       "      <td>2</td>\n",
       "      <td>muito_alta</td>\n",
       "      <td>masculino</td>\n",
       "      <td>alta</td>\n",
       "      <td>solteiro</td>\n",
       "      <td>2090</td>\n",
       "      <td>sim</td>\n",
       "      <td>3</td>\n",
       "      <td>0</td>\n",
       "      <td>0</td>\n",
       "    </tr>\n",
       "    <tr>\n",
       "      <th>3</th>\n",
       "      <td>nao</td>\n",
       "      <td>33</td>\n",
       "      <td>3</td>\n",
       "      <td>muito_alta</td>\n",
       "      <td>feminino</td>\n",
       "      <td>alta</td>\n",
       "      <td>casado</td>\n",
       "      <td>2909</td>\n",
       "      <td>sim</td>\n",
       "      <td>3</td>\n",
       "      <td>8</td>\n",
       "      <td>3</td>\n",
       "    </tr>\n",
       "  </tbody>\n",
       "</table>\n",
       "</div>"
      ],
      "text/plain": [
       "  demissao  idade  dist_residencia satisfacao_amb       sexo satisfacao_cargo  \\\n",
       "0      sim     41                1          média   feminino       muito_alta   \n",
       "1      nao     49                8           alta  masculino            medio   \n",
       "2      sim     37                2     muito_alta  masculino             alta   \n",
       "3      nao     33                3     muito_alta   feminino             alta   \n",
       "\n",
       "  estado_civil  salario hora_extra  qtd_treinamentos  anos_empresa  anos_promo  \n",
       "0     solteiro     5993        sim                 0             6           0  \n",
       "1       casado     5130        não                 3            10           1  \n",
       "2     solteiro     2090        sim                 3             0           0  \n",
       "3       casado     2909        sim                 3             8           3  "
      ]
     },
     "execution_count": 86,
     "metadata": {},
     "output_type": "execute_result"
    }
   ],
   "source": [
    "#%% Importando o banco de dados\n",
    "\n",
    "demissao = pd.read_excel('recursos_humanos.xlsx')\n",
    "## Fonte: adaptado de https://www.kaggle.com/datasets/pavansubhasht/ibm-hr-analytics-attrition-dataset\n",
    "demissao[0:4]"
   ]
  },
  {
   "cell_type": "code",
   "execution_count": 87,
   "id": "f4287209-6bfe-4f8e-b6d0-11e800ade3d0",
   "metadata": {},
   "outputs": [
    {
     "name": "stdout",
     "output_type": "stream",
     "text": [
      "<class 'pandas.core.frame.DataFrame'>\n",
      "RangeIndex: 1470 entries, 0 to 1469\n",
      "Data columns (total 12 columns):\n",
      " #   Column            Non-Null Count  Dtype \n",
      "---  ------            --------------  ----- \n",
      " 0   demissao          1470 non-null   object\n",
      " 1   idade             1470 non-null   int64 \n",
      " 2   dist_residencia   1470 non-null   int64 \n",
      " 3   satisfacao_amb    1470 non-null   object\n",
      " 4   sexo              1470 non-null   object\n",
      " 5   satisfacao_cargo  1470 non-null   object\n",
      " 6   estado_civil      1470 non-null   object\n",
      " 7   salario           1470 non-null   int64 \n",
      " 8   hora_extra        1470 non-null   object\n",
      " 9   qtd_treinamentos  1470 non-null   int64 \n",
      " 10  anos_empresa      1470 non-null   int64 \n",
      " 11  anos_promo        1470 non-null   int64 \n",
      "dtypes: int64(6), object(6)\n",
      "memory usage: 137.9+ KB\n"
     ]
    }
   ],
   "source": [
    "demissao.info()"
   ]
  },
  {
   "cell_type": "code",
   "execution_count": 88,
   "id": "85c120ec-82f1-469a-befb-5ec503a25664",
   "metadata": {},
   "outputs": [
    {
     "data": {
      "text/html": [
       "<div>\n",
       "<style scoped>\n",
       "    .dataframe tbody tr th:only-of-type {\n",
       "        vertical-align: middle;\n",
       "    }\n",
       "\n",
       "    .dataframe tbody tr th {\n",
       "        vertical-align: top;\n",
       "    }\n",
       "\n",
       "    .dataframe thead th {\n",
       "        text-align: right;\n",
       "    }\n",
       "</style>\n",
       "<table border=\"1\" class=\"dataframe\">\n",
       "  <thead>\n",
       "    <tr style=\"text-align: right;\">\n",
       "      <th></th>\n",
       "      <th>idade</th>\n",
       "      <th>dist_residencia</th>\n",
       "      <th>salario</th>\n",
       "    </tr>\n",
       "  </thead>\n",
       "  <tbody>\n",
       "    <tr>\n",
       "      <th>count</th>\n",
       "      <td>1470.000000</td>\n",
       "      <td>1470.000000</td>\n",
       "      <td>1470.000000</td>\n",
       "    </tr>\n",
       "    <tr>\n",
       "      <th>mean</th>\n",
       "      <td>36.923810</td>\n",
       "      <td>9.192517</td>\n",
       "      <td>6502.931293</td>\n",
       "    </tr>\n",
       "    <tr>\n",
       "      <th>std</th>\n",
       "      <td>9.135373</td>\n",
       "      <td>8.106864</td>\n",
       "      <td>4707.956783</td>\n",
       "    </tr>\n",
       "    <tr>\n",
       "      <th>min</th>\n",
       "      <td>18.000000</td>\n",
       "      <td>1.000000</td>\n",
       "      <td>1009.000000</td>\n",
       "    </tr>\n",
       "    <tr>\n",
       "      <th>25%</th>\n",
       "      <td>30.000000</td>\n",
       "      <td>2.000000</td>\n",
       "      <td>2911.000000</td>\n",
       "    </tr>\n",
       "    <tr>\n",
       "      <th>50%</th>\n",
       "      <td>36.000000</td>\n",
       "      <td>7.000000</td>\n",
       "      <td>4919.000000</td>\n",
       "    </tr>\n",
       "    <tr>\n",
       "      <th>75%</th>\n",
       "      <td>43.000000</td>\n",
       "      <td>14.000000</td>\n",
       "      <td>8379.000000</td>\n",
       "    </tr>\n",
       "    <tr>\n",
       "      <th>max</th>\n",
       "      <td>60.000000</td>\n",
       "      <td>29.000000</td>\n",
       "      <td>19999.000000</td>\n",
       "    </tr>\n",
       "  </tbody>\n",
       "</table>\n",
       "</div>"
      ],
      "text/plain": [
       "             idade  dist_residencia       salario\n",
       "count  1470.000000      1470.000000   1470.000000\n",
       "mean     36.923810         9.192517   6502.931293\n",
       "std       9.135373         8.106864   4707.956783\n",
       "min      18.000000         1.000000   1009.000000\n",
       "25%      30.000000         2.000000   2911.000000\n",
       "50%      36.000000         7.000000   4919.000000\n",
       "75%      43.000000        14.000000   8379.000000\n",
       "max      60.000000        29.000000  19999.000000"
      ]
     },
     "execution_count": 88,
     "metadata": {},
     "output_type": "execute_result"
    }
   ],
   "source": [
    "#%% Estatísticas descritivas\n",
    "\n",
    "# Variáveis métricas\n",
    "demissao[['idade', 'dist_residencia', 'salario']].describe()"
   ]
  },
  {
   "cell_type": "code",
   "execution_count": 89,
   "id": "39ce2c7c-0ceb-4b71-b23f-d5247244ec1d",
   "metadata": {},
   "outputs": [
    {
     "data": {
      "text/html": [
       "<div>\n",
       "<style scoped>\n",
       "    .dataframe tbody tr th:only-of-type {\n",
       "        vertical-align: middle;\n",
       "    }\n",
       "\n",
       "    .dataframe tbody tr th {\n",
       "        vertical-align: top;\n",
       "    }\n",
       "\n",
       "    .dataframe thead th {\n",
       "        text-align: right;\n",
       "    }\n",
       "</style>\n",
       "<table border=\"1\" class=\"dataframe\">\n",
       "  <thead>\n",
       "    <tr style=\"text-align: right;\">\n",
       "      <th></th>\n",
       "      <th>qtd_treinamentos</th>\n",
       "      <th>anos_empresa</th>\n",
       "      <th>anos_promo</th>\n",
       "    </tr>\n",
       "  </thead>\n",
       "  <tbody>\n",
       "    <tr>\n",
       "      <th>count</th>\n",
       "      <td>1470.000000</td>\n",
       "      <td>1470.000000</td>\n",
       "      <td>1470.000000</td>\n",
       "    </tr>\n",
       "    <tr>\n",
       "      <th>mean</th>\n",
       "      <td>2.799320</td>\n",
       "      <td>7.008163</td>\n",
       "      <td>2.187755</td>\n",
       "    </tr>\n",
       "    <tr>\n",
       "      <th>std</th>\n",
       "      <td>1.289271</td>\n",
       "      <td>6.126525</td>\n",
       "      <td>3.222430</td>\n",
       "    </tr>\n",
       "    <tr>\n",
       "      <th>min</th>\n",
       "      <td>0.000000</td>\n",
       "      <td>0.000000</td>\n",
       "      <td>0.000000</td>\n",
       "    </tr>\n",
       "    <tr>\n",
       "      <th>25%</th>\n",
       "      <td>2.000000</td>\n",
       "      <td>3.000000</td>\n",
       "      <td>0.000000</td>\n",
       "    </tr>\n",
       "    <tr>\n",
       "      <th>50%</th>\n",
       "      <td>3.000000</td>\n",
       "      <td>5.000000</td>\n",
       "      <td>1.000000</td>\n",
       "    </tr>\n",
       "    <tr>\n",
       "      <th>75%</th>\n",
       "      <td>3.000000</td>\n",
       "      <td>9.000000</td>\n",
       "      <td>3.000000</td>\n",
       "    </tr>\n",
       "    <tr>\n",
       "      <th>max</th>\n",
       "      <td>6.000000</td>\n",
       "      <td>40.000000</td>\n",
       "      <td>15.000000</td>\n",
       "    </tr>\n",
       "  </tbody>\n",
       "</table>\n",
       "</div>"
      ],
      "text/plain": [
       "       qtd_treinamentos  anos_empresa   anos_promo\n",
       "count       1470.000000   1470.000000  1470.000000\n",
       "mean           2.799320      7.008163     2.187755\n",
       "std            1.289271      6.126525     3.222430\n",
       "min            0.000000      0.000000     0.000000\n",
       "25%            2.000000      3.000000     0.000000\n",
       "50%            3.000000      5.000000     1.000000\n",
       "75%            3.000000      9.000000     3.000000\n",
       "max            6.000000     40.000000    15.000000"
      ]
     },
     "execution_count": 89,
     "metadata": {},
     "output_type": "execute_result"
    }
   ],
   "source": [
    "demissao[['qtd_treinamentos', 'anos_empresa', 'anos_promo']].describe()"
   ]
  },
  {
   "cell_type": "code",
   "execution_count": 90,
   "id": "2e7d2620-07f1-452f-9c96-155b074d7305",
   "metadata": {},
   "outputs": [
    {
     "data": {
      "text/plain": [
       "demissao\n",
       "nao    1233\n",
       "sim     237\n",
       "Name: count, dtype: int64"
      ]
     },
     "execution_count": 90,
     "metadata": {},
     "output_type": "execute_result"
    }
   ],
   "source": [
    "# Variáveis categóricas\n",
    "demissao['demissao'].value_counts().sort_index()"
   ]
  },
  {
   "cell_type": "code",
   "execution_count": 91,
   "id": "0e261ba3-7c9e-4529-886b-cd823ada63f6",
   "metadata": {},
   "outputs": [
    {
     "data": {
      "text/plain": [
       "satisfacao_amb\n",
       "alta          453\n",
       "baixa         284\n",
       "muito_alta    446\n",
       "média         287\n",
       "Name: count, dtype: int64"
      ]
     },
     "execution_count": 91,
     "metadata": {},
     "output_type": "execute_result"
    }
   ],
   "source": [
    "demissao['satisfacao_amb'].value_counts().sort_index()"
   ]
  },
  {
   "cell_type": "code",
   "execution_count": 92,
   "id": "c38591b8-6051-4b1c-8fcd-fe0d6db79e8d",
   "metadata": {},
   "outputs": [
    {
     "data": {
      "text/plain": [
       "sexo\n",
       "feminino     588\n",
       "masculino    882\n",
       "Name: count, dtype: int64"
      ]
     },
     "execution_count": 92,
     "metadata": {},
     "output_type": "execute_result"
    }
   ],
   "source": [
    "demissao['sexo'].value_counts().sort_index()"
   ]
  },
  {
   "cell_type": "code",
   "execution_count": 93,
   "id": "32535fee-9082-45f4-954f-a3b7354ab83d",
   "metadata": {},
   "outputs": [
    {
     "data": {
      "text/plain": [
       "satisfacao_cargo\n",
       "alta          442\n",
       "baixo         289\n",
       "medio         280\n",
       "muito_alta    459\n",
       "Name: count, dtype: int64"
      ]
     },
     "execution_count": 93,
     "metadata": {},
     "output_type": "execute_result"
    }
   ],
   "source": [
    "demissao['satisfacao_cargo'].value_counts().sort_index()"
   ]
  },
  {
   "cell_type": "code",
   "execution_count": 94,
   "id": "3dc060ce-a069-4ede-b221-67b617597305",
   "metadata": {},
   "outputs": [
    {
     "data": {
      "text/plain": [
       "estado_civil\n",
       "casado        673\n",
       "divorciado    327\n",
       "solteiro      470\n",
       "Name: count, dtype: int64"
      ]
     },
     "execution_count": 94,
     "metadata": {},
     "output_type": "execute_result"
    }
   ],
   "source": [
    "demissao['estado_civil'].value_counts().sort_index()"
   ]
  },
  {
   "cell_type": "code",
   "execution_count": 95,
   "id": "21de64e5-373e-46c3-ba30-157886aa9672",
   "metadata": {},
   "outputs": [
    {
     "data": {
      "text/plain": [
       "hora_extra\n",
       "não    1054\n",
       "sim     416\n",
       "Name: count, dtype: int64"
      ]
     },
     "execution_count": 95,
     "metadata": {},
     "output_type": "execute_result"
    }
   ],
   "source": [
    "demissao['hora_extra'].value_counts().sort_index()"
   ]
  },
  {
   "cell_type": "code",
   "execution_count": 96,
   "id": "4a15ce8c-2b97-4b32-b7b4-d576eafad3e1",
   "metadata": {},
   "outputs": [
    {
     "data": {
      "text/html": [
       "<div>\n",
       "<style scoped>\n",
       "    .dataframe tbody tr th:only-of-type {\n",
       "        vertical-align: middle;\n",
       "    }\n",
       "\n",
       "    .dataframe tbody tr th {\n",
       "        vertical-align: top;\n",
       "    }\n",
       "\n",
       "    .dataframe thead th {\n",
       "        text-align: right;\n",
       "    }\n",
       "</style>\n",
       "<table border=\"1\" class=\"dataframe\">\n",
       "  <thead>\n",
       "    <tr style=\"text-align: right;\">\n",
       "      <th></th>\n",
       "      <th>demissao</th>\n",
       "      <th>idade</th>\n",
       "      <th>dist_residencia</th>\n",
       "      <th>satisfacao_amb</th>\n",
       "      <th>sexo</th>\n",
       "      <th>satisfacao_cargo</th>\n",
       "      <th>estado_civil</th>\n",
       "      <th>salario</th>\n",
       "      <th>hora_extra</th>\n",
       "      <th>qtd_treinamentos</th>\n",
       "      <th>anos_empresa</th>\n",
       "      <th>anos_promo</th>\n",
       "    </tr>\n",
       "  </thead>\n",
       "  <tbody>\n",
       "    <tr>\n",
       "      <th>0</th>\n",
       "      <td>1</td>\n",
       "      <td>41</td>\n",
       "      <td>1</td>\n",
       "      <td>média</td>\n",
       "      <td>feminino</td>\n",
       "      <td>muito_alta</td>\n",
       "      <td>solteiro</td>\n",
       "      <td>5993</td>\n",
       "      <td>sim</td>\n",
       "      <td>0</td>\n",
       "      <td>6</td>\n",
       "      <td>0</td>\n",
       "    </tr>\n",
       "    <tr>\n",
       "      <th>1</th>\n",
       "      <td>0</td>\n",
       "      <td>49</td>\n",
       "      <td>8</td>\n",
       "      <td>alta</td>\n",
       "      <td>masculino</td>\n",
       "      <td>medio</td>\n",
       "      <td>casado</td>\n",
       "      <td>5130</td>\n",
       "      <td>não</td>\n",
       "      <td>3</td>\n",
       "      <td>10</td>\n",
       "      <td>1</td>\n",
       "    </tr>\n",
       "    <tr>\n",
       "      <th>2</th>\n",
       "      <td>1</td>\n",
       "      <td>37</td>\n",
       "      <td>2</td>\n",
       "      <td>muito_alta</td>\n",
       "      <td>masculino</td>\n",
       "      <td>alta</td>\n",
       "      <td>solteiro</td>\n",
       "      <td>2090</td>\n",
       "      <td>sim</td>\n",
       "      <td>3</td>\n",
       "      <td>0</td>\n",
       "      <td>0</td>\n",
       "    </tr>\n",
       "  </tbody>\n",
       "</table>\n",
       "</div>"
      ],
      "text/plain": [
       "   demissao  idade  dist_residencia satisfacao_amb       sexo  \\\n",
       "0         1     41                1          média   feminino   \n",
       "1         0     49                8           alta  masculino   \n",
       "2         1     37                2     muito_alta  masculino   \n",
       "\n",
       "  satisfacao_cargo estado_civil  salario hora_extra  qtd_treinamentos  \\\n",
       "0       muito_alta     solteiro     5993        sim                 0   \n",
       "1            medio       casado     5130        não                 3   \n",
       "2             alta     solteiro     2090        sim                 3   \n",
       "\n",
       "   anos_empresa  anos_promo  \n",
       "0             6           0  \n",
       "1            10           1  \n",
       "2             0           0  "
      ]
     },
     "execution_count": 96,
     "metadata": {},
     "output_type": "execute_result"
    }
   ],
   "source": [
    "# Codificando evento = 1; não evento = 0\n",
    "demissao.loc[demissao['demissao']=='sim', 'demissao'] = 1\n",
    "demissao.loc[demissao['demissao']=='nao', 'demissao'] = 0\n",
    "\n",
    "# Transformando em variável numérica\n",
    "demissao['demissao'] = demissao['demissao'].astype('int')\n",
    "demissao[0:3]"
   ]
  },
  {
   "cell_type": "markdown",
   "id": "b173c0e4-8075-4da7-bf55-14369752530c",
   "metadata": {},
   "source": [
    "### Processo de dummyzação"
   ]
  },
  {
   "cell_type": "code",
   "execution_count": 97,
   "id": "ec8957e7-65f7-4a8e-b19d-071e9ef7c280",
   "metadata": {},
   "outputs": [],
   "source": [
    "#%% Criando as n-1 dummies das variáveis explicativas categóricas\n",
    "\n",
    "demissao_dummies = pd.get_dummies(demissao,\n",
    "                                  columns=['satisfacao_amb',\n",
    "                                           'sexo',\n",
    "                                           'satisfacao_cargo',\n",
    "                                           'estado_civil',\n",
    "                                           'hora_extra'],\n",
    "                                  dtype=int,\n",
    "                                  drop_first=True)"
   ]
  },
  {
   "cell_type": "markdown",
   "id": "6da4d0d4-f3f2-4aef-bbe9-98b7b6e31e71",
   "metadata": {},
   "source": [
    "## Gerando o modelo"
   ]
  },
  {
   "cell_type": "code",
   "execution_count": 98,
   "id": "f33ca9d8-32d8-41c6-8416-5e348b5f4d7f",
   "metadata": {},
   "outputs": [
    {
     "data": {
      "text/plain": [
       "'demissao ~ idade + dist_residencia + salario + qtd_treinamentos + anos_empresa + anos_promo + satisfacao_amb_baixa + satisfacao_amb_muito_alta + satisfacao_amb_média + sexo_masculino + satisfacao_cargo_baixo + satisfacao_cargo_medio + satisfacao_cargo_muito_alta + estado_civil_divorciado + estado_civil_solteiro + hora_extra_sim'"
      ]
     },
     "execution_count": 98,
     "metadata": {},
     "output_type": "execute_result"
    }
   ],
   "source": [
    "#%% Criando o texto da fórmula\n",
    "\n",
    "def texto_formula(df, var_dependente, excluir_cols):\n",
    "    variaveis = list(df.columns.values)\n",
    "    variaveis.remove(var_dependente)\n",
    "    for col in excluir_cols:\n",
    "        variaveis.remove(col)\n",
    "    return var_dependente + ' ~ ' + ' + '.join(variaveis)\n",
    "\n",
    "texto_regressao = texto_formula(demissao_dummies, 'demissao', '')\n",
    "# 1º argumento: banco de dados\n",
    "# 2º argumento: variável dependente\n",
    "# 3º argumento: variáveis a serem excluídas (se houver, inserir como lista)\n",
    "texto_regressao"
   ]
  },
  {
   "cell_type": "code",
   "execution_count": 100,
   "id": "de9de7b8-16dc-4cc9-8b6e-12502894cffb",
   "metadata": {},
   "outputs": [
    {
     "name": "stdout",
     "output_type": "stream",
     "text": [
      "Optimization terminated successfully.\n",
      "         Current function value: 0.348464\n",
      "         Iterations 7\n"
     ]
    },
    {
     "data": {
      "text/html": [
       "<table class=\"simpletable\">\n",
       "<caption>Logit Regression Results</caption>\n",
       "<tr>\n",
       "  <th>Dep. Variable:</th>       <td>demissao</td>     <th>  No. Observations:  </th>  <td>  1470</td>  \n",
       "</tr>\n",
       "<tr>\n",
       "  <th>Model:</th>                 <td>Logit</td>      <th>  Df Residuals:      </th>  <td>  1453</td>  \n",
       "</tr>\n",
       "<tr>\n",
       "  <th>Method:</th>                 <td>MLE</td>       <th>  Df Model:          </th>  <td>    16</td>  \n",
       "</tr>\n",
       "<tr>\n",
       "  <th>Date:</th>            <td>Sat, 12 Oct 2024</td> <th>  Pseudo R-squ.:     </th>  <td>0.2111</td>  \n",
       "</tr>\n",
       "<tr>\n",
       "  <th>Time:</th>                <td>12:19:43</td>     <th>  Log-Likelihood:    </th> <td> -512.24</td> \n",
       "</tr>\n",
       "<tr>\n",
       "  <th>converged:</th>             <td>True</td>       <th>  LL-Null:           </th> <td> -649.29</td> \n",
       "</tr>\n",
       "<tr>\n",
       "  <th>Covariance Type:</th>     <td>nonrobust</td>    <th>  LLR p-value:       </th> <td>5.738e-49</td>\n",
       "</tr>\n",
       "</table>\n",
       "<table class=\"simpletable\">\n",
       "<tr>\n",
       "               <td></td>                  <th>coef</th>     <th>std err</th>      <th>z</th>      <th>P>|z|</th>  <th>[0.025</th>    <th>0.975]</th>  \n",
       "</tr>\n",
       "<tr>\n",
       "  <th>Intercept</th>                   <td>   -1.0577</td> <td>    0.456</td> <td>   -2.319</td> <td> 0.020</td> <td>   -1.952</td> <td>   -0.164</td>\n",
       "</tr>\n",
       "<tr>\n",
       "  <th>idade</th>                       <td>   -0.0318</td> <td>    0.010</td> <td>   -3.082</td> <td> 0.002</td> <td>   -0.052</td> <td>   -0.012</td>\n",
       "</tr>\n",
       "<tr>\n",
       "  <th>dist_residencia</th>             <td>    0.0319</td> <td>    0.009</td> <td>    3.356</td> <td> 0.001</td> <td>    0.013</td> <td>    0.050</td>\n",
       "</tr>\n",
       "<tr>\n",
       "  <th>salario</th>                     <td>-9.185e-05</td> <td>  2.8e-05</td> <td>   -3.285</td> <td> 0.001</td> <td>   -0.000</td> <td>-3.71e-05</td>\n",
       "</tr>\n",
       "<tr>\n",
       "  <th>qtd_treinamentos</th>            <td>   -0.1274</td> <td>    0.064</td> <td>   -1.994</td> <td> 0.046</td> <td>   -0.253</td> <td>   -0.002</td>\n",
       "</tr>\n",
       "<tr>\n",
       "  <th>anos_empresa</th>                <td>   -0.0883</td> <td>    0.025</td> <td>   -3.600</td> <td> 0.000</td> <td>   -0.136</td> <td>   -0.040</td>\n",
       "</tr>\n",
       "<tr>\n",
       "  <th>anos_promo</th>                  <td>    0.1435</td> <td>    0.037</td> <td>    3.853</td> <td> 0.000</td> <td>    0.070</td> <td>    0.216</td>\n",
       "</tr>\n",
       "<tr>\n",
       "  <th>satisfacao_amb_baixa</th>        <td>    1.0508</td> <td>    0.222</td> <td>    4.737</td> <td> 0.000</td> <td>    0.616</td> <td>    1.486</td>\n",
       "</tr>\n",
       "<tr>\n",
       "  <th>satisfacao_amb_muito_alta</th>   <td>   -0.1452</td> <td>    0.216</td> <td>   -0.671</td> <td> 0.502</td> <td>   -0.569</td> <td>    0.279</td>\n",
       "</tr>\n",
       "<tr>\n",
       "  <th>satisfacao_amb_média</th>        <td>    0.1105</td> <td>    0.237</td> <td>    0.467</td> <td> 0.640</td> <td>   -0.353</td> <td>    0.574</td>\n",
       "</tr>\n",
       "<tr>\n",
       "  <th>sexo_masculino</th>              <td>    0.2997</td> <td>    0.167</td> <td>    1.799</td> <td> 0.072</td> <td>   -0.027</td> <td>    0.626</td>\n",
       "</tr>\n",
       "<tr>\n",
       "  <th>satisfacao_cargo_baixo</th>      <td>    0.5176</td> <td>    0.214</td> <td>    2.418</td> <td> 0.016</td> <td>    0.098</td> <td>    0.937</td>\n",
       "</tr>\n",
       "<tr>\n",
       "  <th>satisfacao_cargo_medio</th>      <td>    0.0795</td> <td>    0.233</td> <td>    0.341</td> <td> 0.733</td> <td>   -0.377</td> <td>    0.536</td>\n",
       "</tr>\n",
       "<tr>\n",
       "  <th>satisfacao_cargo_muito_alta</th> <td>   -0.5971</td> <td>    0.216</td> <td>   -2.761</td> <td> 0.006</td> <td>   -1.021</td> <td>   -0.173</td>\n",
       "</tr>\n",
       "<tr>\n",
       "  <th>estado_civil_divorciado</th>     <td>   -0.2888</td> <td>    0.236</td> <td>   -1.223</td> <td> 0.221</td> <td>   -0.752</td> <td>    0.174</td>\n",
       "</tr>\n",
       "<tr>\n",
       "  <th>estado_civil_solteiro</th>       <td>    0.9604</td> <td>    0.178</td> <td>    5.382</td> <td> 0.000</td> <td>    0.611</td> <td>    1.310</td>\n",
       "</tr>\n",
       "<tr>\n",
       "  <th>hora_extra_sim</th>              <td>    1.6557</td> <td>    0.168</td> <td>    9.846</td> <td> 0.000</td> <td>    1.326</td> <td>    1.985</td>\n",
       "</tr>\n",
       "</table>"
      ],
      "text/latex": [
       "\\begin{center}\n",
       "\\begin{tabular}{lclc}\n",
       "\\toprule\n",
       "\\textbf{Dep. Variable:}                 &     demissao     & \\textbf{  No. Observations:  } &     1470    \\\\\n",
       "\\textbf{Model:}                         &      Logit       & \\textbf{  Df Residuals:      } &     1453    \\\\\n",
       "\\textbf{Method:}                        &       MLE        & \\textbf{  Df Model:          } &       16    \\\\\n",
       "\\textbf{Date:}                          & Sat, 12 Oct 2024 & \\textbf{  Pseudo R-squ.:     } &   0.2111    \\\\\n",
       "\\textbf{Time:}                          &     12:19:43     & \\textbf{  Log-Likelihood:    } &   -512.24   \\\\\n",
       "\\textbf{converged:}                     &       True       & \\textbf{  LL-Null:           } &   -649.29   \\\\\n",
       "\\textbf{Covariance Type:}               &    nonrobust     & \\textbf{  LLR p-value:       } & 5.738e-49   \\\\\n",
       "\\bottomrule\n",
       "\\end{tabular}\n",
       "\\begin{tabular}{lcccccc}\n",
       "                                        & \\textbf{coef} & \\textbf{std err} & \\textbf{z} & \\textbf{P$> |$z$|$} & \\textbf{[0.025} & \\textbf{0.975]}  \\\\\n",
       "\\midrule\n",
       "\\textbf{Intercept}                      &      -1.0577  &        0.456     &    -2.319  &         0.020        &       -1.952    &       -0.164     \\\\\n",
       "\\textbf{idade}                          &      -0.0318  &        0.010     &    -3.082  &         0.002        &       -0.052    &       -0.012     \\\\\n",
       "\\textbf{dist\\_residencia}               &       0.0319  &        0.009     &     3.356  &         0.001        &        0.013    &        0.050     \\\\\n",
       "\\textbf{salario}                        &   -9.185e-05  &      2.8e-05     &    -3.285  &         0.001        &       -0.000    &    -3.71e-05     \\\\\n",
       "\\textbf{qtd\\_treinamentos}              &      -0.1274  &        0.064     &    -1.994  &         0.046        &       -0.253    &       -0.002     \\\\\n",
       "\\textbf{anos\\_empresa}                  &      -0.0883  &        0.025     &    -3.600  &         0.000        &       -0.136    &       -0.040     \\\\\n",
       "\\textbf{anos\\_promo}                    &       0.1435  &        0.037     &     3.853  &         0.000        &        0.070    &        0.216     \\\\\n",
       "\\textbf{satisfacao\\_amb\\_baixa}         &       1.0508  &        0.222     &     4.737  &         0.000        &        0.616    &        1.486     \\\\\n",
       "\\textbf{satisfacao\\_amb\\_muito\\_alta}   &      -0.1452  &        0.216     &    -0.671  &         0.502        &       -0.569    &        0.279     \\\\\n",
       "\\textbf{satisfacao\\_amb\\_média}         &       0.1105  &        0.237     &     0.467  &         0.640        &       -0.353    &        0.574     \\\\\n",
       "\\textbf{sexo\\_masculino}                &       0.2997  &        0.167     &     1.799  &         0.072        &       -0.027    &        0.626     \\\\\n",
       "\\textbf{satisfacao\\_cargo\\_baixo}       &       0.5176  &        0.214     &     2.418  &         0.016        &        0.098    &        0.937     \\\\\n",
       "\\textbf{satisfacao\\_cargo\\_medio}       &       0.0795  &        0.233     &     0.341  &         0.733        &       -0.377    &        0.536     \\\\\n",
       "\\textbf{satisfacao\\_cargo\\_muito\\_alta} &      -0.5971  &        0.216     &    -2.761  &         0.006        &       -1.021    &       -0.173     \\\\\n",
       "\\textbf{estado\\_civil\\_divorciado}      &      -0.2888  &        0.236     &    -1.223  &         0.221        &       -0.752    &        0.174     \\\\\n",
       "\\textbf{estado\\_civil\\_solteiro}        &       0.9604  &        0.178     &     5.382  &         0.000        &        0.611    &        1.310     \\\\\n",
       "\\textbf{hora\\_extra\\_sim}               &       1.6557  &        0.168     &     9.846  &         0.000        &        1.326    &        1.985     \\\\\n",
       "\\bottomrule\n",
       "\\end{tabular}\n",
       "%\\caption{Logit Regression Results}\n",
       "\\end{center}"
      ],
      "text/plain": [
       "<class 'statsmodels.iolib.summary.Summary'>\n",
       "\"\"\"\n",
       "                           Logit Regression Results                           \n",
       "==============================================================================\n",
       "Dep. Variable:               demissao   No. Observations:                 1470\n",
       "Model:                          Logit   Df Residuals:                     1453\n",
       "Method:                           MLE   Df Model:                           16\n",
       "Date:                Sat, 12 Oct 2024   Pseudo R-squ.:                  0.2111\n",
       "Time:                        12:19:43   Log-Likelihood:                -512.24\n",
       "converged:                       True   LL-Null:                       -649.29\n",
       "Covariance Type:            nonrobust   LLR p-value:                 5.738e-49\n",
       "===============================================================================================\n",
       "                                  coef    std err          z      P>|z|      [0.025      0.975]\n",
       "-----------------------------------------------------------------------------------------------\n",
       "Intercept                      -1.0577      0.456     -2.319      0.020      -1.952      -0.164\n",
       "idade                          -0.0318      0.010     -3.082      0.002      -0.052      -0.012\n",
       "dist_residencia                 0.0319      0.009      3.356      0.001       0.013       0.050\n",
       "salario                     -9.185e-05    2.8e-05     -3.285      0.001      -0.000   -3.71e-05\n",
       "qtd_treinamentos               -0.1274      0.064     -1.994      0.046      -0.253      -0.002\n",
       "anos_empresa                   -0.0883      0.025     -3.600      0.000      -0.136      -0.040\n",
       "anos_promo                      0.1435      0.037      3.853      0.000       0.070       0.216\n",
       "satisfacao_amb_baixa            1.0508      0.222      4.737      0.000       0.616       1.486\n",
       "satisfacao_amb_muito_alta      -0.1452      0.216     -0.671      0.502      -0.569       0.279\n",
       "satisfacao_amb_média            0.1105      0.237      0.467      0.640      -0.353       0.574\n",
       "sexo_masculino                  0.2997      0.167      1.799      0.072      -0.027       0.626\n",
       "satisfacao_cargo_baixo          0.5176      0.214      2.418      0.016       0.098       0.937\n",
       "satisfacao_cargo_medio          0.0795      0.233      0.341      0.733      -0.377       0.536\n",
       "satisfacao_cargo_muito_alta    -0.5971      0.216     -2.761      0.006      -1.021      -0.173\n",
       "estado_civil_divorciado        -0.2888      0.236     -1.223      0.221      -0.752       0.174\n",
       "estado_civil_solteiro           0.9604      0.178      5.382      0.000       0.611       1.310\n",
       "hora_extra_sim                  1.6557      0.168      9.846      0.000       1.326       1.985\n",
       "===============================================================================================\n",
       "\"\"\""
      ]
     },
     "execution_count": 100,
     "metadata": {},
     "output_type": "execute_result"
    }
   ],
   "source": [
    "#%% Regressão Logística Binária\n",
    "\n",
    "# Estimando o modelo\n",
    "modelo_demissao = sm.Logit.from_formula(texto_regressao,\n",
    "                                        demissao_dummies).fit()\n",
    "\n",
    "# Analisando os resultados\n",
    "modelo_demissao.summary()"
   ]
  },
  {
   "cell_type": "code",
   "execution_count": 101,
   "id": "fd603c35-29bc-4f95-811a-5988f7d9b994",
   "metadata": {},
   "outputs": [
    {
     "name": "stdout",
     "output_type": "stream",
     "text": [
      "Regression type: Logit \n",
      "\n",
      "Estimating model...: \n",
      " demissao ~ Q('idade') + Q('dist_residencia') + Q('salario') + Q('qtd_treinamentos') + Q('anos_empresa') + Q('anos_promo') + Q('satisfacao_amb_baixa') + Q('satisfacao_amb_muito_alta') + Q('satisfacao_amb_média') + Q('sexo_masculino') + Q('satisfacao_cargo_baixo') + Q('satisfacao_cargo_medio') + Q('satisfacao_cargo_muito_alta') + Q('estado_civil_divorciado') + Q('estado_civil_solteiro') + Q('hora_extra_sim')\n",
      "Optimization terminated successfully.\n",
      "         Current function value: 0.348464\n",
      "         Iterations 7\n",
      "\n",
      " Discarding atribute \"Q('satisfacao_cargo_medio')\" with p-value equal to 0.7329876646876234 \n",
      "\n",
      "Estimating model...: \n",
      " demissao ~ Q('idade') + Q('dist_residencia') + Q('salario') + Q('qtd_treinamentos') + Q('anos_empresa') + Q('anos_promo') + Q('satisfacao_amb_baixa') + Q('satisfacao_amb_muito_alta') + Q('satisfacao_amb_média') + Q('sexo_masculino') + Q('satisfacao_cargo_baixo') + Q('satisfacao_cargo_muito_alta') + Q('estado_civil_divorciado') + Q('estado_civil_solteiro') + Q('hora_extra_sim')\n",
      "Optimization terminated successfully.\n",
      "         Current function value: 0.348504\n",
      "         Iterations 7\n",
      "\n",
      " Discarding atribute \"Q('satisfacao_amb_média')\" with p-value equal to 0.6411988317211894 \n",
      "\n",
      "Estimating model...: \n",
      " demissao ~ Q('idade') + Q('dist_residencia') + Q('salario') + Q('qtd_treinamentos') + Q('anos_empresa') + Q('anos_promo') + Q('satisfacao_amb_baixa') + Q('satisfacao_amb_muito_alta') + Q('sexo_masculino') + Q('satisfacao_cargo_baixo') + Q('satisfacao_cargo_muito_alta') + Q('estado_civil_divorciado') + Q('estado_civil_solteiro') + Q('hora_extra_sim')\n",
      "Optimization terminated successfully.\n",
      "         Current function value: 0.348577\n",
      "         Iterations 7\n",
      "\n",
      " Discarding atribute \"Q('satisfacao_amb_muito_alta')\" with p-value equal to 0.32631455325850844 \n",
      "\n",
      "Estimating model...: \n",
      " demissao ~ Q('idade') + Q('dist_residencia') + Q('salario') + Q('qtd_treinamentos') + Q('anos_empresa') + Q('anos_promo') + Q('satisfacao_amb_baixa') + Q('sexo_masculino') + Q('satisfacao_cargo_baixo') + Q('satisfacao_cargo_muito_alta') + Q('estado_civil_divorciado') + Q('estado_civil_solteiro') + Q('hora_extra_sim')\n",
      "Optimization terminated successfully.\n",
      "         Current function value: 0.348908\n",
      "         Iterations 7\n",
      "\n",
      " Discarding atribute \"Q('estado_civil_divorciado')\" with p-value equal to 0.19839615065441474 \n",
      "\n",
      "Estimating model...: \n",
      " demissao ~ Q('idade') + Q('dist_residencia') + Q('salario') + Q('qtd_treinamentos') + Q('anos_empresa') + Q('anos_promo') + Q('satisfacao_amb_baixa') + Q('sexo_masculino') + Q('satisfacao_cargo_baixo') + Q('satisfacao_cargo_muito_alta') + Q('estado_civil_solteiro') + Q('hora_extra_sim')\n",
      "Optimization terminated successfully.\n",
      "         Current function value: 0.349486\n",
      "         Iterations 7\n",
      "\n",
      " Discarding atribute \"Q('sexo_masculino')\" with p-value equal to 0.07517733291046225 \n",
      "\n",
      "Estimating model...: \n",
      " demissao ~ Q('idade') + Q('dist_residencia') + Q('salario') + Q('qtd_treinamentos') + Q('anos_empresa') + Q('anos_promo') + Q('satisfacao_amb_baixa') + Q('satisfacao_cargo_baixo') + Q('satisfacao_cargo_muito_alta') + Q('estado_civil_solteiro') + Q('hora_extra_sim')\n",
      "Optimization terminated successfully.\n",
      "         Current function value: 0.350579\n",
      "         Iterations 7\n",
      "\n",
      " No more atributes with p-value higher than 0.05\n",
      "\n",
      " Atributes discarded on the process...: \n",
      "\n",
      "{'atribute': \"Q('satisfacao_cargo_medio')\", 'p-value': 0.7329876646876234}\n",
      "{'atribute': \"Q('satisfacao_amb_média')\", 'p-value': 0.6411988317211894}\n",
      "{'atribute': \"Q('satisfacao_amb_muito_alta')\", 'p-value': 0.32631455325850844}\n",
      "{'atribute': \"Q('estado_civil_divorciado')\", 'p-value': 0.19839615065441474}\n",
      "{'atribute': \"Q('sexo_masculino')\", 'p-value': 0.07517733291046225}\n",
      "\n",
      " Model after stepwise process...: \n",
      " demissao ~ Q('idade') + Q('dist_residencia') + Q('salario') + Q('qtd_treinamentos') + Q('anos_empresa') + Q('anos_promo') + Q('satisfacao_amb_baixa') + Q('satisfacao_cargo_baixo') + Q('satisfacao_cargo_muito_alta') + Q('estado_civil_solteiro') + Q('hora_extra_sim') \n",
      "\n",
      "                           Logit Regression Results                           \n",
      "==============================================================================\n",
      "Dep. Variable:               demissao   No. Observations:                 1470\n",
      "Model:                          Logit   Df Residuals:                     1458\n",
      "Method:                           MLE   Df Model:                           11\n",
      "Date:                Sat, 12 Oct 2024   Pseudo R-squ.:                  0.2063\n",
      "Time:                        12:20:55   Log-Likelihood:                -515.35\n",
      "converged:                       True   LL-Null:                       -649.29\n",
      "Covariance Type:            nonrobust   LLR p-value:                 4.983e-51\n",
      "====================================================================================================\n",
      "                                       coef    std err          z      P>|z|      [0.025      0.975]\n",
      "----------------------------------------------------------------------------------------------------\n",
      "Intercept                           -0.9150      0.407     -2.250      0.024      -1.712      -0.118\n",
      "Q('idade')                          -0.0322      0.010     -3.143      0.002      -0.052      -0.012\n",
      "Q('dist_residencia')                 0.0323      0.009      3.416      0.001       0.014       0.051\n",
      "Q('salario')                     -9.107e-05   2.77e-05     -3.284      0.001      -0.000   -3.67e-05\n",
      "Q('qtd_treinamentos')               -0.1313      0.064     -2.067      0.039      -0.256      -0.007\n",
      "Q('anos_empresa')                   -0.0891      0.024     -3.647      0.000      -0.137      -0.041\n",
      "Q('anos_promo')                      0.1425      0.037      3.851      0.000       0.070       0.215\n",
      "Q('satisfacao_amb_baixa')            1.0704      0.187      5.733      0.000       0.704       1.436\n",
      "Q('satisfacao_cargo_baixo')          0.4951      0.195      2.540      0.011       0.113       0.877\n",
      "Q('satisfacao_cargo_muito_alta')    -0.5951      0.197     -3.020      0.003      -0.981      -0.209\n",
      "Q('estado_civil_solteiro')           1.0193      0.163      6.240      0.000       0.699       1.339\n",
      "Q('hora_extra_sim')                  1.6180      0.166      9.718      0.000       1.292       1.944\n",
      "====================================================================================================\n"
     ]
    }
   ],
   "source": [
    "## Algumas variáveis não apresentam significância estatística ao nível de 5%\n",
    "\n",
    "#%% Obtendo o modelo após o procedimento de stepwise\n",
    "\n",
    "# Carregamento da função 'stepwise' do pacote 'statstests.process'\n",
    "# Autores do pacote: Luiz Paulo Fávero e Helder Prado Santos\n",
    "# https://stats-tests.github.io/statstests/\n",
    "\n",
    "modelo_stepwise = stepwise(modelo_demissao, pvalue_limit=0.05)"
   ]
  },
  {
   "cell_type": "markdown",
   "id": "04561ae1-c60d-4ce8-adff-191e03c714b8",
   "metadata": {},
   "source": [
    "## Fazendo predições"
   ]
  },
  {
   "cell_type": "code",
   "execution_count": 114,
   "id": "19236ae2-b6f1-46b7-9009-3bafb4cd076a",
   "metadata": {},
   "outputs": [],
   "source": [
    "#%% Armazenando os valores previstos para amostra\n",
    "\n",
    "demissao_dummies['previsto'] = modelo_stepwise.predict()\n",
    "\n",
    "## Refere-se à probabilidade de ocorrência do evento (demissão = 1)"
   ]
  },
  {
   "cell_type": "code",
   "execution_count": 165,
   "id": "48d11e21-e6c8-49ee-8dcc-046bc7ae5e42",
   "metadata": {},
   "outputs": [
    {
     "data": {
      "text/plain": [
       "0    0.218398\n",
       "dtype: float64"
      ]
     },
     "execution_count": 165,
     "metadata": {},
     "output_type": "execute_result"
    }
   ],
   "source": [
    "modelo_stepwise.predict(pd.DataFrame({'idade': [29],\n",
    "    'dist_residencia': [0.2],\n",
    "    'salario': [5000],\n",
    "    'qtd_treinamentos': [2],\n",
    "    'anos_empresa': [5],\n",
    "    'satisfacao_amb_baixa': [0],\n",
    "    'satisfacao_cargo_baixo': [0],\n",
    "    'satisfacao_cargo_muito_alta': [0],\n",
    "    'estado_civil_solteiro': [1],\n",
    "    'hora_extra_sim': [0],\n",
    "    'anos_promo':5\n",
    "}))"
   ]
  },
  {
   "cell_type": "code",
   "execution_count": 172,
   "id": "8e6fc1f8-9c52-4c6b-a25e-ee0f455709e0",
   "metadata": {},
   "outputs": [
    {
     "name": "stdout",
     "output_type": "stream",
     "text": [
      "Probabilidade Predita: 11.6%\n"
     ]
    }
   ],
   "source": [
    "\n",
    "\n",
    "#%% Realizando predições\n",
    "\n",
    "# Qual é a probabilidade média esperada de um funcionário  \n",
    "# com as seguintes características pedir demissão?\n",
    "\n",
    "prob_pred = modelo_stepwise.predict(pd.DataFrame({'satisfacao_amb_baixa':[1],\n",
    "                                                  'satisfacao_cargo_baixo': [0],\n",
    "                                                  'satisfacao_cargo_muito_alta': [1],\n",
    "                                                  'estado_civil_solteiro': [0],\n",
    "                                                  'hora_extra_sim': [0],\n",
    "                                                  'idade': [30],\n",
    "                                                  'dist_residencia': [5],\n",
    "                                                  'salario': [3000],\n",
    "                                                  'qtd_treinamentos': [2],\n",
    "                                                  'anos_empresa': [6],\n",
    "                                                  'anos_promo': [2]}))\n",
    "\n",
    "# O resultado mostra a probabilidade média estimada de ocorrência do evento\n",
    "print(f\"Probabilidade Predita: {round(prob_pred[0]*100, 2)}%\")"
   ]
  },
  {
   "cell_type": "markdown",
   "id": "af4dcff5-0f2b-4641-bc72-686aee53fabe",
   "metadata": {},
   "source": [
    "## Matriz de Confusão"
   ]
  },
  {
   "cell_type": "code",
   "execution_count": 169,
   "id": "f4ce503c-b92f-4618-ab43-a46069da9254",
   "metadata": {},
   "outputs": [
    {
     "data": {
      "image/png": "[encoded data removed]",
      "text/plain": [
       "<Figure size 640x480 with 2 Axes>"
      ]
     },
     "metadata": {},
     "output_type": "display_data"
    },
    {
     "data": {
      "text/html": [
       "<div>\n",
       "<style scoped>\n",
       "    .dataframe tbody tr th:only-of-type {\n",
       "        vertical-align: middle;\n",
       "    }\n",
       "\n",
       "    .dataframe tbody tr th {\n",
       "        vertical-align: top;\n",
       "    }\n",
       "\n",
       "    .dataframe thead th {\n",
       "        text-align: right;\n",
       "    }\n",
       "</style>\n",
       "<table border=\"1\" class=\"dataframe\">\n",
       "  <thead>\n",
       "    <tr style=\"text-align: right;\">\n",
       "      <th></th>\n",
       "      <th>Sensitividade</th>\n",
       "      <th>Especificidade</th>\n",
       "      <th>Acurácia</th>\n",
       "    </tr>\n",
       "  </thead>\n",
       "  <tbody>\n",
       "    <tr>\n",
       "      <th>0</th>\n",
       "      <td>0.523207</td>\n",
       "      <td>0.903487</td>\n",
       "      <td>0.842177</td>\n",
       "    </tr>\n",
       "  </tbody>\n",
       "</table>\n",
       "</div>"
      ],
      "text/plain": [
       "   Sensitividade  Especificidade  Acurácia\n",
       "0       0.523207        0.903487  0.842177"
      ]
     },
     "execution_count": 169,
     "metadata": {},
     "output_type": "execute_result"
    }
   ],
   "source": [
    "#%% Matriz de confusão (definição da função)\n",
    "\n",
    "def matriz_confusao(predicts, observado, cutoff):\n",
    "    \n",
    "    values = predicts.values\n",
    "    \n",
    "    predicao_binaria = []\n",
    "        \n",
    "    for item in values:\n",
    "        if item < cutoff:\n",
    "            predicao_binaria.append(0)\n",
    "        else:\n",
    "            predicao_binaria.append(1)\n",
    "           \n",
    "    cm = confusion_matrix(predicao_binaria, observado)\n",
    "    disp = ConfusionMatrixDisplay(confusion_matrix=cm)\n",
    "    disp.plot()\n",
    "    plt.xlabel('True (Observado)')\n",
    "    plt.ylabel('Classified (Predito Modelo)')\n",
    "    plt.gca().invert_xaxis()\n",
    "    plt.gca().invert_yaxis()\n",
    "    plt.show()\n",
    "        \n",
    "    sensitividade = recall_score(observado, predicao_binaria, pos_label=1)\n",
    "    especificidade = recall_score(observado, predicao_binaria, pos_label=0)\n",
    "    acuracia = accuracy_score(observado, predicao_binaria)\n",
    "\n",
    "    #Visualizando os principais indicadores desta matriz de confusão\n",
    "    indicadores = pd.DataFrame({'Sensitividade':[sensitividade],\n",
    "                                'Especificidade':[especificidade],\n",
    "                                'Acurácia':[acuracia]})\n",
    "    return indicadores\n",
    "\n",
    "#%% Matriz de confusão \n",
    "\n",
    "# Cutoff = 0.30\n",
    "matriz_confusao(observado=demissao_dummies['demissao'],\n",
    "                predicts=demissao_dummies['previsto'], \n",
    "                cutoff=0.30)"
   ]
  },
  {
   "cell_type": "code",
   "execution_count": 170,
   "id": "35de8821-ca8f-4de7-bba7-bbb8b8593c82",
   "metadata": {},
   "outputs": [
    {
     "data": {
      "image/png": "[encoded data removed]",
      "text/plain": [
       "<Figure size 640x480 with 2 Axes>"
      ]
     },
     "metadata": {},
     "output_type": "display_data"
    },
    {
     "data": {
      "text/html": [
       "<div>\n",
       "<style scoped>\n",
       "    .dataframe tbody tr th:only-of-type {\n",
       "        vertical-align: middle;\n",
       "    }\n",
       "\n",
       "    .dataframe tbody tr th {\n",
       "        vertical-align: top;\n",
       "    }\n",
       "\n",
       "    .dataframe thead th {\n",
       "        text-align: right;\n",
       "    }\n",
       "</style>\n",
       "<table border=\"1\" class=\"dataframe\">\n",
       "  <thead>\n",
       "    <tr style=\"text-align: right;\">\n",
       "      <th></th>\n",
       "      <th>Sensitividade</th>\n",
       "      <th>Especificidade</th>\n",
       "      <th>Acurácia</th>\n",
       "    </tr>\n",
       "  </thead>\n",
       "  <tbody>\n",
       "    <tr>\n",
       "      <th>0</th>\n",
       "      <td>0.459916</td>\n",
       "      <td>0.93674</td>\n",
       "      <td>0.859864</td>\n",
       "    </tr>\n",
       "  </tbody>\n",
       "</table>\n",
       "</div>"
      ],
      "text/plain": [
       "   Sensitividade  Especificidade  Acurácia\n",
       "0       0.459916         0.93674  0.859864"
      ]
     },
     "execution_count": 170,
     "metadata": {},
     "output_type": "execute_result"
    }
   ],
   "source": [
    "# Cutoff = 0.35\n",
    "matriz_confusao(observado=demissao_dummies['demissao'],\n",
    "                predicts=demissao_dummies['previsto'], \n",
    "                cutoff=0.35)"
   ]
  },
  {
   "cell_type": "markdown",
   "id": "b9791d7c-f0d8-4ce8-9165-4caf25fd9c5e",
   "metadata": {},
   "source": [
    "## Construção da Curva ROC"
   ]
  },
  {
   "cell_type": "code",
   "execution_count": 171,
   "id": "4a22f7fe-3ed9-4ab8-877f-cec714b788a1",
   "metadata": {},
   "outputs": [
    {
     "data": {
      "image/png": "[encoded data removed]",
      "text/plain": [
       "<Figure size 1500x1000 with 1 Axes>"
      ]
     },
     "metadata": {},
     "output_type": "display_data"
    }
   ],
   "source": [
    "# A avaliação por meio da matriz de confusão depende do cutoff escolhido\n",
    "\n",
    "#%% Análise da curva ROC\n",
    "\n",
    "# Parametrizando a função da curva ROC (real vs. previsto)\n",
    "fpr, tpr, thresholds = roc_curve(demissao_dummies['demissao'], demissao_dummies['previsto'])\n",
    "roc_auc = auc(fpr, tpr)\n",
    "\n",
    "# Cálculo do coeficiente de GINI\n",
    "gini = (roc_auc - 0.5)/(0.5)\n",
    "\n",
    "# Plotando a curva ROC\n",
    "plt.figure(figsize=(15,10))\n",
    "plt.plot(fpr, tpr, marker='o', color='darkorchid', markersize=10, linewidth=3)\n",
    "plt.plot(fpr, fpr, color='gray', linestyle='dashed')\n",
    "plt.title('Área abaixo da curva: %g' % round(roc_auc, 4) +\n",
    "          ' | Coeficiente de GINI: %g' % round(gini, 4), fontsize=22)\n",
    "plt.xlabel('1 - Especificidade', fontsize=20)\n",
    "plt.ylabel('Sensitividade', fontsize=20)\n",
    "plt.xticks(np.arange(0, 1.1, 0.2), fontsize=14)\n",
    "plt.yticks(np.arange(0, 1.1, 0.2), fontsize=14)\n",
    "plt.show()"
   ]
  },
  {
   "cell_type": "markdown",
   "id": "ec2d0651-bc53-4973-beba-1d9001bd0dc0",
   "metadata": {},
   "source": [
    "### Analisando a Odds Ratio das variáveis explicativas"
   ]
  },
  {
   "cell_type": "code",
   "execution_count": 173,
   "id": "13cb39db-32b0-447b-9164-eb604d4f013d",
   "metadata": {},
   "outputs": [
    {
     "data": {
      "text/plain": [
       "Q('idade')                         -0.032238\n",
       "Q('dist_residencia')                0.032280\n",
       "Q('salario')                       -0.000091\n",
       "Q('qtd_treinamentos')              -0.131297\n",
       "Q('anos_empresa')                  -0.089140\n",
       "Q('anos_promo')                     0.142538\n",
       "Q('satisfacao_amb_baixa')           1.070435\n",
       "Q('satisfacao_cargo_baixo')         0.495070\n",
       "Q('satisfacao_cargo_muito_alta')   -0.595085\n",
       "Q('estado_civil_solteiro')          1.019344\n",
       "Q('hora_extra_sim')                 1.618016\n",
       "dtype: float64"
      ]
     },
     "execution_count": 173,
     "metadata": {},
     "output_type": "execute_result"
    }
   ],
   "source": [
    "#%% Analisando a odds ratio das variáveis explicativas\n",
    "\n",
    "# Coeficientes betas estimados pelo modelo stepwise\n",
    "modelo_stepwise.params[1:]"
   ]
  },
  {
   "cell_type": "code",
   "execution_count": 174,
   "id": "a0918bc3-fe72-4b01-93a5-05c75c42f7f3",
   "metadata": {},
   "outputs": [
    {
     "data": {
      "text/plain": [
       "0.13122171945701358"
      ]
     },
     "execution_count": 174,
     "metadata": {},
     "output_type": "execute_result"
    }
   ],
   "source": [
    "# Em média, mantidas as demais condições constates, a chance de um funcionário\n",
    "# pedir demissão é multiplicada por um fator de 2.77 ao ser solteiro \n",
    "# ao invés de ser casado ou divorciado\n",
    "\n",
    "# Portanto, em média, a chance é 177% maior\n",
    "\n",
    "# Para detalhar o resultado, note que a chance = p / (1 - p)\n",
    "\n",
    "# Não solteiro (portanto, ser casado ou divorciado)\n",
    "0.116 / (1 - 0.116)"
   ]
  },
  {
   "cell_type": "code",
   "execution_count": 175,
   "id": "dddbe859-80ac-42ad-b736-9697e888551a",
   "metadata": {},
   "outputs": [
    {
     "data": {
      "text/plain": [
       "0.36369834992499656"
      ]
     },
     "execution_count": 175,
     "metadata": {},
     "output_type": "execute_result"
    }
   ],
   "source": [
    "# Solteiro (realizar o predict para solteiro = 1 sem alterar outros)\n",
    "0.2667 / (1 - 0.2667)\n",
    "\n",
    "###############################################################################"
   ]
  },
  {
   "cell_type": "code",
   "execution_count": 176,
   "id": "a36750d8-0444-400f-aafb-89bc706b4ac2",
   "metadata": {},
   "outputs": [
    {
     "data": {
      "text/plain": [
       "0.8769572793974708"
      ]
     },
     "execution_count": 176,
     "metadata": {},
     "output_type": "execute_result"
    }
   ],
   "source": [
    "# Exemplo: odds ratio da variável 'qtd_treinamentos'\n",
    "np.exp(-0.131297)\n",
    "\n",
    "# Em média, mantidas as demais condições constates, a chance de um funcionário\n",
    "# pedir demissão é multiplicada por um fator de 0.8769\n",
    "# ao receber 1 treinamento a mais"
   ]
  },
  {
   "cell_type": "code",
   "execution_count": 177,
   "id": "3662df75-b863-4a95-b4a1-bf8daea132fc",
   "metadata": {},
   "outputs": [
    {
     "data": {
      "text/plain": [
       "0.13122171945701358"
      ]
     },
     "execution_count": 177,
     "metadata": {},
     "output_type": "execute_result"
    }
   ],
   "source": [
    "# Portanto, em média, a chance é 12,31% menor\n",
    "\n",
    "# Para detalhar o resultado, note que a chance = p / (1 - p)\n",
    "\n",
    "# qtd_treinamentos = 2\n",
    "0.116 / (1 - 0.116)"
   ]
  },
  {
   "cell_type": "code",
   "execution_count": 178,
   "id": "c6e34599-561d-44b6-8f03-b0c59839fd67",
   "metadata": {},
   "outputs": [
    {
     "data": {
      "text/plain": [
       "0.11507582515611062"
      ]
     },
     "execution_count": 178,
     "metadata": {},
     "output_type": "execute_result"
    }
   ],
   "source": [
    "# qtd_treinamentos = 3 (realizar o novo predict sem alterar outros)\n",
    "0.1032 / (1 - 0.1032)\n",
    "\n",
    "#%% Fim!"
   ]
  },
  {
   "cell_type": "markdown",
   "id": "ef167b54-bd94-4641-b3f3-40de9c7710d2",
   "metadata": {},
   "source": [
    "# Exercício 3 - `acidentes.xlsx`"
   ]
  },
  {
   "cell_type": "markdown",
   "id": "22138b70-e8ce-4486-bae3-73c52a45ffdd",
   "metadata": {},
   "source": [
    "O banco de dados contém a quantidade de acidentes de trânsito por semana em 100 cidades. O banco contém seguintes variáveis:\n",
    "\n",
    "- `acidentes`: número de acidentes por semana\n",
    "- `pop`: população em milhão\n",
    "- `idade`: idade média dos habitantes da cidade com carteira de habilitação\n",
    "- `leiseca`: variável que indica se a cidade adota a lei seca após as 22h\n",
    "\n",
    "Naturalmente, a ideia é modelar o número de acidentes em função das variáveis explicaivas `pop`, `idade` e `leiseca`. Como a variável de interesse é discreta, quantitativa, e é dada por uma taxa de tempo, utilizaremos o modelo para dados de contagem."
   ]
  },
  {
   "cell_type": "markdown",
   "id": "c11f997e-d173-4de4-8c87-c81943847d74",
   "metadata": {},
   "source": [
    "### Instalação e importação dos pacotes"
   ]
  },
  {
   "cell_type": "code",
   "execution_count": 180,
   "id": "4a2ab2bf-ccdf-40f6-a477-3e6b85f5883b",
   "metadata": {},
   "outputs": [],
   "source": [
    "#%% Importando os pacotes\n",
    "\n",
    "import pandas as pd\n",
    "import numpy as np\n",
    "import matplotlib.pyplot as plt\n",
    "import seaborn as sns\n",
    "import pingouin as pg\n",
    "import statsmodels.api as sm\n",
    "import statsmodels.formula.api as smf\n",
    "from scipy import stats\n",
    "from statsmodels.discrete.discrete_model import NegativeBinomial, Poisson\n",
    "from statsmodels.discrete.count_model import ZeroInflatedNegativeBinomialP,ZeroInflatedPoisson\n",
    "import warnings\n",
    "warnings.filterwarnings('ignore')"
   ]
  },
  {
   "cell_type": "markdown",
   "id": "f211e1e3-ac05-4a6e-a2b6-3f78002e7462",
   "metadata": {},
   "source": [
    "### Preparação da base de dados"
   ]
  },
  {
   "cell_type": "code",
   "execution_count": 181,
   "id": "152b3a01-36a5-4060-8955-4ee32ec9b4da",
   "metadata": {},
   "outputs": [
    {
     "data": {
      "text/html": [
       "<div>\n",
       "<style scoped>\n",
       "    .dataframe tbody tr th:only-of-type {\n",
       "        vertical-align: middle;\n",
       "    }\n",
       "\n",
       "    .dataframe tbody tr th {\n",
       "        vertical-align: top;\n",
       "    }\n",
       "\n",
       "    .dataframe thead th {\n",
       "        text-align: right;\n",
       "    }\n",
       "</style>\n",
       "<table border=\"1\" class=\"dataframe\">\n",
       "  <thead>\n",
       "    <tr style=\"text-align: right;\">\n",
       "      <th></th>\n",
       "      <th>acidentes</th>\n",
       "      <th>pop</th>\n",
       "      <th>idade</th>\n",
       "      <th>leiseca</th>\n",
       "    </tr>\n",
       "  </thead>\n",
       "  <tbody>\n",
       "    <tr>\n",
       "      <th>0</th>\n",
       "      <td>7</td>\n",
       "      <td>0.760693</td>\n",
       "      <td>49.51</td>\n",
       "      <td>0</td>\n",
       "    </tr>\n",
       "    <tr>\n",
       "      <th>1</th>\n",
       "      <td>0</td>\n",
       "      <td>1.433687</td>\n",
       "      <td>51.93</td>\n",
       "      <td>0</td>\n",
       "    </tr>\n",
       "    <tr>\n",
       "      <th>2</th>\n",
       "      <td>0</td>\n",
       "      <td>0.737124</td>\n",
       "      <td>60.00</td>\n",
       "      <td>0</td>\n",
       "    </tr>\n",
       "    <tr>\n",
       "      <th>3</th>\n",
       "      <td>0</td>\n",
       "      <td>2.838604</td>\n",
       "      <td>59.00</td>\n",
       "      <td>0</td>\n",
       "    </tr>\n",
       "  </tbody>\n",
       "</table>\n",
       "</div>"
      ],
      "text/plain": [
       "   acidentes       pop  idade  leiseca\n",
       "0          7  0.760693  49.51        0\n",
       "1          0  1.433687  51.93        0\n",
       "2          0  0.737124  60.00        0\n",
       "3          0  2.838604  59.00        0"
      ]
     },
     "execution_count": 181,
     "metadata": {},
     "output_type": "execute_result"
    }
   ],
   "source": [
    "acidentes = pd.read_excel('acidentes.xlsx')\n",
    "## Fonte: Fávero e Belfiore (2024) Manual de Análise de Dados, Capítulo 14\n",
    "acidentes[0:4]"
   ]
  },
  {
   "cell_type": "code",
   "execution_count": 183,
   "id": "1b9b2dab-6427-49ba-bf2b-1831dd5bc775",
   "metadata": {},
   "outputs": [
    {
     "name": "stdout",
     "output_type": "stream",
     "text": [
      "<class 'pandas.core.frame.DataFrame'>\n",
      "RangeIndex: 100 entries, 0 to 99\n",
      "Data columns (total 4 columns):\n",
      " #   Column     Non-Null Count  Dtype  \n",
      "---  ------     --------------  -----  \n",
      " 0   acidentes  100 non-null    int64  \n",
      " 1   pop        100 non-null    float64\n",
      " 2   idade      100 non-null    float64\n",
      " 3   leiseca    100 non-null    int64  \n",
      "dtypes: float64(2), int64(2)\n",
      "memory usage: 3.3 KB\n"
     ]
    }
   ],
   "source": [
    "acidentes.info()"
   ]
  },
  {
   "cell_type": "code",
   "execution_count": 184,
   "id": "364faab6-c1dd-4e45-9e34-b1d6a47ca253",
   "metadata": {},
   "outputs": [
    {
     "data": {
      "text/html": [
       "<div>\n",
       "<style scoped>\n",
       "    .dataframe tbody tr th:only-of-type {\n",
       "        vertical-align: middle;\n",
       "    }\n",
       "\n",
       "    .dataframe tbody tr th {\n",
       "        vertical-align: top;\n",
       "    }\n",
       "\n",
       "    .dataframe thead th {\n",
       "        text-align: right;\n",
       "    }\n",
       "</style>\n",
       "<table border=\"1\" class=\"dataframe\">\n",
       "  <thead>\n",
       "    <tr style=\"text-align: right;\">\n",
       "      <th></th>\n",
       "      <th>acidentes</th>\n",
       "      <th>pop</th>\n",
       "      <th>idade</th>\n",
       "    </tr>\n",
       "  </thead>\n",
       "  <tbody>\n",
       "    <tr>\n",
       "      <th>count</th>\n",
       "      <td>100.000000</td>\n",
       "      <td>100.000000</td>\n",
       "      <td>100.00000</td>\n",
       "    </tr>\n",
       "    <tr>\n",
       "      <th>mean</th>\n",
       "      <td>3.010000</td>\n",
       "      <td>1.774185</td>\n",
       "      <td>50.12270</td>\n",
       "    </tr>\n",
       "    <tr>\n",
       "      <th>std</th>\n",
       "      <td>6.557431</td>\n",
       "      <td>0.769494</td>\n",
       "      <td>7.69488</td>\n",
       "    </tr>\n",
       "    <tr>\n",
       "      <th>min</th>\n",
       "      <td>0.000000</td>\n",
       "      <td>0.650289</td>\n",
       "      <td>24.00000</td>\n",
       "    </tr>\n",
       "    <tr>\n",
       "      <th>25%</th>\n",
       "      <td>0.000000</td>\n",
       "      <td>1.353586</td>\n",
       "      <td>47.77250</td>\n",
       "    </tr>\n",
       "    <tr>\n",
       "      <th>50%</th>\n",
       "      <td>0.000000</td>\n",
       "      <td>1.463477</td>\n",
       "      <td>51.75500</td>\n",
       "    </tr>\n",
       "    <tr>\n",
       "      <th>75%</th>\n",
       "      <td>3.000000</td>\n",
       "      <td>2.300476</td>\n",
       "      <td>54.94750</td>\n",
       "    </tr>\n",
       "    <tr>\n",
       "      <th>max</th>\n",
       "      <td>33.000000</td>\n",
       "      <td>2.867504</td>\n",
       "      <td>61.00000</td>\n",
       "    </tr>\n",
       "  </tbody>\n",
       "</table>\n",
       "</div>"
      ],
      "text/plain": [
       "        acidentes         pop      idade\n",
       "count  100.000000  100.000000  100.00000\n",
       "mean     3.010000    1.774185   50.12270\n",
       "std      6.557431    0.769494    7.69488\n",
       "min      0.000000    0.650289   24.00000\n",
       "25%      0.000000    1.353586   47.77250\n",
       "50%      0.000000    1.463477   51.75500\n",
       "75%      3.000000    2.300476   54.94750\n",
       "max     33.000000    2.867504   61.00000"
      ]
     },
     "execution_count": 184,
     "metadata": {},
     "output_type": "execute_result"
    }
   ],
   "source": [
    "#%% Estatísticas descritivas\n",
    "\n",
    "# Variáveis métricas\n",
    "acidentes[['acidentes', 'pop', 'idade']].describe()"
   ]
  },
  {
   "cell_type": "code",
   "execution_count": 185,
   "id": "e91c7af8-b516-4c11-a8db-9f8b5e28b697",
   "metadata": {},
   "outputs": [
    {
     "data": {
      "text/plain": [
       "leiseca\n",
       "0    58\n",
       "1    42\n",
       "Name: count, dtype: int64"
      ]
     },
     "execution_count": 185,
     "metadata": {},
     "output_type": "execute_result"
    }
   ],
   "source": [
    "# Variável categórica\n",
    "acidentes['leiseca'].value_counts()"
   ]
  },
  {
   "cell_type": "code",
   "execution_count": 190,
   "id": "86a564ca-d814-4cf3-b1d7-5859ca7bcc2c",
   "metadata": {},
   "outputs": [
    {
     "data": {
      "text/plain": [
       "acidentes\n",
       "0     58\n",
       "1      8\n",
       "2      6\n",
       "3      6\n",
       "4      4\n",
       "5      3\n",
       "8      2\n",
       "6      2\n",
       "9      2\n",
       "25     1\n",
       "20     1\n",
       "10     1\n",
       "16     1\n",
       "7      1\n",
       "33     1\n",
       "14     1\n",
       "30     1\n",
       "31     1\n",
       "Name: count, dtype: int64"
      ]
     },
     "execution_count": 190,
     "metadata": {},
     "output_type": "execute_result"
    }
   ],
   "source": [
    "# Tabela de frequências de Y\n",
    "acidentes['acidentes'].value_counts()"
   ]
  },
  {
   "cell_type": "markdown",
   "id": "eb20b041-c1ab-40eb-97bc-7ce8f7b98186",
   "metadata": {},
   "source": [
    "Parece haver número excessivo de zeros."
   ]
  },
  {
   "cell_type": "markdown",
   "id": "fdd2043f-e55a-4121-a390-96d28854dbf7",
   "metadata": {},
   "source": [
    "### Visualizando a contagem de dados"
   ]
  },
  {
   "cell_type": "code",
   "execution_count": 192,
   "id": "5db9d209-c16e-4291-9ce4-890cc6a23f46",
   "metadata": {},
   "outputs": [
    {
     "data": {
      "image/png": "[encoded data removed]",
      "text/plain": [
       "<Figure size 1500x1000 with 1 Axes>"
      ]
     },
     "metadata": {},
     "output_type": "display_data"
    }
   ],
   "source": [
    "#%% Histograma da variável dependente\n",
    "\n",
    "plt.figure(figsize=(15,10))\n",
    "ax = sns.barplot(data = acidentes['acidentes'].value_counts().sort_index(), color='purple')\n",
    "ax.bar_label(ax.containers[0])\n",
    "plt.xlabel('Acidentes por Semana', fontsize=20)\n",
    "plt.ylabel('Frequência', fontsize=20)\n",
    "plt.xticks(fontsize=15)\n",
    "plt.yticks(fontsize=15)\n",
    "plt.show()"
   ]
  },
  {
   "cell_type": "markdown",
   "id": "5e360692-64af-4062-8aa6-5e5d9ab28d9b",
   "metadata": {},
   "source": [
    "## Verificando a existência de superdispersão"
   ]
  },
  {
   "cell_type": "code",
   "execution_count": 207,
   "id": "b006b21d-c052-4cfc-819b-82356b9a8eda",
   "metadata": {},
   "outputs": [
    {
     "name": "stdout",
     "output_type": "stream",
     "text": [
      "Média: 3.01\n",
      "Variância: 43.0\n"
     ]
    }
   ],
   "source": [
    "#%% Comparação média x variância da variável dependente\n",
    "\n",
    "print(f\"Média: {round(acidentes['acidentes'].mean(), 2)}\")\n",
    "print(f\"Variância: {round(acidentes['acidentes'].var(), 2)}\")\n",
    "\n",
    "# Variância consideravelmente maior do que a média!"
   ]
  },
  {
   "cell_type": "markdown",
   "id": "c5d2ad50-a019-413c-8fc0-51573344613a",
   "metadata": {},
   "source": [
    "## Criando um modelo"
   ]
  },
  {
   "cell_type": "markdown",
   "id": "313dd95d-1b6f-4cb4-9201-b95097503311",
   "metadata": {},
   "source": [
    "### Poisson Zero Inflated"
   ]
  },
  {
   "cell_type": "markdown",
   "id": "72865393-33ba-495a-8023-b104d1a6ace0",
   "metadata": {},
   "source": [
    "Vamos estimar o modelo Zero Inflated, para isso vamos precisar definir variáveis preditoras que fazem parte do componente de contagem, e variáveis preditoras que fazem parte do componente logit."
   ]
  },
  {
   "cell_type": "code",
   "execution_count": 195,
   "id": "2948ea71-933b-47c0-a757-ad0a8a85dabe",
   "metadata": {},
   "outputs": [],
   "source": [
    "# Variável dependente\n",
    "y = acidentes['acidentes']\n",
    "\n",
    "# Variáveis preditoras: componente de contagem\n",
    "x1 = acidentes['pop']\n",
    "X1 = sm.add_constant(x1)\n",
    "\n",
    "# Variáveis preditoras: componente logit (zero inflated)\n",
    "x2 = acidentes[['idade', 'leiseca']]\n",
    "X2 = sm.add_constant(x2)"
   ]
  },
  {
   "cell_type": "code",
   "execution_count": 196,
   "id": "c2f1b6b0-12ba-4fb9-9358-36c1eb7d76cf",
   "metadata": {},
   "outputs": [
    {
     "name": "stdout",
     "output_type": "stream",
     "text": [
      "         Current function value: 2.560484\n",
      "         Iterations: 35\n",
      "         Function evaluations: 67\n",
      "         Gradient evaluations: 67\n"
     ]
    },
    {
     "data": {
      "text/html": [
       "<table class=\"simpletable\">\n",
       "<caption>ZeroInflatedPoisson Regression Results</caption>\n",
       "<tr>\n",
       "  <th>Dep. Variable:</th>        <td>acidentes</td>      <th>  No. Observations:  </th>  <td>   100</td>  \n",
       "</tr>\n",
       "<tr>\n",
       "  <th>Model:</th>           <td>ZeroInflatedPoisson</td> <th>  Df Residuals:      </th>  <td>    98</td>  \n",
       "</tr>\n",
       "<tr>\n",
       "  <th>Method:</th>                  <td>MLE</td>         <th>  Df Model:          </th>  <td>     1</td>  \n",
       "</tr>\n",
       "<tr>\n",
       "  <th>Date:</th>             <td>Sat, 12 Oct 2024</td>   <th>  Pseudo R-squ.:     </th>  <td>0.1343</td>  \n",
       "</tr>\n",
       "<tr>\n",
       "  <th>Time:</th>                 <td>17:31:08</td>       <th>  Log-Likelihood:    </th> <td> -256.05</td> \n",
       "</tr>\n",
       "<tr>\n",
       "  <th>converged:</th>              <td>False</td>        <th>  LL-Null:           </th> <td> -295.79</td> \n",
       "</tr>\n",
       "<tr>\n",
       "  <th>Covariance Type:</th>      <td>nonrobust</td>      <th>  LLR p-value:       </th> <td>4.877e-19</td>\n",
       "</tr>\n",
       "</table>\n",
       "<table class=\"simpletable\">\n",
       "<tr>\n",
       "         <td></td>            <th>coef</th>     <th>std err</th>      <th>z</th>      <th>P>|z|</th>  <th>[0.025</th>    <th>0.975]</th>  \n",
       "</tr>\n",
       "<tr>\n",
       "  <th>inflate_const</th>   <td>  -11.7276</td> <td>    3.029</td> <td>   -3.872</td> <td> 0.000</td> <td>  -17.664</td> <td>   -5.791</td>\n",
       "</tr>\n",
       "<tr>\n",
       "  <th>inflate_idade</th>   <td>    0.2252</td> <td>    0.058</td> <td>    3.857</td> <td> 0.000</td> <td>    0.111</td> <td>    0.340</td>\n",
       "</tr>\n",
       "<tr>\n",
       "  <th>inflate_leiseca</th> <td>    1.7255</td> <td>    0.553</td> <td>    3.123</td> <td> 0.002</td> <td>    0.642</td> <td>    2.809</td>\n",
       "</tr>\n",
       "<tr>\n",
       "  <th>const</th>           <td>    0.9333</td> <td>    0.198</td> <td>    4.712</td> <td> 0.000</td> <td>    0.545</td> <td>    1.322</td>\n",
       "</tr>\n",
       "<tr>\n",
       "  <th>pop</th>             <td>    0.5039</td> <td>    0.086</td> <td>    5.848</td> <td> 0.000</td> <td>    0.335</td> <td>    0.673</td>\n",
       "</tr>\n",
       "</table>"
      ],
      "text/latex": [
       "\\begin{center}\n",
       "\\begin{tabular}{lclc}\n",
       "\\toprule\n",
       "\\textbf{Dep. Variable:}   &      acidentes      & \\textbf{  No. Observations:  } &      100    \\\\\n",
       "\\textbf{Model:}           & ZeroInflatedPoisson & \\textbf{  Df Residuals:      } &       98    \\\\\n",
       "\\textbf{Method:}          &         MLE         & \\textbf{  Df Model:          } &        1    \\\\\n",
       "\\textbf{Date:}            &   Sat, 12 Oct 2024  & \\textbf{  Pseudo R-squ.:     } &   0.1343    \\\\\n",
       "\\textbf{Time:}            &       17:31:08      & \\textbf{  Log-Likelihood:    } &   -256.05   \\\\\n",
       "\\textbf{converged:}       &        False        & \\textbf{  LL-Null:           } &   -295.79   \\\\\n",
       "\\textbf{Covariance Type:} &      nonrobust      & \\textbf{  LLR p-value:       } & 4.877e-19   \\\\\n",
       "\\bottomrule\n",
       "\\end{tabular}\n",
       "\\begin{tabular}{lcccccc}\n",
       "                          & \\textbf{coef} & \\textbf{std err} & \\textbf{z} & \\textbf{P$> |$z$|$} & \\textbf{[0.025} & \\textbf{0.975]}  \\\\\n",
       "\\midrule\n",
       "\\textbf{inflate\\_const}   &     -11.7276  &        3.029     &    -3.872  &         0.000        &      -17.664    &       -5.791     \\\\\n",
       "\\textbf{inflate\\_idade}   &       0.2252  &        0.058     &     3.857  &         0.000        &        0.111    &        0.340     \\\\\n",
       "\\textbf{inflate\\_leiseca} &       1.7255  &        0.553     &     3.123  &         0.002        &        0.642    &        2.809     \\\\\n",
       "\\textbf{const}            &       0.9333  &        0.198     &     4.712  &         0.000        &        0.545    &        1.322     \\\\\n",
       "\\textbf{pop}              &       0.5039  &        0.086     &     5.848  &         0.000        &        0.335    &        0.673     \\\\\n",
       "\\bottomrule\n",
       "\\end{tabular}\n",
       "%\\caption{ZeroInflatedPoisson Regression Results}\n",
       "\\end{center}"
      ],
      "text/plain": [
       "<class 'statsmodels.iolib.summary.Summary'>\n",
       "\"\"\"\n",
       "                     ZeroInflatedPoisson Regression Results                    \n",
       "===============================================================================\n",
       "Dep. Variable:               acidentes   No. Observations:                  100\n",
       "Model:             ZeroInflatedPoisson   Df Residuals:                       98\n",
       "Method:                            MLE   Df Model:                            1\n",
       "Date:                 Sat, 12 Oct 2024   Pseudo R-squ.:                  0.1343\n",
       "Time:                         17:31:08   Log-Likelihood:                -256.05\n",
       "converged:                       False   LL-Null:                       -295.79\n",
       "Covariance Type:             nonrobust   LLR p-value:                 4.877e-19\n",
       "===================================================================================\n",
       "                      coef    std err          z      P>|z|      [0.025      0.975]\n",
       "-----------------------------------------------------------------------------------\n",
       "inflate_const     -11.7276      3.029     -3.872      0.000     -17.664      -5.791\n",
       "inflate_idade       0.2252      0.058      3.857      0.000       0.111       0.340\n",
       "inflate_leiseca     1.7255      0.553      3.123      0.002       0.642       2.809\n",
       "const               0.9333      0.198      4.712      0.000       0.545       1.322\n",
       "pop                 0.5039      0.086      5.848      0.000       0.335       0.673\n",
       "===================================================================================\n",
       "\"\"\""
      ]
     },
     "execution_count": 196,
     "metadata": {},
     "output_type": "execute_result"
    }
   ],
   "source": [
    "#%% Modelo Zero Inflated Poisson \n",
    "\n",
    "# Estimando o modelo\n",
    "modelo_zip = sm.ZeroInflatedPoisson(y, X1, exog_infl=X2,\n",
    "                                    inflation='logit').fit()\n",
    "\n",
    "# Parâmetros do modelo\n",
    "modelo_zip.summary()"
   ]
  },
  {
   "cell_type": "markdown",
   "id": "a09bb112-b8bc-4af3-92a3-3e871b0167f5",
   "metadata": {},
   "source": [
    "### Poisson"
   ]
  },
  {
   "cell_type": "code",
   "execution_count": 197,
   "id": "60c6e590-96c8-4c11-9284-39880c02eb7b",
   "metadata": {},
   "outputs": [],
   "source": [
    "# Valores preditos pelo modelo para observações da amostra\n",
    "acidentes['poisson_zi'] = modelo_zip.predict(X1, exog_infl=X2)"
   ]
  },
  {
   "cell_type": "code",
   "execution_count": 199,
   "id": "1f2be84a-db79-4075-bc72-002080f9840f",
   "metadata": {},
   "outputs": [
    {
     "name": "stdout",
     "output_type": "stream",
     "text": [
      "Optimization terminated successfully.\n",
      "         Current function value: 4.488922\n",
      "         Iterations 5\n"
     ]
    },
    {
     "data": {
      "text/html": [
       "<table class=\"simpletable\">\n",
       "<caption>Poisson Regression Results</caption>\n",
       "<tr>\n",
       "  <th>Dep. Variable:</th>       <td>acidentes</td>    <th>  No. Observations:  </th>  <td>   100</td>  \n",
       "</tr>\n",
       "<tr>\n",
       "  <th>Model:</th>                <td>Poisson</td>     <th>  Df Residuals:      </th>  <td>    98</td>  \n",
       "</tr>\n",
       "<tr>\n",
       "  <th>Method:</th>                 <td>MLE</td>       <th>  Df Model:          </th>  <td>     1</td>  \n",
       "</tr>\n",
       "<tr>\n",
       "  <th>Date:</th>            <td>Sat, 12 Oct 2024</td> <th>  Pseudo R-squ.:     </th>  <td>0.08185</td> \n",
       "</tr>\n",
       "<tr>\n",
       "  <th>Time:</th>                <td>17:32:57</td>     <th>  Log-Likelihood:    </th> <td> -448.89</td> \n",
       "</tr>\n",
       "<tr>\n",
       "  <th>converged:</th>             <td>True</td>       <th>  LL-Null:           </th> <td> -488.91</td> \n",
       "</tr>\n",
       "<tr>\n",
       "  <th>Covariance Type:</th>     <td>nonrobust</td>    <th>  LLR p-value:       </th> <td>3.684e-19</td>\n",
       "</tr>\n",
       "</table>\n",
       "<table class=\"simpletable\">\n",
       "<tr>\n",
       "      <td></td>         <th>coef</th>     <th>std err</th>      <th>z</th>      <th>P>|z|</th>  <th>[0.025</th>    <th>0.975]</th>  \n",
       "</tr>\n",
       "<tr>\n",
       "  <th>Intercept</th> <td>   -0.2776</td> <td>    0.185</td> <td>   -1.497</td> <td> 0.134</td> <td>   -0.641</td> <td>    0.086</td>\n",
       "</tr>\n",
       "<tr>\n",
       "  <th>pop</th>       <td>    0.6986</td> <td>    0.081</td> <td>    8.585</td> <td> 0.000</td> <td>    0.539</td> <td>    0.858</td>\n",
       "</tr>\n",
       "</table>"
      ],
      "text/latex": [
       "\\begin{center}\n",
       "\\begin{tabular}{lclc}\n",
       "\\toprule\n",
       "\\textbf{Dep. Variable:}   &    acidentes     & \\textbf{  No. Observations:  } &      100    \\\\\n",
       "\\textbf{Model:}           &     Poisson      & \\textbf{  Df Residuals:      } &       98    \\\\\n",
       "\\textbf{Method:}          &       MLE        & \\textbf{  Df Model:          } &        1    \\\\\n",
       "\\textbf{Date:}            & Sat, 12 Oct 2024 & \\textbf{  Pseudo R-squ.:     } &  0.08185    \\\\\n",
       "\\textbf{Time:}            &     17:32:57     & \\textbf{  Log-Likelihood:    } &   -448.89   \\\\\n",
       "\\textbf{converged:}       &       True       & \\textbf{  LL-Null:           } &   -488.91   \\\\\n",
       "\\textbf{Covariance Type:} &    nonrobust     & \\textbf{  LLR p-value:       } & 3.684e-19   \\\\\n",
       "\\bottomrule\n",
       "\\end{tabular}\n",
       "\\begin{tabular}{lcccccc}\n",
       "                   & \\textbf{coef} & \\textbf{std err} & \\textbf{z} & \\textbf{P$> |$z$|$} & \\textbf{[0.025} & \\textbf{0.975]}  \\\\\n",
       "\\midrule\n",
       "\\textbf{Intercept} &      -0.2776  &        0.185     &    -1.497  &         0.134        &       -0.641    &        0.086     \\\\\n",
       "\\textbf{pop}       &       0.6986  &        0.081     &     8.585  &         0.000        &        0.539    &        0.858     \\\\\n",
       "\\bottomrule\n",
       "\\end{tabular}\n",
       "%\\caption{Poisson Regression Results}\n",
       "\\end{center}"
      ],
      "text/plain": [
       "<class 'statsmodels.iolib.summary.Summary'>\n",
       "\"\"\"\n",
       "                          Poisson Regression Results                          \n",
       "==============================================================================\n",
       "Dep. Variable:              acidentes   No. Observations:                  100\n",
       "Model:                        Poisson   Df Residuals:                       98\n",
       "Method:                           MLE   Df Model:                            1\n",
       "Date:                Sat, 12 Oct 2024   Pseudo R-squ.:                 0.08185\n",
       "Time:                        17:32:57   Log-Likelihood:                -448.89\n",
       "converged:                       True   LL-Null:                       -488.91\n",
       "Covariance Type:            nonrobust   LLR p-value:                 3.684e-19\n",
       "==============================================================================\n",
       "                 coef    std err          z      P>|z|      [0.025      0.975]\n",
       "------------------------------------------------------------------------------\n",
       "Intercept     -0.2776      0.185     -1.497      0.134      -0.641       0.086\n",
       "pop            0.6986      0.081      8.585      0.000       0.539       0.858\n",
       "==============================================================================\n",
       "\"\"\""
      ]
     },
     "execution_count": 199,
     "metadata": {},
     "output_type": "execute_result"
    }
   ],
   "source": [
    "#%% Modelo Poisson (comparação)\n",
    "\n",
    "modelo_poisson = sm.Poisson.from_formula(formula='acidentes ~ pop', \n",
    "                                         data=acidentes).fit()\n",
    "\n",
    "# Parâmetros do modelo\n",
    "modelo_poisson.summary()"
   ]
  },
  {
   "cell_type": "markdown",
   "id": "8729e886-e9b3-4833-b15f-2f9e78506ad1",
   "metadata": {},
   "source": [
    "Podemos ver que o modelo zero inflated possui um loglik maior."
   ]
  },
  {
   "cell_type": "code",
   "execution_count": 201,
   "id": "634c2a79-b114-47b2-ad56-280b133c3956",
   "metadata": {},
   "outputs": [],
   "source": [
    "# Valores preditos pelo modelo para observações da amostra\n",
    "acidentes['poisson'] = modelo_poisson.predict()"
   ]
  },
  {
   "cell_type": "code",
   "execution_count": 202,
   "id": "710533d6-0b01-4c7d-92b0-2d6d2d4edbd3",
   "metadata": {},
   "outputs": [
    {
     "name": "stdout",
     "output_type": "stream",
     "text": [
      "Vuong Non-Nested Hypothesis Test-Statistic (Raw):\n",
      "Vuong z-statistic: 4.212\n",
      "p-value: 0.000\n",
      "\n",
      "==================Result======================== \n",
      "\n",
      "H1: Indicates inflation of zeros at 95% confidence level\n"
     ]
    }
   ],
   "source": [
    "#%% Teste de Vuong (definição da função)\n",
    "\n",
    "# VUONG, Q. H. Likelihood ratio tests for model selection and non-nested\n",
    "#hypotheses. Econometrica, v. 57, n. 2, p. 307-333, 1989.\n",
    "\n",
    "# Definição de função para elaboração do teste de Vuong\n",
    "# Autores: Luiz Paulo Fávero e Helder Prado Santos\n",
    "\n",
    "def vuong_test(m1, m2):\n",
    "\n",
    "    from scipy.stats import norm    \n",
    "\n",
    "    if m1.__class__.__name__ == \"GLMResultsWrapper\":\n",
    "        \n",
    "        glm_family = modelo_poisson.model.family\n",
    "\n",
    "        X = pd.DataFrame(data=m1.model.exog, columns=m1.model.exog_names)\n",
    "        y = pd.Series(m1.model.endog, name=m1.model.endog_names)\n",
    "\n",
    "        if glm_family.__class__.__name__ == \"Poisson\":\n",
    "            m1 = Poisson(endog=y, exog=X).fit()\n",
    "            \n",
    "        if glm_family.__class__.__name__ == \"NegativeBinomial\":\n",
    "            m1 = NegativeBinomial(endog=y, exog=X, loglike_method='nb2').fit()\n",
    "\n",
    "    supported_models = [ZeroInflatedPoisson,ZeroInflatedNegativeBinomialP,Poisson,NegativeBinomial]\n",
    "    \n",
    "    if type(m1.model) not in supported_models:\n",
    "        raise ValueError(f\"Model type not supported for first parameter. List of supported models: (ZeroInflatedPoisson, ZeroInflatedNegativeBinomialP, Poisson, NegativeBinomial) from statsmodels discrete collection.\")\n",
    "        \n",
    "    if type(m2.model) not in supported_models:\n",
    "        raise ValueError(f\"Model type not supported for second parameter. List of supported models: (ZeroInflatedPoisson, ZeroInflatedNegativeBinomialP, Poisson, NegativeBinomial) from statsmodels discrete collection.\")\n",
    "    \n",
    "    # Extração das variáveis dependentes dos modelos\n",
    "    m1_y = m1.model.endog\n",
    "    m2_y = m2.model.endog\n",
    "\n",
    "    m1_n = len(m1_y)\n",
    "    m2_n = len(m2_y)\n",
    "\n",
    "    if m1_n == 0 or m2_n == 0:\n",
    "        raise ValueError(\"Could not extract dependent variables from models.\")\n",
    "\n",
    "    if m1_n != m2_n:\n",
    "        raise ValueError(\"Models appear to have different numbers of observations.\\n\"\n",
    "                         f\"Model 1 has {m1_n} observations.\\n\"\n",
    "                         f\"Model 2 has {m2_n} observations.\")\n",
    "\n",
    "    if np.any(m1_y != m2_y):\n",
    "        raise ValueError(\"Models appear to have different values on dependent variables.\")\n",
    "        \n",
    "    m1_linpred = pd.DataFrame(m1.predict(which=\"prob\"))\n",
    "    m2_linpred = pd.DataFrame(m2.predict(which=\"prob\"))        \n",
    "\n",
    "    m1_probs = np.repeat(np.nan, m1_n)\n",
    "    m2_probs = np.repeat(np.nan, m2_n)\n",
    "\n",
    "    which_col_m1 = [list(m1_linpred.columns).index(x) if x in list(m1_linpred.columns) else None for x in m1_y]    \n",
    "    which_col_m2 = [list(m2_linpred.columns).index(x) if x in list(m2_linpred.columns) else None for x in m2_y]\n",
    "\n",
    "    for i, v in enumerate(m1_probs):\n",
    "        m1_probs[i] = m1_linpred.iloc[i, which_col_m1[i]]\n",
    "\n",
    "    for i, v in enumerate(m2_probs):\n",
    "        m2_probs[i] = m2_linpred.iloc[i, which_col_m2[i]]\n",
    "\n",
    "    lm1p = np.log(m1_probs)\n",
    "    lm2p = np.log(m2_probs)\n",
    "\n",
    "    m = lm1p - lm2p\n",
    "\n",
    "    v = np.sum(m) / (np.std(m) * np.sqrt(len(m)))\n",
    "\n",
    "    pval = 1 - norm.cdf(v) if v > 0 else norm.cdf(v)\n",
    "\n",
    "    print(\"Vuong Non-Nested Hypothesis Test-Statistic (Raw):\")\n",
    "    print(f\"Vuong z-statistic: {round(v, 3)}\")\n",
    "    print(f\"p-value: {pval:.3f}\")\n",
    "    print(\"\")\n",
    "    print(\"==================Result======================== \\n\")\n",
    "    if pval <= 0.05:\n",
    "        print(\"H1: Indicates inflation of zeros at 95% confidence level\")\n",
    "    else:\n",
    "        print(\"H0: Indicates no inflation of zeros at 95% confidence level\")\n",
    "\n",
    "#%% Teste de Vuong (aplicação aos dados)\n",
    "\n",
    "vuong_test(modelo_zip, modelo_poisson)"
   ]
  },
  {
   "cell_type": "code",
   "execution_count": 204,
   "id": "f5b52ed3-d148-4a93-99bb-898f5c702629",
   "metadata": {},
   "outputs": [
    {
     "name": "stdout",
     "output_type": "stream",
     "text": [
      "χ²: 385.69\n",
      "p-valor: 0.0\n",
      "H1: Modelos diferentes, favorecendo aquele com a maior Log-Likelihood\n"
     ]
    }
   ],
   "source": [
    "#%% Teste de razão de verossimilhança\n",
    "\n",
    "# Definição da função 'lrtest'\n",
    "def lrtest(modelos):\n",
    "    modelo_1 = modelos[0]\n",
    "    llk_1 = modelo_1.llnull\n",
    "    llk_2 = modelo_1.llf\n",
    "    \n",
    "    if len(modelos)>1:\n",
    "        llk_1 = modelo_1.llf\n",
    "        llk_2 = modelos[1].llf\n",
    "    LR_statistic = -2*(llk_1-llk_2)\n",
    "    p_val = stats.chi2.sf(LR_statistic, 3) # o número de graus de liberdade é dado pelo número de parâmetros de um modelo - número de parâmetros do outro\n",
    "    print(f\"χ²: {round(LR_statistic,2)}\"), print(f\"p-valor: {round(p_val,2)}\")\n",
    "    if p_val <= 0.05:\n",
    "        print(\"H1: Modelos diferentes, favorecendo aquele com a maior Log-Likelihood\")\n",
    "    else:\n",
    "        print(\"H0: Modelos com log-likelihoods que não são estatisticamente diferentes ao nível de confiança de 95%\")\n",
    "\n",
    "# Teste de razão de verossimilhança: Poisson GLM e ZI Poisson\n",
    "lrtest([modelo_poisson, modelo_zip])"
   ]
  },
  {
   "cell_type": "markdown",
   "id": "24ef2cf0-00c5-47b5-bb5a-914e303c0ec5",
   "metadata": {},
   "source": [
    "### Binomial Negativa"
   ]
  },
  {
   "cell_type": "code",
   "execution_count": 205,
   "id": "4560a9bc-b9e4-4b28-882c-b10d0d60a363",
   "metadata": {},
   "outputs": [
    {
     "data": {
      "text/html": [
       "<table class=\"simpletable\">\n",
       "<caption>ZeroInflatedNegativeBinomialP Regression Results</caption>\n",
       "<tr>\n",
       "  <th>Dep. Variable:</th>             <td>acidentes</td>           <th>  No. Observations:  </th>  <td>   100</td>  \n",
       "</tr>\n",
       "<tr>\n",
       "  <th>Model:</th>           <td>ZeroInflatedNegativeBinomialP</td> <th>  Df Residuals:      </th>  <td>    98</td>  \n",
       "</tr>\n",
       "<tr>\n",
       "  <th>Method:</th>                       <td>MLE</td>              <th>  Df Model:          </th>  <td>     1</td>  \n",
       "</tr>\n",
       "<tr>\n",
       "  <th>Date:</th>                  <td>Sat, 12 Oct 2024</td>        <th>  Pseudo R-squ.:     </th>  <td>0.1236</td>  \n",
       "</tr>\n",
       "<tr>\n",
       "  <th>Time:</th>                      <td>17:41:10</td>            <th>  Log-Likelihood:    </th> <td> -164.40</td> \n",
       "</tr>\n",
       "<tr>\n",
       "  <th>converged:</th>                   <td>False</td>             <th>  LL-Null:           </th> <td> -187.59</td> \n",
       "</tr>\n",
       "<tr>\n",
       "  <th>Covariance Type:</th>           <td>nonrobust</td>           <th>  LLR p-value:       </th> <td>9.801e-12</td>\n",
       "</tr>\n",
       "</table>\n",
       "<table class=\"simpletable\">\n",
       "<tr>\n",
       "         <td></td>            <th>coef</th>     <th>std err</th>      <th>z</th>      <th>P>|z|</th>  <th>[0.025</th>    <th>0.975]</th>  \n",
       "</tr>\n",
       "<tr>\n",
       "  <th>inflate_const</th>   <td>  -16.2373</td> <td>    5.727</td> <td>   -2.835</td> <td> 0.005</td> <td>  -27.462</td> <td>   -5.013</td>\n",
       "</tr>\n",
       "<tr>\n",
       "  <th>inflate_idade</th>   <td>    0.2882</td> <td>    0.100</td> <td>    2.885</td> <td> 0.004</td> <td>    0.092</td> <td>    0.484</td>\n",
       "</tr>\n",
       "<tr>\n",
       "  <th>inflate_leiseca</th> <td>    2.8590</td> <td>    1.077</td> <td>    2.656</td> <td> 0.008</td> <td>    0.749</td> <td>    4.969</td>\n",
       "</tr>\n",
       "<tr>\n",
       "  <th>const</th>           <td>    0.0253</td> <td>    0.540</td> <td>    0.047</td> <td> 0.963</td> <td>   -1.034</td> <td>    1.084</td>\n",
       "</tr>\n",
       "<tr>\n",
       "  <th>pop</th>             <td>    0.8662</td> <td>    0.262</td> <td>    3.304</td> <td> 0.001</td> <td>    0.352</td> <td>    1.380</td>\n",
       "</tr>\n",
       "<tr>\n",
       "  <th>alpha</th>           <td>    1.2712</td> <td>    0.399</td> <td>    3.187</td> <td> 0.001</td> <td>    0.490</td> <td>    2.053</td>\n",
       "</tr>\n",
       "</table>"
      ],
      "text/latex": [
       "\\begin{center}\n",
       "\\begin{tabular}{lclc}\n",
       "\\toprule\n",
       "\\textbf{Dep. Variable:}   &           acidentes           & \\textbf{  No. Observations:  } &      100    \\\\\n",
       "\\textbf{Model:}           & ZeroInflatedNegativeBinomialP & \\textbf{  Df Residuals:      } &       98    \\\\\n",
       "\\textbf{Method:}          &              MLE              & \\textbf{  Df Model:          } &        1    \\\\\n",
       "\\textbf{Date:}            &        Sat, 12 Oct 2024       & \\textbf{  Pseudo R-squ.:     } &   0.1236    \\\\\n",
       "\\textbf{Time:}            &            17:41:10           & \\textbf{  Log-Likelihood:    } &   -164.40   \\\\\n",
       "\\textbf{converged:}       &             False             & \\textbf{  LL-Null:           } &   -187.59   \\\\\n",
       "\\textbf{Covariance Type:} &           nonrobust           & \\textbf{  LLR p-value:       } & 9.801e-12   \\\\\n",
       "\\bottomrule\n",
       "\\end{tabular}\n",
       "\\begin{tabular}{lcccccc}\n",
       "                          & \\textbf{coef} & \\textbf{std err} & \\textbf{z} & \\textbf{P$> |$z$|$} & \\textbf{[0.025} & \\textbf{0.975]}  \\\\\n",
       "\\midrule\n",
       "\\textbf{inflate\\_const}   &     -16.2373  &        5.727     &    -2.835  &         0.005        &      -27.462    &       -5.013     \\\\\n",
       "\\textbf{inflate\\_idade}   &       0.2882  &        0.100     &     2.885  &         0.004        &        0.092    &        0.484     \\\\\n",
       "\\textbf{inflate\\_leiseca} &       2.8590  &        1.077     &     2.656  &         0.008        &        0.749    &        4.969     \\\\\n",
       "\\textbf{const}            &       0.0253  &        0.540     &     0.047  &         0.963        &       -1.034    &        1.084     \\\\\n",
       "\\textbf{pop}              &       0.8662  &        0.262     &     3.304  &         0.001        &        0.352    &        1.380     \\\\\n",
       "\\textbf{alpha}            &       1.2712  &        0.399     &     3.187  &         0.001        &        0.490    &        2.053     \\\\\n",
       "\\bottomrule\n",
       "\\end{tabular}\n",
       "%\\caption{ZeroInflatedNegativeBinomialP Regression Results}\n",
       "\\end{center}"
      ],
      "text/plain": [
       "<class 'statsmodels.iolib.summary.Summary'>\n",
       "\"\"\"\n",
       "                     ZeroInflatedNegativeBinomialP Regression Results                    \n",
       "=========================================================================================\n",
       "Dep. Variable:                         acidentes   No. Observations:                  100\n",
       "Model:             ZeroInflatedNegativeBinomialP   Df Residuals:                       98\n",
       "Method:                                      MLE   Df Model:                            1\n",
       "Date:                           Sat, 12 Oct 2024   Pseudo R-squ.:                  0.1236\n",
       "Time:                                   17:41:10   Log-Likelihood:                -164.40\n",
       "converged:                                 False   LL-Null:                       -187.59\n",
       "Covariance Type:                       nonrobust   LLR p-value:                 9.801e-12\n",
       "===================================================================================\n",
       "                      coef    std err          z      P>|z|      [0.025      0.975]\n",
       "-----------------------------------------------------------------------------------\n",
       "inflate_const     -16.2373      5.727     -2.835      0.005     -27.462      -5.013\n",
       "inflate_idade       0.2882      0.100      2.885      0.004       0.092       0.484\n",
       "inflate_leiseca     2.8590      1.077      2.656      0.008       0.749       4.969\n",
       "const               0.0253      0.540      0.047      0.963      -1.034       1.084\n",
       "pop                 0.8662      0.262      3.304      0.001       0.352       1.380\n",
       "alpha               1.2712      0.399      3.187      0.001       0.490       2.053\n",
       "===================================================================================\n",
       "\"\"\""
      ]
     },
     "execution_count": 205,
     "metadata": {},
     "output_type": "execute_result"
    }
   ],
   "source": [
    "#%% Modelo ZI Binomial Negativo\n",
    "\n",
    "# Estimando o modelo\n",
    "modelo_zibn = ZeroInflatedNegativeBinomialP(y, X1, exog_infl=X2,\n",
    "                                            inflation='logit').fit(method='nm', maxiter=1000)\n",
    "\n",
    "# Parâmetros do modelo\n",
    "modelo_zibn.summary()"
   ]
  },
  {
   "cell_type": "markdown",
   "id": "d31e59ba-598d-4390-94db-9713f0252b3f",
   "metadata": {},
   "source": [
    "### Binomial"
   ]
  },
  {
   "cell_type": "code",
   "execution_count": 211,
   "id": "5632c0de-d9d6-4b98-8de4-baf5df5056dc",
   "metadata": {},
   "outputs": [
    {
     "name": "stdout",
     "output_type": "stream",
     "text": [
      "Optimization terminated successfully.\n",
      "         Current function value: 1.848073\n",
      "         Iterations: 12\n",
      "         Function evaluations: 15\n",
      "         Gradient evaluations: 15\n"
     ]
    },
    {
     "data": {
      "text/html": [
       "<table class=\"simpletable\">\n",
       "<caption>NegativeBinomial Regression Results</caption>\n",
       "<tr>\n",
       "  <th>Dep. Variable:</th>       <td>acidentes</td>    <th>  No. Observations:  </th>  <td>   100</td> \n",
       "</tr>\n",
       "<tr>\n",
       "  <th>Model:</th>           <td>NegativeBinomial</td> <th>  Df Residuals:      </th>  <td>    98</td> \n",
       "</tr>\n",
       "<tr>\n",
       "  <th>Method:</th>                 <td>MLE</td>       <th>  Df Model:          </th>  <td>     1</td> \n",
       "</tr>\n",
       "<tr>\n",
       "  <th>Date:</th>            <td>Sat, 12 Oct 2024</td> <th>  Pseudo R-squ.:     </th>  <td>0.01594</td>\n",
       "</tr>\n",
       "<tr>\n",
       "  <th>Time:</th>                <td>17:58:37</td>     <th>  Log-Likelihood:    </th> <td> -184.81</td>\n",
       "</tr>\n",
       "<tr>\n",
       "  <th>converged:</th>             <td>True</td>       <th>  LL-Null:           </th> <td> -187.80</td>\n",
       "</tr>\n",
       "<tr>\n",
       "  <th>Covariance Type:</th>     <td>nonrobust</td>    <th>  LLR p-value:       </th>  <td>0.01440</td>\n",
       "</tr>\n",
       "</table>\n",
       "<table class=\"simpletable\">\n",
       "<tr>\n",
       "      <td></td>         <th>coef</th>     <th>std err</th>      <th>z</th>      <th>P>|z|</th>  <th>[0.025</th>    <th>0.975]</th>  \n",
       "</tr>\n",
       "<tr>\n",
       "  <th>Intercept</th> <td>   -0.4228</td> <td>    0.602</td> <td>   -0.702</td> <td> 0.483</td> <td>   -1.604</td> <td>    0.758</td>\n",
       "</tr>\n",
       "<tr>\n",
       "  <th>pop</th>       <td>    0.7729</td> <td>    0.310</td> <td>    2.493</td> <td> 0.013</td> <td>    0.165</td> <td>    1.381</td>\n",
       "</tr>\n",
       "<tr>\n",
       "  <th>alpha</th>     <td>    4.4854</td> <td>    0.927</td> <td>    4.838</td> <td> 0.000</td> <td>    2.668</td> <td>    6.303</td>\n",
       "</tr>\n",
       "</table>"
      ],
      "text/latex": [
       "\\begin{center}\n",
       "\\begin{tabular}{lclc}\n",
       "\\toprule\n",
       "\\textbf{Dep. Variable:}   &    acidentes     & \\textbf{  No. Observations:  } &      100    \\\\\n",
       "\\textbf{Model:}           & NegativeBinomial & \\textbf{  Df Residuals:      } &       98    \\\\\n",
       "\\textbf{Method:}          &       MLE        & \\textbf{  Df Model:          } &        1    \\\\\n",
       "\\textbf{Date:}            & Sat, 12 Oct 2024 & \\textbf{  Pseudo R-squ.:     } &  0.01594    \\\\\n",
       "\\textbf{Time:}            &     17:58:37     & \\textbf{  Log-Likelihood:    } &   -184.81   \\\\\n",
       "\\textbf{converged:}       &       True       & \\textbf{  LL-Null:           } &   -187.80   \\\\\n",
       "\\textbf{Covariance Type:} &    nonrobust     & \\textbf{  LLR p-value:       } &  0.01440    \\\\\n",
       "\\bottomrule\n",
       "\\end{tabular}\n",
       "\\begin{tabular}{lcccccc}\n",
       "                   & \\textbf{coef} & \\textbf{std err} & \\textbf{z} & \\textbf{P$> |$z$|$} & \\textbf{[0.025} & \\textbf{0.975]}  \\\\\n",
       "\\midrule\n",
       "\\textbf{Intercept} &      -0.4228  &        0.602     &    -0.702  &         0.483        &       -1.604    &        0.758     \\\\\n",
       "\\textbf{pop}       &       0.7729  &        0.310     &     2.493  &         0.013        &        0.165    &        1.381     \\\\\n",
       "\\textbf{alpha}     &       4.4854  &        0.927     &     4.838  &         0.000        &        2.668    &        6.303     \\\\\n",
       "\\bottomrule\n",
       "\\end{tabular}\n",
       "%\\caption{NegativeBinomial Regression Results}\n",
       "\\end{center}"
      ],
      "text/plain": [
       "<class 'statsmodels.iolib.summary.Summary'>\n",
       "\"\"\"\n",
       "                     NegativeBinomial Regression Results                      \n",
       "==============================================================================\n",
       "Dep. Variable:              acidentes   No. Observations:                  100\n",
       "Model:               NegativeBinomial   Df Residuals:                       98\n",
       "Method:                           MLE   Df Model:                            1\n",
       "Date:                Sat, 12 Oct 2024   Pseudo R-squ.:                 0.01594\n",
       "Time:                        17:58:37   Log-Likelihood:                -184.81\n",
       "converged:                       True   LL-Null:                       -187.80\n",
       "Covariance Type:            nonrobust   LLR p-value:                   0.01440\n",
       "==============================================================================\n",
       "                 coef    std err          z      P>|z|      [0.025      0.975]\n",
       "------------------------------------------------------------------------------\n",
       "Intercept     -0.4228      0.602     -0.702      0.483      -1.604       0.758\n",
       "pop            0.7729      0.310      2.493      0.013       0.165       1.381\n",
       "alpha          4.4854      0.927      4.838      0.000       2.668       6.303\n",
       "==============================================================================\n",
       "\"\"\""
      ]
     },
     "execution_count": 211,
     "metadata": {},
     "output_type": "execute_result"
    }
   ],
   "source": [
    "#%% Modelo Binomial Negativo (comparação)\n",
    "\n",
    "modelo_bn = sm.NegativeBinomial.from_formula(formula='acidentes ~ pop', \n",
    "                                             data=acidentes).fit()\n",
    "\n",
    "# Parâmetros do modelo\n",
    "modelo_bn.summary()"
   ]
  },
  {
   "cell_type": "markdown",
   "id": "3fec9bbf-b21a-479f-bea7-98ebe4a1c4ec",
   "metadata": {},
   "source": [
    "## Comparação de modelos"
   ]
  },
  {
   "cell_type": "code",
   "execution_count": 212,
   "id": "cf37e338-7d73-4fa3-981d-4d286940ea71",
   "metadata": {},
   "outputs": [
    {
     "name": "stdout",
     "output_type": "stream",
     "text": [
      "χ²: 40.81\n",
      "p-valor: 0.0\n",
      "H1: Modelos diferentes, favorecendo aquele com a maior Log-Likelihood\n"
     ]
    }
   ],
   "source": [
    "# Valores preditos pelo modelo para observações da amostra\n",
    "acidentes['bn'] = modelo_bn.predict()\n",
    "\n",
    "#%% Teste de razão de verossimilhança\n",
    "\n",
    "# Definição da função 'lrtest'\n",
    "def lrtest(modelos):\n",
    "    modelo_1 = modelos[0]\n",
    "    llk_1 = modelo_1.llnull\n",
    "    llk_2 = modelo_1.llf\n",
    "    \n",
    "    if len(modelos)>1:\n",
    "        llk_1 = modelo_1.llf\n",
    "        llk_2 = modelos[1].llf\n",
    "    LR_statistic = -2*(llk_1-llk_2)\n",
    "    p_val = stats.chi2.sf(LR_statistic, 3)\n",
    "    print(f\"χ²: {round(LR_statistic,2)}\"), print(f\"p-valor: {round(p_val,2)}\")\n",
    "    if p_val <= 0.05:\n",
    "        print(\"H1: Modelos diferentes, favorecendo aquele com a maior Log-Likelihood\")\n",
    "    else:\n",
    "        print(\"H0: Modelos com log-likelihoods que não são estatisticamente diferentes ao nível de confiança de 95%\")\n",
    "\n",
    "# Teste de razão de verossimilhança: Binomial Negativo GLM e ZIBN\n",
    "lrtest([modelo_bn, modelo_zibn])"
   ]
  },
  {
   "cell_type": "code",
   "execution_count": 213,
   "id": "2cb705bc-c42d-4ccd-b57c-c71593b8a8c7",
   "metadata": {},
   "outputs": [
    {
     "name": "stdout",
     "output_type": "stream",
     "text": [
      "χ²: 183.29\n",
      "p-valor: 0.0\n",
      "H1: Modelos diferentes, favorecendo aquele com a maior Log-Likelihood\n"
     ]
    }
   ],
   "source": [
    "#%% Teste de razão de verossimilhança\n",
    "\n",
    "# Definição da função 'lrtest'\n",
    "def lrtest(modelos):\n",
    "    modelo_1 = modelos[0]\n",
    "    llk_1 = modelo_1.llnull\n",
    "    llk_2 = modelo_1.llf\n",
    "    \n",
    "    if len(modelos)>1:\n",
    "        llk_1 = modelo_1.llf\n",
    "        llk_2 = modelos[1].llf\n",
    "    LR_statistic = -2*(llk_1-llk_2)\n",
    "    p_val = stats.chi2.sf(LR_statistic, 1)\n",
    "    print(f\"χ²: {round(LR_statistic,2)}\"), print(f\"p-valor: {round(p_val,2)}\")\n",
    "    if p_val <= 0.05:\n",
    "        print(\"H1: Modelos diferentes, favorecendo aquele com a maior Log-Likelihood\")\n",
    "    else:\n",
    "        print(\"H0: Modelos com log-likelihoods que não são estatisticamente diferentes ao nível de confiança de 95%\")\n",
    "\n",
    "# Teste de razão de verossimilhança: ZIP e ZIBN\n",
    "lrtest([modelo_zip, modelo_zibn])"
   ]
  },
  {
   "cell_type": "code",
   "execution_count": 214,
   "id": "1e28f601-6637-40a0-a0d5-0f8d6f9f8be7",
   "metadata": {},
   "outputs": [
    {
     "data": {
      "image/png": "[encoded data removed]",
      "text/plain": [
       "<Figure size 1500x1000 with 1 Axes>"
      ]
     },
     "metadata": {},
     "output_type": "display_data"
    }
   ],
   "source": [
    "#%% Visualizando graficamente as loglik\n",
    "\n",
    "# Definição do dataframe com os modelos e respectivos LogLiks\n",
    "df_llf = pd.DataFrame({'modelo':['ZIP','ZIBN', 'Poisson', 'BN'],\n",
    "                       'loglik':[modelo_zip.llf, \n",
    "                                 modelo_zibn.llf, \n",
    "                                 modelo_poisson.llf, \n",
    "                                 modelo_bn.llf]}).sort_values(by=['loglik'])\n",
    "\n",
    "# Plotagem propriamente dita\n",
    "fig, ax = plt.subplots(figsize=(15,10))\n",
    "\n",
    "c = ['lightsalmon', 'darksalmon', 'coral', 'orangered']\n",
    "\n",
    "ax1 = ax.barh(df_llf.modelo, df_llf.loglik, color = c)\n",
    "ax.bar_label(ax1, label_type='center', color='snow', fontsize=25, weight='bold')\n",
    "ax.set_ylabel(\"Modelo Proposto\", fontsize=20)\n",
    "ax.set_xlabel(\"LogLik\", fontsize=20)\n",
    "ax.tick_params(axis='y', labelsize=20)\n",
    "ax.tick_params(axis='x', labelsize=20)\n",
    "plt.show()\n"
   ]
  },
  {
   "cell_type": "markdown",
   "id": "78926b76-806f-49b5-9544-9963d8f2d433",
   "metadata": {},
   "source": [
    "## Fazendo predições"
   ]
  },
  {
   "cell_type": "code",
   "execution_count": 206,
   "id": "e6bfbb66-9635-4a16-947e-23b89b965c15",
   "metadata": {},
   "outputs": [],
   "source": [
    "# Valores preditos pelo modelo para observações da amostra\n",
    "acidentes['bn_zi'] = modelo_zibn.predict(X1, exog_infl=X2)"
   ]
  },
  {
   "cell_type": "code",
   "execution_count": 215,
   "id": "c3964bf5-8e8b-427f-b400-36bd1289b04a",
   "metadata": {},
   "outputs": [
    {
     "name": "stdout",
     "output_type": "stream",
     "text": [
      "Quant. Estimada de Acidentes por Semana: 3.46\n"
     ]
    }
   ],
   "source": [
    "pred_zibn = modelo_zibn.predict(pd.DataFrame({'const': [1],\n",
    "                                              'pop': [1.5]}),\n",
    "                                exog_infl=pd.DataFrame({'const': [1],\n",
    "                                                        'idade': [38],\n",
    "                                                        'leiseca': [1]}))\n",
    "\n",
    "print(f\"Quant. Estimada de Acidentes por Semana: {round(pred_zibn[0], 2)}\")\n"
   ]
  },
  {
   "cell_type": "code",
   "execution_count": 216,
   "id": "a44dd98d-859e-40d5-8db2-32ab43ffa84c",
   "metadata": {},
   "outputs": [
    {
     "data": {
      "image/png": "[encoded data removed]",
      "text/plain": [
       "<Figure size 1500x1000 with 1 Axes>"
      ]
     },
     "metadata": {},
     "output_type": "display_data"
    }
   ],
   "source": [
    "#%% Comparando as previsões dos modelos\n",
    "\n",
    "plt.figure(figsize=(15,10))\n",
    "sns.regplot(data=acidentes, x=acidentes['pop'], y=acidentes['poisson'],\n",
    "            ci=None, marker='o', lowess=True, scatter=False,\n",
    "            label='Poisson',\n",
    "            line_kws={'color':'orange', 'linewidth':5})\n",
    "sns.regplot(data=acidentes, x=acidentes['pop'], y=acidentes['poisson_zi'],\n",
    "            ci=None, marker='o', lowess=True, scatter=False,\n",
    "            label='ZIP',\n",
    "            line_kws={'color':'darkorchid', 'linewidth':5})\n",
    "sns.regplot(data=acidentes, x=acidentes['pop'], y=acidentes['bn'],\n",
    "            ci=None, marker='o', lowess=True, scatter=False,\n",
    "            label='BNeg',\n",
    "            line_kws={'color':'limegreen', 'linewidth':5})\n",
    "sns.regplot(data=acidentes, x=acidentes['pop'], y=acidentes['bn_zi'],\n",
    "            ci=None, marker='o', lowess=True, scatter=False,\n",
    "            label='ZINB',\n",
    "            line_kws={'color':'dodgerblue', 'linewidth':5})\n",
    "sns.regplot(data=acidentes, x=acidentes['pop'], y=acidentes['acidentes'],\n",
    "            ci=None, marker='o', fit_reg=False,\n",
    "            scatter_kws={'color':'black', 's':120, 'alpha':0.5})\n",
    "plt.xlabel('População urbana (x milhão)', fontsize=17)\n",
    "plt.ylabel('Quantidade de acidentes de trânsito na última semana', fontsize=17)\n",
    "plt.legend(fontsize=20)\n",
    "plt.show()"
   ]
  },
  {
   "cell_type": "markdown",
   "id": "1446d491-6159-41a8-8b87-06be827c6c20",
   "metadata": {},
   "source": [
    "# Anotações"
   ]
  },
  {
   "cell_type": "markdown",
   "id": "0779c5c1-b692-434c-857c-4cdb5ecd47fa",
   "metadata": {},
   "source": [
    "## Requisitos do método MQO"
   ]
  },
  {
   "cell_type": "markdown",
   "id": "8142bdc2-05d9-431e-a2d5-1677135ee3a4",
   "metadata": {},
   "source": [
    "O método dos Mínimos Quadrados Ordinários, utilizadas nas análises de regressão simples e múltipla parte de alguns pressupostos:\n",
    "\n",
    "1. Aderência dos resíduos à normalidade\n",
    "2. Ausência de heterocedasticidade\n",
    "3. Ausência de multicolinearidade\n",
    "\n",
    "E consequentemente, avaliar a necessidade de uma transformação de box-cox"
   ]
  },
  {
   "cell_type": "markdown",
   "id": "ff636b89-2604-406a-8df8-f5402b502f3b",
   "metadata": {},
   "source": [
    "### Multicolinearidade"
   ]
  },
  {
   "cell_type": "markdown",
   "id": "3e30b2f3-f16c-4a53-bfeb-359e54bb09b2",
   "metadata": {},
   "source": [
    "Para verificar a existência de multicolinearidade, fazemos uma tabela de correlação de pearson."
   ]
  },
  {
   "cell_type": "markdown",
   "id": "088a56d5-690d-4146-a18e-36be9c12f1a8",
   "metadata": {},
   "source": [
    "### Variáveis categóricas na base de dados"
   ]
  },
  {
   "cell_type": "markdown",
   "id": "9c8e2c5d-302a-4d97-817f-033fe62760a1",
   "metadata": {},
   "source": [
    "Caso haja variáveis categóricas na base de dados, precisamos fazer o processo de dummyzação, onde serão geradas n-1 dummies para cada categoria."
   ]
  },
  {
   "cell_type": "markdown",
   "id": "f9073905-6ef2-4fe7-8d36-b3ee3eb9a2ef",
   "metadata": {},
   "source": [
    "### Aderência dos resíduos à normalidade"
   ]
  },
  {
   "cell_type": "markdown",
   "id": "f372c123-7239-40c2-b61f-a81f1f630ce0",
   "metadata": {},
   "source": [
    "Para verificar a aderência dos resíduos à normalidade, aplicamos o teste de shapiro frância. Caso não seja aderente, precisaremos fazer o procedimento de transformação de box-cox."
   ]
  },
  {
   "cell_type": "markdown",
   "id": "c6cf8e0e-0ba8-4f4d-a84e-2bc38c64ca55",
   "metadata": {},
   "source": [
    "### Ausência de Heterocedasticidade"
   ]
  },
  {
   "cell_type": "markdown",
   "id": "c0af1c74-67f1-4543-9b45-11db27b6d003",
   "metadata": {},
   "source": [
    "Para verificar a ausência de heterocedasticidade, utilizamos o teste de Breusch-Pagan"
   ]
  },
  {
   "cell_type": "markdown",
   "id": "2c38cfb8-b861-4186-a39f-3edb89e65d37",
   "metadata": {},
   "source": [
    "## Modelo logístico binário"
   ]
  },
  {
   "cell_type": "markdown",
   "id": "f2095239-fc18-42da-923a-79163e3e5ce5",
   "metadata": {},
   "source": [
    "- Utiliza o **Método de Máxima Merossimilhança**\n",
    "- É calculado um logito $Z$ que é dado pelo modelo a ser estimado\n",
    "- A probabilidade da ocorrência do evento é dado por $p_i = \\dfrac{1}{1+ e^{-Z}}$"
   ]
  },
  {
   "cell_type": "markdown",
   "id": "35ac61c1-ad39-48de-8c65-ebccc76795a0",
   "metadata": {},
   "source": [
    "Um meio de avaliar a eficácia do modelo é a análise da **curva ROC**."
   ]
  },
  {
   "cell_type": "markdown",
   "id": "2ac7ef0c-2082-4840-a886-e04c226c6cd9",
   "metadata": {},
   "source": [
    "### Variáveis categóricas no modelo"
   ]
  },
  {
   "cell_type": "markdown",
   "id": "14b8c83e-b2ff-42dd-b1c5-aab47d1b0f58",
   "metadata": {},
   "source": [
    "Elas serão tratadas como no modelo OLS, serão geradas n-1 dummies como variáveis explicativas, para cada categoria."
   ]
  },
  {
   "cell_type": "markdown",
   "id": "f3661b3c-135b-4a22-b00e-e230618eb2e4",
   "metadata": {},
   "source": [
    "### Cutoff"
   ]
  },
  {
   "cell_type": "markdown",
   "id": "c21ec4b1-b781-40ac-b2b9-5d7008a394ce",
   "metadata": {},
   "source": [
    "Ponto de corte que define a classificação entre ocorrência do evento ou não. É um limiar em que caso a probabilidade de ocorrência do evento for maior que o valor definido, consideraremos que o evento irá ocorrer.\n",
    "\n",
    "\\begin{align}\n",
    "&P_i > \\text{cutoff} \\longrightarrow \\text{Ocorrência do evento} \\\\\n",
    "&P_i < \\text{cutoff} \\longrightarrow \\text{Não ocorrência do evento},\n",
    "\\end{align}"
   ]
  },
  {
   "cell_type": "markdown",
   "id": "c02aed87-b23e-47ea-8f6a-60098fc011d0",
   "metadata": {},
   "source": [
    "Sobre a matriz de confusão, temos algumas métricas:"
   ]
  },
  {
   "cell_type": "markdown",
   "id": "d1358426-feba-4d17-865b-af45bae8226f",
   "metadata": {},
   "source": [
    "#### Sensitividade"
   ]
  },
  {
   "cell_type": "markdown",
   "id": "d9364b09-a4ff-411e-85fc-3c148d01d89a",
   "metadata": {},
   "source": [
    "- *Sensitividade (Recall)* - É a taxa de acerto de quem foi evento. Por exemplo, se de 59 pessoas que foram eventos, acertamos 46, então $\\text{Recall} = \\dfrac{46}{56} = 82,14\\%$. É a taxa do **Verdadeiro Positivo**, ou $TP$.\n",
    "    * $\\text{Sensitividade} = \\dfrac{\\text{nº acertos eventos}}{\\text{nº eventos}} = \\dfrac{TP}{TP+FN}$"
   ]
  },
  {
   "cell_type": "markdown",
   "id": "9d5af01f-96f4-410a-a4d0-d9c8c6d57761",
   "metadata": {},
   "source": [
    "#### Especificidade"
   ]
  },
  {
   "cell_type": "markdown",
   "id": "c93b07b2-b2c9-42d5-b7b0-d9f7457e2541",
   "metadata": {},
   "source": [
    "- *Especificidade*, que é a taxa de acerto de quem não foi evento. É a taxa do **Verdadeiro Negativo**, ou $TN$.\n",
    "    * $\\text{Especificidade} = \\dfrac{\\text{nº acertos não eventos}}{\\text{nº  de não eventos}} = \\dfrac{TN}{FP+TN}$"
   ]
  },
  {
   "cell_type": "markdown",
   "id": "34293d8e-9e63-4240-8099-87a52e51e522",
   "metadata": {},
   "source": [
    "#### Acurácia"
   ]
  },
  {
   "cell_type": "markdown",
   "id": "a930aac5-8d3b-4adf-8664-8160bd6db538",
   "metadata": {},
   "source": [
    "- *Acurácia global do modelo* = quantidade total de acertos sobre a quantidade total de pessoas.\n",
    "    * $\\text{Acurácia global} = \\dfrac{\\text{nº acertos}}{\\text{nº de eventos}} = \\dfrac{TP + TN}{TP+ TN + FP +FN}$"
   ]
  },
  {
   "cell_type": "markdown",
   "id": "7f61ef54-dd53-4d3f-9e4a-3999cf8e14b8",
   "metadata": {},
   "source": [
    "#### Precisão"
   ]
  },
  {
   "cell_type": "markdown",
   "id": "64299979-8b14-4863-8d88-efb211f02eb0",
   "metadata": {},
   "source": [
    "- $\\text{Precision} = \\dfrac{TP}{TP+FP}$"
   ]
  },
  {
   "cell_type": "markdown",
   "id": "63b7a440-bc2e-4aef-8907-0ad5428d17cf",
   "metadata": {},
   "source": [
    "#### $F1_\\text{score}$"
   ]
  },
  {
   "cell_type": "markdown",
   "id": "4a646e00-f0d8-4b2c-bffc-9936de17b115",
   "metadata": {},
   "source": [
    "- $F1_\\text{score} = \\dfrac{ 2.\\text{Recall } . \\text{Precision} } { \\text{Recall} + \\text{Precision} }$"
   ]
  },
  {
   "cell_type": "markdown",
   "id": "fc78936e-cf8d-4cf3-9673-b5795471319d",
   "metadata": {},
   "source": [
    "### Odds Ratio ($\\beta$)"
   ]
  },
  {
   "cell_type": "markdown",
   "id": "212c6531-7ddd-4c40-9b28-7de631d80f3d",
   "metadata": {},
   "source": [
    "Odds Ratio para os valores de $\\beta$ é definida como $e^\\beta$. A interpretação no contexto da análise logística, é que um Odds Ratio de 2.7 significa que a presença daquela característica, ou incremento de 1 unidade da mesma, significa que a chance do evento ocorrer é multiplicada por um fator de 2.7, ou seja, é 170% maior."
   ]
  },
  {
   "cell_type": "markdown",
   "id": "6e7be249-dc65-459e-8850-ef58ff78435c",
   "metadata": {},
   "source": [
    "### Chance"
   ]
  },
  {
   "cell_type": "markdown",
   "id": "469bbd03-5238-45b4-8efe-80f2dbc5dd08",
   "metadata": {},
   "source": [
    "Definida como $\\dfrac{P_i}{1-P_i}$"
   ]
  },
  {
   "cell_type": "markdown",
   "id": "1de272bf-1942-4661-a478-dd97d93d0c64",
   "metadata": {},
   "source": [
    "## Modelagem para dados de Contagem"
   ]
  },
  {
   "cell_type": "markdown",
   "id": "1657e7a9-378f-4b75-9e17-1fe48070e859",
   "metadata": {},
   "source": [
    "É possível utilizar duas distribuições: Poisson ou Binomial Negativa.\n",
    "\n",
    "Pode conter duas situações: \n",
    "\n",
    "1. Contagem execessiva de zeros\n",
    "2. Superdispersão dos dados\n",
    "\n"
   ]
  },
  {
   "cell_type": "markdown",
   "id": "2585953a-67ce-4a02-93cc-bee8b2d54006",
   "metadata": {},
   "source": [
    "A escolha do modelo depende de algumas características:"
   ]
  },
  {
   "cell_type": "markdown",
   "id": "201d3ee9-2226-4bce-a01f-5b4c36790021",
   "metadata": {},
   "source": [
    "\\begin{array}{|c|c|c|c|c|}\n",
    "\\hline\n",
    "Verificação & \\text{Poisson} & \\text{Binomial Negativa} & \\text{Poisson Inflacionado de Zeros (ZIP)} & \\text{Binomial Negativa Inflacionada de Zeros (ZINB)} \\\\\n",
    "\\hline\n",
    "\\text{Superdispersão nos dados da variável dependente} & \\text{não} & \\text{sim} & \\text{não} & \\text{sim} \\\\\n",
    "\\hline\n",
    "\\text{Quantidade excessiva de zeros na variável dependente} & \\text{não} & \\text{não} & \\text{sim} & \\text{sim} \\\\\n",
    "\\hline\n",
    "\\end{array}\n",
    "\n"
   ]
  },
  {
   "cell_type": "markdown",
   "id": "20b70854-10d2-4893-a050-1f77474d9c58",
   "metadata": {},
   "source": [
    "#### Superdispersão"
   ]
  },
  {
   "cell_type": "markdown",
   "id": "c0dd029f-00bb-4d49-b4e9-6fab1116e465",
   "metadata": {},
   "source": [
    "Se a variância dos dados é muito superior à média, é um indício de superdispersão."
   ]
  },
  {
   "cell_type": "markdown",
   "id": "5aa8e2d9-2e2d-4a6d-bcbc-948d4ade05c3",
   "metadata": {},
   "source": [
    "#### Especificação do modelo Zero Inflated"
   ]
  },
  {
   "cell_type": "markdown",
   "id": "1b803eac-b802-4260-a02a-833a126eedc7",
   "metadata": {},
   "source": [
    "O modelo retorna um $p_{logit}$ que representa a probabilidade de se observar um valor igual a zero."
   ]
  },
  {
   "cell_type": "markdown",
   "id": "e967651b-3600-4112-8313-74cdad5f9e8b",
   "metadata": {},
   "source": [
    "#### Inflação de zeros"
   ]
  },
  {
   "cell_type": "markdown",
   "id": "349622fa-40df-4b3a-8e82-bc6c83d21133",
   "metadata": {},
   "source": [
    "#### Binomial Negativa"
   ]
  },
  {
   "cell_type": "markdown",
   "id": "b36ea49b-f18e-476d-988e-73aadaf5a63c",
   "metadata": {},
   "source": [
    "Na especificação do modelo, geramos um $P_{logit}$ que corresponde a probabilidade de se observar um valor igual a zero, e um $\\lambda_i$ que corresponde a parte de dados de contagem. "
   ]
  },
  {
   "cell_type": "markdown",
   "id": "699e298a-79b9-44b0-94c1-d3630c0f0f69",
   "metadata": {},
   "source": [
    "\\begin{align}\n",
    "&P_{logit_i} = \\dfrac{1}{1+e^{-(\\gamma) + \\delta_1.W_{1i} + \\delta_2.W_{2i} + \\dots + W_n.X_{ni}}} \\\\\n",
    "\\\\\n",
    "&\\lambda_i = e^{(\\alpha + \\beta_1.X_{1i} + \\beta.X_{2i})+\\dots+\\beta_k.X_{ki}}\n",
    "\\end{align}"
   ]
  },
  {
   "cell_type": "markdown",
   "id": "01dd82e4-fd8f-486a-86a4-1773af713a83",
   "metadata": {},
   "source": [
    "A predição de contagens é dada por\n",
    "\n",
    "\\begin{equation}\n",
    "\\lambda = (1 - P_{logit}).\\lambda_i\n",
    "\\end{equation}"
   ]
  },
  {
   "cell_type": "markdown",
   "id": "d800c55f-a51f-4dc3-a530-9ef37f7296b3",
   "metadata": {},
   "source": [
    "Nessa distribuição a média é igual ao valor esperado:\n",
    "\n",
    "\\begin{equation}\n",
    "E(Y) = \\lambda_{bneg}\n",
    "\\end{equation}\n",
    "\n",
    "Já a variância é dada por: \n",
    "\n",
    "\\begin{equation}\n",
    "Var(Y) = \\lambda_{bneg} + \\phi.(\\lambda_{bneg})^2\n",
    "\\end{equation}\n",
    "\n",
    "Onde $\\phi = \\dfrac{1}{\\theta}$ é o parâmetro de dispersão\n",
    "\n",
    "Se $\\phi$ é estatisticamente diferente zero, então estimamos um modelo com superdispersão com cauda longa. Caso seja igual a zero, então estamos lidando com a função Poisson.\n",
    "\n",
    "No python, o parâmetro `alpha` é igual ao parâmetro $\\phi$. Se ele for estatísticamente diferente de zero, há superdispersão."
   ]
  },
  {
   "cell_type": "markdown",
   "id": "a4731fa1-5686-4a45-bf1d-d111e187ba28",
   "metadata": {},
   "source": [
    "## Ceteris Paribus"
   ]
  },
  {
   "cell_type": "markdown",
   "id": "ebb366e3-d51f-4a83-8866-87a4e1f9346d",
   "metadata": {},
   "source": [
    "Significa: \"Mantidas as demais condições\""
   ]
  }
 ],
 "metadata": {
  "kernelspec": {
   "display_name": "Python 3 (ipykernel)",
   "language": "python",
   "name": "python3"
  },
  "language_info": {
   "codemirror_mode": {
    "name": "ipython",
    "version": 3
   },
   "file_extension": ".py",
   "mimetype": "text/x-python",
   "name": "python",
   "nbconvert_exporter": "python",
   "pygments_lexer": "ipython3",
   "version": "3.12.3"
  }
 },
 "nbformat": 4,
 "nbformat_minor": 5
}
