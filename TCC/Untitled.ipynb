{
 "cells": [
  {
   "cell_type": "markdown",
   "id": "5b9c62eb-ef67-4e88-89d7-b6daaec94400",
   "metadata": {},
   "source": [
    "# Definição do projeto de pesquisa\n",
    "\n",
    "Vamos explorar algumas possibilidades de temas, que se encaixem com o Skill Tree Project."
   ]
  },
  {
   "cell_type": "markdown",
   "id": "416ba327-55ad-4485-abc0-549debe8f831",
   "metadata": {},
   "source": [
    "## Estruturação da árvore de habilidades"
   ]
  },
  {
   "cell_type": "markdown",
   "id": "8ce13427-7ef5-4e8a-b738-8e851b788736",
   "metadata": {},
   "source": [
    "JSON, por si só, é um formato orientado a árvore – ou seja, ele pressupõe uma estrutura hierárquica em que cada nó tem um único pai. Quando você precisa representar uma estrutura onde nós de ramos distintos se unem novamente (ou seja, quando há múltiplos pais para um mesmo nó), estamos tratando de um grafo (mais especificamente, um grafo acíclico dirigido – DAG) e não de uma árvore propriamente dita.\n",
    "\n",
    "##### Por que o JSON padrão não é ideal para esse modelo\n",
    "\n",
    "- **Estrutura Hierárquica:**  \n",
    "  JSON foi projetado para representar dados de forma hierárquica, onde cada elemento aninhado aparece apenas uma vez dentro de seu contexto de pai. Se dois ramos convergirem em um mesmo nó, isso implica que esse nó teria dois pais – o que foge à estrutura de árvore tradicional.\n",
    "\n",
    "- **Referências e Reutilização:**  \n",
    "  Embora seja possível “simular” essa união utilizando referências (por exemplo, com JSON Reference ou JSON Pointer), essa abordagem não é inerente ao formato e adiciona complexidade ao processamento e à interpretação dos dados.\n",
    "\n",
    "##### Modelos mais adequados para representar essa estrutura\n",
    "\n",
    "Para representar grafos (ou árvores com nós compartilhados), alguns modelos e formatos são mais indicados:\n",
    "\n",
    "- **GraphSON:**  \n",
    "  Um formato JSON desenvolvido como parte do ecossistema Apache TinkerPop, projetado especificamente para representar grafos. Ele permite expressar nós, arestas e propriedades, suportando grafos onde nós podem ter múltiplos pais.\n",
    "\n",
    "- **JSON-LD:**  \n",
    "  Um formato baseado em JSON para Linked Data que permite representar relações entre recursos. Por meio de identificadores únicos (@id), ele pode expressar conexões que vão além de uma estrutura hierárquica simples, representando efetivamente um grafo.\n",
    "\n",
    "- **Outros Modelos de Grafo:**  \n",
    "  Alternativamente, formatos como GraphML ou GraphSON (já mencionado) são utilizados para representar estruturas de grafos de forma nativa. Em ambientes que requerem manipulação de grafos, bancos de dados de grafos (como Neo4j) e linguagens de consulta para grafos podem ser mais apropriados."
   ]
  },
  {
   "cell_type": "markdown",
   "id": "7b25df13-dc58-484d-af1f-2587fda5a5c1",
   "metadata": {},
   "source": [
    "### Grafo Acíclico Direcionado (DAG)\n",
    "Um DAG é um grafo direcionado que não contém ciclos. Isso significa:\n",
    "\n",
    "Grafo Direcionado: As arestas têm uma direção, indo de um nó (vértice) para outro.\n",
    "\n",
    "Acíclico: Não há caminhos que comecem e terminem no mesmo nó, ou seja, não há loops."
   ]
  },
  {
   "cell_type": "markdown",
   "id": "25ded378-938c-4927-afb1-645ca73779cd",
   "metadata": {},
   "source": [
    "## Artigos"
   ]
  },
  {
   "cell_type": "markdown",
   "id": "4c7265f8-4553-4a40-a82e-f2a6378ed4ff",
   "metadata": {},
   "source": [
    "- [DART-LLM: Dependency-Aware Multi-Robot Task Decomposition and\n",
    "Execution using Large Language Models](https://www.semanticscholar.org/reader/4dd9e7343ccf50e859d1829d62535d19b820b2d3)\n",
    "\n",
    "Propõe a estruturação de tarefas e subtarefas a partir de um input textual utilizando LLM. É aplicado na área de robótica.\n",
    "\n",
    "- [Language Models are Few-Shot Learners](https://arxiv.org/pdf/2005.14165)\n",
    "\n",
    "Mostra como podemos fazer um fine tunning de um LLM para realizar uma tarefa específica."
   ]
  },
  {
   "cell_type": "markdown",
   "id": "dc0cbde6-1f7a-4c30-8501-ca894bf102b1",
   "metadata": {},
   "source": [
    "## Palavras chave"
   ]
  },
  {
   "cell_type": "markdown",
   "id": "55f98ed2-c7ea-4afa-b25d-f0767d655a19",
   "metadata": {},
   "source": [
    "- Nós compartilhados\n",
    "- GraphSON, JSON‑LD\n",
    "- Grafo Acíclico Direcionado (DAG)"
   ]
  },
  {
   "cell_type": "markdown",
   "id": "fffed092-2442-4a09-9656-436da0ad4d25",
   "metadata": {},
   "source": [
    "# Candidatos para projeto"
   ]
  },
  {
   "cell_type": "markdown",
   "id": "a1a060eb-a87c-4cd2-938c-bc6d87e814ec",
   "metadata": {},
   "source": [
    "## \"Geração Automatizada de Grafos Acíclicos Direcionados (DAGs) para Estruturação de Conhecimento via Modelos de Linguagem de Grande Escala (LLMs\"\n",
    "\n",
    "Descrição Detalhada:\n",
    "Este trabalho focará no desenvolvimento de um sistema automatizado que utiliza LLMs para transformar prompts textuais (ex.: descrições de projetos, requisitos técnicos) em grafos acíclicos direcionados (DAGs) que representem hierarquias de habilidades, dependências entre tarefas ou fluxos de conhecimento em Engenharia. O DAG será gerado a partir da análise semântica do texto, utilizando técnicas de Text Mining para extrair entidades (nós) e relações (arestas direcionadas), garantindo a ausência de ciclos e a coerência lógica. A validação do grafo será feita por meio de simulações numéricas (inspiradas em PINNs) e análise de sentimentos para avaliar a confiabilidade das conexões identificadas. Para escalabilidade, o sistema integrará HPC para processar grandes volumes de dados e otimizar a inferência de LLMs."
   ]
  },
  {
   "cell_type": "markdown",
   "id": "4a26666c-7c1b-4472-815f-ae803b173621",
   "metadata": {},
   "source": [
    "## \"Geração Automatizada de Grafos Acíclicos Direcionados (DAGs) para Estruturação de Conhecimento via Modelos de Linguagem de Grande Escala (LLMs\"\n"
   ]
  },
  {
   "cell_type": "markdown",
   "id": "2e08f020-7927-4961-b997-e698a65cb706",
   "metadata": {},
   "source": [
    "Este trabalho focará no desenvolvimento de um sistema automatizado que utiliza LLMs para desenvolver grafos acíclicos direcionados (DAGs) a partir de prompts textuais (ex.: descrições de projetos, habilidades a serem desenvolvidas). Os grafos deverão representar hiearquias de habilidades ou tarefas e suas respectivas dependências de forma acíclica, garantindo a sequência lógica da informação. "
   ]
  }
 ],
 "metadata": {
  "kernelspec": {
   "display_name": "Python 3 (ipykernel)",
   "language": "python",
   "name": "python3"
  },
  "language_info": {
   "codemirror_mode": {
    "name": "ipython",
    "version": 3
   },
   "file_extension": ".py",
   "mimetype": "text/x-python",
   "name": "python",
   "nbconvert_exporter": "python",
   "pygments_lexer": "ipython3",
   "version": "3.12.3"
  }
 },
 "nbformat": 4,
 "nbformat_minor": 5
}
