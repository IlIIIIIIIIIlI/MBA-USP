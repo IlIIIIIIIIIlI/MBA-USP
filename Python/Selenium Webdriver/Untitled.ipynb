{
 "cells": [
  {
   "cell_type": "markdown",
   "id": "a8d5179a-2e90-4e02-a5e1-cd739746db8c",
   "metadata": {},
   "source": [
    "# Selenium"
   ]
  },
  {
   "cell_type": "markdown",
   "id": "fec15072-e328-48d3-ae80-31f4f74fcbfb",
   "metadata": {},
   "source": [
    "## Selenium Webdriver Functions"
   ]
  },
  {
   "cell_type": "code",
   "execution_count": 1,
   "id": "9e3a7655-25e5-4c9e-b143-09e3dab07f11",
   "metadata": {},
   "outputs": [
    {
     "ename": "SessionNotCreatedException",
     "evalue": "Message: session not created: This version of ChromeDriver only supports Chrome version 126\nCurrent browser version is 131.0.6778.205 with binary path C:\\Program Files (x86)\\Google\\Chrome\\Application\\chrome.exe\nStacktrace:\n\tGetHandleVerifier [0x0074C1C3+27395]\n\t(No symbol) [0x006E3DC4]\n\t(No symbol) [0x005E1B7F]\n\t(No symbol) [0x00614B8A]\n\t(No symbol) [0x00613EED]\n\t(No symbol) [0x0060EFAF]\n\t(No symbol) [0x0060AC69]\n\t(No symbol) [0x0064D58E]\n\t(No symbol) [0x0064CDAA]\n\t(No symbol) [0x00643736]\n\t(No symbol) [0x00617541]\n\t(No symbol) [0x006180BD]\n\tGetHandleVerifier [0x00A03A93+2876371]\n\tGetHandleVerifier [0x00A57F5D+3221661]\n\tGetHandleVerifier [0x007CD634+556916]\n\tGetHandleVerifier [0x007D474C+585868]\n\t(No symbol) [0x006ECE04]\n\t(No symbol) [0x006E9818]\n\t(No symbol) [0x006E99B7]\n\t(No symbol) [0x006DBF0E]\n\tBaseThreadInitThunk [0x75E2FCC9+25]\n\tRtlGetAppContainerNamedObjectPath [0x7791809E+286]\n\tRtlGetAppContainerNamedObjectPath [0x7791806E+238]\n",
     "output_type": "error",
     "traceback": [
      "\u001b[1;31m---------------------------------------------------------------------------\u001b[0m",
      "\u001b[1;31mSessionNotCreatedException\u001b[0m                Traceback (most recent call last)",
      "Cell \u001b[1;32mIn[1], line 8\u001b[0m\n\u001b[0;32m      4\u001b[0m \u001b[38;5;28;01mfrom\u001b[39;00m \u001b[38;5;21;01mselenium\u001b[39;00m\u001b[38;5;21;01m.\u001b[39;00m\u001b[38;5;21;01mwebdriver\u001b[39;00m\u001b[38;5;21;01m.\u001b[39;00m\u001b[38;5;21;01msupport\u001b[39;00m \u001b[38;5;28;01mimport\u001b[39;00m expected_conditions \u001b[38;5;28;01mas\u001b[39;00m EC\n\u001b[0;32m      6\u001b[0m \u001b[38;5;28;01mfrom\u001b[39;00m \u001b[38;5;21;01mtime\u001b[39;00m \u001b[38;5;28;01mimport\u001b[39;00m sleep\n\u001b[1;32m----> 8\u001b[0m driver \u001b[38;5;241m=\u001b[39m \u001b[43mwebdriver\u001b[49m\u001b[38;5;241;43m.\u001b[39;49m\u001b[43mChrome\u001b[49m\u001b[43m(\u001b[49m\u001b[43m)\u001b[49m\n\u001b[0;32m     10\u001b[0m \u001b[38;5;28;01mdef\u001b[39;00m \u001b[38;5;21msendkeys\u001b[39m(keys, css_selector, wait_time\u001b[38;5;241m=\u001b[39m\u001b[38;5;241m10\u001b[39m):\n\u001b[0;32m     11\u001b[0m     cnt \u001b[38;5;241m=\u001b[39m \u001b[38;5;241m1\u001b[39m\n",
      "File \u001b[1;32m~\\AppData\\Local\\Programs\\Python\\Python312\\Lib\\site-packages\\selenium\\webdriver\\chrome\\webdriver.py:84\u001b[0m, in \u001b[0;36mWebDriver.__init__\u001b[1;34m(self, executable_path, port, options, service_args, desired_capabilities, service_log_path, chrome_options, service, keep_alive)\u001b[0m\n\u001b[0;32m     81\u001b[0m     service \u001b[38;5;241m=\u001b[39m Service(executable_path, port, service_args, service_log_path)\n\u001b[0;32m     82\u001b[0m service\u001b[38;5;241m.\u001b[39mpath \u001b[38;5;241m=\u001b[39m DriverFinder\u001b[38;5;241m.\u001b[39mget_path(service, options)\n\u001b[1;32m---> 84\u001b[0m \u001b[38;5;28;43msuper\u001b[39;49m\u001b[43m(\u001b[49m\u001b[43m)\u001b[49m\u001b[38;5;241;43m.\u001b[39;49m\u001b[38;5;21;43m__init__\u001b[39;49m\u001b[43m(\u001b[49m\n\u001b[0;32m     85\u001b[0m \u001b[43m    \u001b[49m\u001b[43mDesiredCapabilities\u001b[49m\u001b[38;5;241;43m.\u001b[39;49m\u001b[43mCHROME\u001b[49m\u001b[43m[\u001b[49m\u001b[38;5;124;43m\"\u001b[39;49m\u001b[38;5;124;43mbrowserName\u001b[39;49m\u001b[38;5;124;43m\"\u001b[39;49m\u001b[43m]\u001b[49m\u001b[43m,\u001b[49m\n\u001b[0;32m     86\u001b[0m \u001b[43m    \u001b[49m\u001b[38;5;124;43m\"\u001b[39;49m\u001b[38;5;124;43mgoog\u001b[39;49m\u001b[38;5;124;43m\"\u001b[39;49m\u001b[43m,\u001b[49m\n\u001b[0;32m     87\u001b[0m \u001b[43m    \u001b[49m\u001b[43mport\u001b[49m\u001b[43m,\u001b[49m\n\u001b[0;32m     88\u001b[0m \u001b[43m    \u001b[49m\u001b[43moptions\u001b[49m\u001b[43m,\u001b[49m\n\u001b[0;32m     89\u001b[0m \u001b[43m    \u001b[49m\u001b[43mservice_args\u001b[49m\u001b[43m,\u001b[49m\n\u001b[0;32m     90\u001b[0m \u001b[43m    \u001b[49m\u001b[43mdesired_capabilities\u001b[49m\u001b[43m,\u001b[49m\n\u001b[0;32m     91\u001b[0m \u001b[43m    \u001b[49m\u001b[43mservice_log_path\u001b[49m\u001b[43m,\u001b[49m\n\u001b[0;32m     92\u001b[0m \u001b[43m    \u001b[49m\u001b[43mservice\u001b[49m\u001b[43m,\u001b[49m\n\u001b[0;32m     93\u001b[0m \u001b[43m    \u001b[49m\u001b[43mkeep_alive\u001b[49m\u001b[43m,\u001b[49m\n\u001b[0;32m     94\u001b[0m \u001b[43m\u001b[49m\u001b[43m)\u001b[49m\n",
      "File \u001b[1;32m~\\AppData\\Local\\Programs\\Python\\Python312\\Lib\\site-packages\\selenium\\webdriver\\chromium\\webdriver.py:104\u001b[0m, in \u001b[0;36mChromiumDriver.__init__\u001b[1;34m(self, browser_name, vendor_prefix, port, options, service_args, desired_capabilities, service_log_path, service, keep_alive)\u001b[0m\n\u001b[0;32m    101\u001b[0m \u001b[38;5;28mself\u001b[39m\u001b[38;5;241m.\u001b[39mservice\u001b[38;5;241m.\u001b[39mstart()\n\u001b[0;32m    103\u001b[0m \u001b[38;5;28;01mtry\u001b[39;00m:\n\u001b[1;32m--> 104\u001b[0m     \u001b[38;5;28;43msuper\u001b[39;49m\u001b[43m(\u001b[49m\u001b[43m)\u001b[49m\u001b[38;5;241;43m.\u001b[39;49m\u001b[38;5;21;43m__init__\u001b[39;49m\u001b[43m(\u001b[49m\n\u001b[0;32m    105\u001b[0m \u001b[43m        \u001b[49m\u001b[43mcommand_executor\u001b[49m\u001b[38;5;241;43m=\u001b[39;49m\u001b[43mChromiumRemoteConnection\u001b[49m\u001b[43m(\u001b[49m\n\u001b[0;32m    106\u001b[0m \u001b[43m            \u001b[49m\u001b[43mremote_server_addr\u001b[49m\u001b[38;5;241;43m=\u001b[39;49m\u001b[38;5;28;43mself\u001b[39;49m\u001b[38;5;241;43m.\u001b[39;49m\u001b[43mservice\u001b[49m\u001b[38;5;241;43m.\u001b[39;49m\u001b[43mservice_url\u001b[49m\u001b[43m,\u001b[49m\n\u001b[0;32m    107\u001b[0m \u001b[43m            \u001b[49m\u001b[43mbrowser_name\u001b[49m\u001b[38;5;241;43m=\u001b[39;49m\u001b[43mbrowser_name\u001b[49m\u001b[43m,\u001b[49m\n\u001b[0;32m    108\u001b[0m \u001b[43m            \u001b[49m\u001b[43mvendor_prefix\u001b[49m\u001b[38;5;241;43m=\u001b[39;49m\u001b[43mvendor_prefix\u001b[49m\u001b[43m,\u001b[49m\n\u001b[0;32m    109\u001b[0m \u001b[43m            \u001b[49m\u001b[43mkeep_alive\u001b[49m\u001b[38;5;241;43m=\u001b[39;49m\u001b[43mkeep_alive\u001b[49m\u001b[43m,\u001b[49m\n\u001b[0;32m    110\u001b[0m \u001b[43m            \u001b[49m\u001b[43mignore_proxy\u001b[49m\u001b[38;5;241;43m=\u001b[39;49m\u001b[43m_ignore_proxy\u001b[49m\u001b[43m,\u001b[49m\n\u001b[0;32m    111\u001b[0m \u001b[43m        \u001b[49m\u001b[43m)\u001b[49m\u001b[43m,\u001b[49m\n\u001b[0;32m    112\u001b[0m \u001b[43m        \u001b[49m\u001b[43moptions\u001b[49m\u001b[38;5;241;43m=\u001b[39;49m\u001b[43moptions\u001b[49m\u001b[43m,\u001b[49m\n\u001b[0;32m    113\u001b[0m \u001b[43m    \u001b[49m\u001b[43m)\u001b[49m\n\u001b[0;32m    114\u001b[0m \u001b[38;5;28;01mexcept\u001b[39;00m \u001b[38;5;167;01mException\u001b[39;00m:\n\u001b[0;32m    115\u001b[0m     \u001b[38;5;28mself\u001b[39m\u001b[38;5;241m.\u001b[39mquit()\n",
      "File \u001b[1;32m~\\AppData\\Local\\Programs\\Python\\Python312\\Lib\\site-packages\\selenium\\webdriver\\remote\\webdriver.py:286\u001b[0m, in \u001b[0;36mWebDriver.__init__\u001b[1;34m(self, command_executor, desired_capabilities, browser_profile, proxy, keep_alive, file_detector, options)\u001b[0m\n\u001b[0;32m    284\u001b[0m \u001b[38;5;28mself\u001b[39m\u001b[38;5;241m.\u001b[39m_authenticator_id \u001b[38;5;241m=\u001b[39m \u001b[38;5;28;01mNone\u001b[39;00m\n\u001b[0;32m    285\u001b[0m \u001b[38;5;28mself\u001b[39m\u001b[38;5;241m.\u001b[39mstart_client()\n\u001b[1;32m--> 286\u001b[0m \u001b[38;5;28;43mself\u001b[39;49m\u001b[38;5;241;43m.\u001b[39;49m\u001b[43mstart_session\u001b[49m\u001b[43m(\u001b[49m\u001b[43mcapabilities\u001b[49m\u001b[43m,\u001b[49m\u001b[43m \u001b[49m\u001b[43mbrowser_profile\u001b[49m\u001b[43m)\u001b[49m\n",
      "File \u001b[1;32m~\\AppData\\Local\\Programs\\Python\\Python312\\Lib\\site-packages\\selenium\\webdriver\\remote\\webdriver.py:378\u001b[0m, in \u001b[0;36mWebDriver.start_session\u001b[1;34m(self, capabilities, browser_profile)\u001b[0m\n\u001b[0;32m    376\u001b[0m w3c_caps \u001b[38;5;241m=\u001b[39m _make_w3c_caps(capabilities)\n\u001b[0;32m    377\u001b[0m parameters \u001b[38;5;241m=\u001b[39m {\u001b[38;5;124m\"\u001b[39m\u001b[38;5;124mcapabilities\u001b[39m\u001b[38;5;124m\"\u001b[39m: w3c_caps}\n\u001b[1;32m--> 378\u001b[0m response \u001b[38;5;241m=\u001b[39m \u001b[38;5;28;43mself\u001b[39;49m\u001b[38;5;241;43m.\u001b[39;49m\u001b[43mexecute\u001b[49m\u001b[43m(\u001b[49m\u001b[43mCommand\u001b[49m\u001b[38;5;241;43m.\u001b[39;49m\u001b[43mNEW_SESSION\u001b[49m\u001b[43m,\u001b[49m\u001b[43m \u001b[49m\u001b[43mparameters\u001b[49m\u001b[43m)\u001b[49m\n\u001b[0;32m    379\u001b[0m \u001b[38;5;28;01mif\u001b[39;00m \u001b[38;5;124m\"\u001b[39m\u001b[38;5;124msessionId\u001b[39m\u001b[38;5;124m\"\u001b[39m \u001b[38;5;129;01mnot\u001b[39;00m \u001b[38;5;129;01min\u001b[39;00m response:\n\u001b[0;32m    380\u001b[0m     response \u001b[38;5;241m=\u001b[39m response[\u001b[38;5;124m\"\u001b[39m\u001b[38;5;124mvalue\u001b[39m\u001b[38;5;124m\"\u001b[39m]\n",
      "File \u001b[1;32m~\\AppData\\Local\\Programs\\Python\\Python312\\Lib\\site-packages\\selenium\\webdriver\\remote\\webdriver.py:440\u001b[0m, in \u001b[0;36mWebDriver.execute\u001b[1;34m(self, driver_command, params)\u001b[0m\n\u001b[0;32m    438\u001b[0m response \u001b[38;5;241m=\u001b[39m \u001b[38;5;28mself\u001b[39m\u001b[38;5;241m.\u001b[39mcommand_executor\u001b[38;5;241m.\u001b[39mexecute(driver_command, params)\n\u001b[0;32m    439\u001b[0m \u001b[38;5;28;01mif\u001b[39;00m response:\n\u001b[1;32m--> 440\u001b[0m     \u001b[38;5;28;43mself\u001b[39;49m\u001b[38;5;241;43m.\u001b[39;49m\u001b[43merror_handler\u001b[49m\u001b[38;5;241;43m.\u001b[39;49m\u001b[43mcheck_response\u001b[49m\u001b[43m(\u001b[49m\u001b[43mresponse\u001b[49m\u001b[43m)\u001b[49m\n\u001b[0;32m    441\u001b[0m     response[\u001b[38;5;124m\"\u001b[39m\u001b[38;5;124mvalue\u001b[39m\u001b[38;5;124m\"\u001b[39m] \u001b[38;5;241m=\u001b[39m \u001b[38;5;28mself\u001b[39m\u001b[38;5;241m.\u001b[39m_unwrap_value(response\u001b[38;5;241m.\u001b[39mget(\u001b[38;5;124m\"\u001b[39m\u001b[38;5;124mvalue\u001b[39m\u001b[38;5;124m\"\u001b[39m, \u001b[38;5;28;01mNone\u001b[39;00m))\n\u001b[0;32m    442\u001b[0m     \u001b[38;5;28;01mreturn\u001b[39;00m response\n",
      "File \u001b[1;32m~\\AppData\\Local\\Programs\\Python\\Python312\\Lib\\site-packages\\selenium\\webdriver\\remote\\errorhandler.py:245\u001b[0m, in \u001b[0;36mErrorHandler.check_response\u001b[1;34m(self, response)\u001b[0m\n\u001b[0;32m    243\u001b[0m         alert_text \u001b[38;5;241m=\u001b[39m value[\u001b[38;5;124m\"\u001b[39m\u001b[38;5;124malert\u001b[39m\u001b[38;5;124m\"\u001b[39m]\u001b[38;5;241m.\u001b[39mget(\u001b[38;5;124m\"\u001b[39m\u001b[38;5;124mtext\u001b[39m\u001b[38;5;124m\"\u001b[39m)\n\u001b[0;32m    244\u001b[0m     \u001b[38;5;28;01mraise\u001b[39;00m exception_class(message, screen, stacktrace, alert_text)  \u001b[38;5;66;03m# type: ignore[call-arg]  # mypy is not smart enough here\u001b[39;00m\n\u001b[1;32m--> 245\u001b[0m \u001b[38;5;28;01mraise\u001b[39;00m exception_class(message, screen, stacktrace)\n",
      "\u001b[1;31mSessionNotCreatedException\u001b[0m: Message: session not created: This version of ChromeDriver only supports Chrome version 126\nCurrent browser version is 131.0.6778.205 with binary path C:\\Program Files (x86)\\Google\\Chrome\\Application\\chrome.exe\nStacktrace:\n\tGetHandleVerifier [0x0074C1C3+27395]\n\t(No symbol) [0x006E3DC4]\n\t(No symbol) [0x005E1B7F]\n\t(No symbol) [0x00614B8A]\n\t(No symbol) [0x00613EED]\n\t(No symbol) [0x0060EFAF]\n\t(No symbol) [0x0060AC69]\n\t(No symbol) [0x0064D58E]\n\t(No symbol) [0x0064CDAA]\n\t(No symbol) [0x00643736]\n\t(No symbol) [0x00617541]\n\t(No symbol) [0x006180BD]\n\tGetHandleVerifier [0x00A03A93+2876371]\n\tGetHandleVerifier [0x00A57F5D+3221661]\n\tGetHandleVerifier [0x007CD634+556916]\n\tGetHandleVerifier [0x007D474C+585868]\n\t(No symbol) [0x006ECE04]\n\t(No symbol) [0x006E9818]\n\t(No symbol) [0x006E99B7]\n\t(No symbol) [0x006DBF0E]\n\tBaseThreadInitThunk [0x75E2FCC9+25]\n\tRtlGetAppContainerNamedObjectPath [0x7791809E+286]\n\tRtlGetAppContainerNamedObjectPath [0x7791806E+238]\n"
     ]
    }
   ],
   "source": [
    "\n",
    "from selenium import webdriver\n",
    "from selenium.webdriver.common.by import By\n",
    "from selenium.webdriver.support.ui import WebDriverWait\n",
    "from selenium.webdriver.support import expected_conditions as EC\n",
    "\n",
    "from time import sleep\n",
    "\n",
    "driver = webdriver.Chrome()\n",
    "\n",
    "def sendkeys(keys, css_selector, wait_time=10):\n",
    "    cnt = 1\n",
    "    while True:\n",
    "        try:\n",
    "            element = WebDriverWait(driver, wait_time).until(\n",
    "                EC.presence_of_element_located((By.CSS_SELECTOR, css_selector)))\n",
    "            element.send_keys(keys)\n",
    "            break\n",
    "        except:\n",
    "            if cnt > 3:\n",
    "                print('\\nNão foi possível interagir com o elemento %s' % css_selector)\n",
    "                raise Exception('sendkeys fail.')\n",
    "\n",
    "            else:\n",
    "                print('\\nNão foi possível enviar comandos (%d) para o elemento \\n'\n",
    "                      '%s. \\nTentando novamente...' % (cnt, css_selector))\n",
    "                cnt += 1\n",
    "                continue\n",
    "\n",
    "\n",
    "def click(css_selector, wait_time=10, try_cnt=3, aftertime: float = 0):\n",
    "    cnt = 1\n",
    "    while True:\n",
    "        try:\n",
    "            element = WebDriverWait(driver, wait_time).until(\n",
    "                EC.element_to_be_clickable((By.CSS_SELECTOR, css_selector)))\n",
    "            element.click()\n",
    "            break\n",
    "        except:\n",
    "            if cnt > try_cnt:\n",
    "                print('\\nNão foi possível interagir com o elemento %s' % css_selector)\n",
    "                raise Exception('click fail.')\n",
    "            else:\n",
    "                print('\\nNão foi possível enviar comandos (%d) para o elemento \\n'\n",
    "                      '%s. \\nTentando novamente...' % (cnt, css_selector))\n",
    "                cnt += 1\n",
    "                continue\n",
    "    sleep(aftertime)\n",
    "\n",
    "\n",
    "def clicktext(text_selector, wait_time=10):\n",
    "    cnt = 1\n",
    "    while True:\n",
    "        try:\n",
    "            element = WebDriverWait(driver, wait_time).until(\n",
    "                EC.element_to_be_clickable((By.LINK_TEXT, text_selector)))\n",
    "            element.click()\n",
    "            break\n",
    "        except:\n",
    "            if cnt > 3:\n",
    "                print('\\nNão foi possível interagir com o elemento %s' % text_selector)\n",
    "                raise Exception('click_text fail.')\n",
    "            else:\n",
    "                print('\\nNão foi possível enviar comandos (%d) para o elemento \\n'\n",
    "                      '%s. \\nTentando novamente...' % (cnt, text_selector))\n",
    "                cnt += 1\n",
    "                continue\n",
    "\n",
    "\n",
    "def wait4element(css_selector, wait_time=10):\n",
    "    try:\n",
    "        element = WebDriverWait(driver, wait_time).until(\n",
    "            EC.presence_of_element_located((By.CSS_SELECTOR, css_selector)))\n",
    "        sleep(0.25)\n",
    "        return element\n",
    "\n",
    "    except:\n",
    "        return []\n",
    "\n",
    "\n",
    "def wait4text(text_selector, wait_time=10):\n",
    "    try:\n",
    "        element = WebDriverWait(driver, wait_time).until(\n",
    "            EC.presence_of_element_located((By.LINK_TEXT, text_selector)))\n",
    "        sleep(0.25)\n",
    "        return element\n",
    "    except:\n",
    "        return []\n",
    "\n",
    "\n",
    "def wait4elements(css_selector, wait_time=10):\n",
    "    try:\n",
    "        if wait_time == 0:\n",
    "            element = driver.find_elements(By.CSS_SELECTOR, css_selector)\n",
    "            return element\n",
    "\n",
    "        element = WebDriverWait(driver, wait_time).until(\n",
    "            EC.presence_of_all_elements_located((By.CSS_SELECTOR, css_selector)))\n",
    "        sleep(0.25)\n",
    "        return element\n",
    "\n",
    "    except:\n",
    "        return []\n",
    "\n",
    "\n",
    "def wait4elements_text(css_selector, wait_time=10):\n",
    "    # retorna uma lista contendo os textos presentes em cada elemento da web\n",
    "    elements = wait4elements(css_selector, wait_time)\n",
    "\n",
    "    text_elements = []\n",
    "    if elements:\n",
    "        for element in elements:\n",
    "            text_elements.append(element.text)\n",
    "        return text_elements\n",
    "    else:\n",
    "        return []\n",
    "\n",
    "\n",
    "def wait4click(css_selector, wait_time=10):\n",
    "    try:\n",
    "        element = WebDriverWait(driver, wait_time).until(\n",
    "            EC.element_to_be_clickable((By.CSS_SELECTOR, css_selector)))\n",
    "        sleep(0.25)\n",
    "        return element\n",
    "\n",
    "    except:\n",
    "        return []\n",
    "\n",
    "\n",
    "def wait4element2disappear(css_selector: str, wait_time=3, timeout: int = 0):\n",
    "    t0 = time()\n",
    "    while wait4element(css_selector, wait_time):\n",
    "        tf = time()\n",
    "        if timeout:\n",
    "            if tf - t0 > timeout:\n",
    "                raise Exception('Timeout reached')\n",
    "        pass\n",
    "\n",
    "driver = webdriver.Chrome()\n",
    "\n",
    "#--------------------------------------\n",
    "\n",
    "\n"
   ]
  },
  {
   "cell_type": "code",
   "execution_count": 2,
   "id": "23e177cb-a2fd-4a98-9958-50e18437df14",
   "metadata": {},
   "outputs": [
    {
     "data": {
      "text/plain": [
       "1736029207.7696118"
      ]
     },
     "execution_count": 2,
     "metadata": {},
     "output_type": "execute_result"
    }
   ],
   "source": [
    "from time import time\n",
    "\n",
    "time()"
   ]
  },
  {
   "cell_type": "markdown",
   "id": "3c822c92-b096-4b4a-b8cb-df15c5bdb08a",
   "metadata": {},
   "source": [
    "## Switching windows"
   ]
  },
  {
   "cell_type": "code",
   "execution_count": 51,
   "id": "acf695a7-edb4-4508-a295-3d889a65eb0e",
   "metadata": {},
   "outputs": [
    {
     "data": {
      "text/plain": [
       "['24082FB647D239723187E6F85048217A',\n",
       " '01D0D178E3E06210880F2DFD706A31B0',\n",
       " '72A763ABA375618BE5D589495C23999E',\n",
       " '49FB8ED210ACB2B9FDB12C1E927F2347']"
      ]
     },
     "execution_count": 51,
     "metadata": {},
     "output_type": "execute_result"
    }
   ],
   "source": [
    "wh = driver.window_handles # coleta quais são as janelas ativas e as devolve numa lista\n",
    "wh"
   ]
  },
  {
   "cell_type": "code",
   "execution_count": 55,
   "id": "be3e5081-cd86-4a8f-a394-b3422bebc3dc",
   "metadata": {},
   "outputs": [],
   "source": [
    "driver.switch_to.window(wh[2])"
   ]
  },
  {
   "cell_type": "markdown",
   "id": "b96627bf-e1bd-4a48-95aa-6e34018daa30",
   "metadata": {},
   "source": [
    "## Collecting a table from an HTML"
   ]
  },
  {
   "cell_type": "code",
   "execution_count": 57,
   "id": "77306a4a-d97e-4162-9002-68d26af12cc4",
   "metadata": {},
   "outputs": [
    {
     "name": "stderr",
     "output_type": "stream",
     "text": [
      "C:\\Users\\Lucas Rezende\\AppData\\Local\\Temp\\ipykernel_9504\\867986884.py:13: FutureWarning: Passing literal html to 'read_html' is deprecated and will be removed in a future version. To read from a literal string, wrap it in a 'StringIO' object.\n",
      "  df = pd.read_html(str(soup))[0] # passa a tabela para o pandas em uma lista de data framas\n"
     ]
    },
    {
     "data": {
      "text/html": [
       "<div>\n",
       "<style scoped>\n",
       "    .dataframe tbody tr th:only-of-type {\n",
       "        vertical-align: middle;\n",
       "    }\n",
       "\n",
       "    .dataframe tbody tr th {\n",
       "        vertical-align: top;\n",
       "    }\n",
       "\n",
       "    .dataframe thead th {\n",
       "        text-align: right;\n",
       "    }\n",
       "</style>\n",
       "<table border=\"1\" class=\"dataframe\">\n",
       "  <thead>\n",
       "    <tr style=\"text-align: right;\">\n",
       "      <th></th>\n",
       "      <th>Matrícula</th>\n",
       "      <th>Estudante</th>\n",
       "      <th>Email</th>\n",
       "      <th>Turma(s)</th>\n",
       "      <th>Atividade(s)</th>\n",
       "      <th>Unidades iniciadas</th>\n",
       "      <th>Unidades em andamento</th>\n",
       "      <th>Unidades concluídas</th>\n",
       "      <th>Horas estimadas</th>\n",
       "    </tr>\n",
       "  </thead>\n",
       "  <tbody>\n",
       "  </tbody>\n",
       "</table>\n",
       "</div>"
      ],
      "text/plain": [
       "Empty DataFrame\n",
       "Columns: [Matrícula, Estudante, Email, Turma(s), Atividade(s), Unidades iniciadas, Unidades em andamento, Unidades concluídas, Horas estimadas]\n",
       "Index: []"
      ]
     },
     "execution_count": 57,
     "metadata": {},
     "output_type": "execute_result"
    }
   ],
   "source": [
    "import pandas as pd\n",
    "from bs4 import BeautifulSoup as bs\n",
    "\n",
    "# Primeiro, localize uma tabela no HTML\n",
    "\n",
    "table_element = wait4elements('.dataTables_scroll')[0] # primeiro coletamos o elemento que contém a tabela\n",
    "\n",
    "table_html = table_element.get_attribute('outerHTML') # depois coletamos o html\n",
    "\n",
    "soup = bs(table_html, 'html.parser') # formata a tabela\n",
    "\n",
    "\n",
    "df = pd.read_html(str(soup))[0] # passa a tabela para o pandas em uma lista de data framas\n",
    "\n",
    "df.to_clipboard(index=False, header=False) # podemos usar a tabela como ctrl + v agora\n",
    "\n",
    "df[0:]"
   ]
  }
 ],
 "metadata": {
  "kernelspec": {
   "display_name": "Python 3 (ipykernel)",
   "language": "python",
   "name": "python3"
  },
  "language_info": {
   "codemirror_mode": {
    "name": "ipython",
    "version": 3
   },
   "file_extension": ".py",
   "mimetype": "text/x-python",
   "name": "python",
   "nbconvert_exporter": "python",
   "pygments_lexer": "ipython3",
   "version": "3.12.3"
  }
 },
 "nbformat": 4,
 "nbformat_minor": 5
}
