{
 "cells": [
  {
   "cell_type": "code",
   "execution_count": 1,
   "id": "0e4b7d88-b471-46b4-b8b5-c2fb0b996868",
   "metadata": {},
   "outputs": [],
   "source": [
    "import pandas as pd\n",
    "import yfinance as yf"
   ]
  },
  {
   "cell_type": "markdown",
   "id": "635f4942-5e4c-44c9-8c41-889f1599ca3b",
   "metadata": {},
   "source": [
    "# Análise de Criptomoedas"
   ]
  },
  {
   "cell_type": "markdown",
   "id": "151da34b-caf2-465a-836e-1865293d3006",
   "metadata": {},
   "source": [
    "## Bitcoin"
   ]
  },
  {
   "cell_type": "code",
   "execution_count": null,
   "id": "24dad123-5f27-48de-b0ba-ebefb9a4919f",
   "metadata": {},
   "outputs": [],
   "source": []
  },
  {
   "cell_type": "code",
   "execution_count": null,
   "id": "50e19823-43aa-42ec-979a-9f16873c96da",
   "metadata": {},
   "outputs": [],
   "source": []
  },
  {
   "cell_type": "code",
   "execution_count": null,
   "id": "7d63ace0-7809-416f-94d2-cbf0c798754b",
   "metadata": {},
   "outputs": [],
   "source": []
  }
 ],
 "metadata": {
  "kernelspec": {
   "display_name": "Python 3 (ipykernel)",
   "language": "python",
   "name": "python3"
  },
  "language_info": {
   "codemirror_mode": {
    "name": "ipython",
    "version": 3
   },
   "file_extension": ".py",
   "mimetype": "text/x-python",
   "name": "python",
   "nbconvert_exporter": "python",
   "pygments_lexer": "ipython3",
   "version": "3.12.3"
  }
 },
 "nbformat": 4,
 "nbformat_minor": 5
}
